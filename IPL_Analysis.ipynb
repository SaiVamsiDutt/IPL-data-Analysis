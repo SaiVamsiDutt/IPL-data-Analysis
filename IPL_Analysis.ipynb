{
  "nbformat": 4,
  "nbformat_minor": 0,
  "metadata": {
    "colab": {
      "name": "IPL_543.ipynb",
      "provenance": [],
      "collapsed_sections": [],
      "toc_visible": true
    },
    "kernelspec": {
      "name": "python3",
      "display_name": "Python 3"
    },
    "accelerator": "GPU"
  },
  "cells": [
    {
      "cell_type": "code",
      "metadata": {
        "id": "FPOa88kxXn_u",
        "colab_type": "code",
        "outputId": "57d39173-90a7-4148-eeab-e7a82e1f5bbc",
        "colab": {
          "resources": {
            "http://localhost:8080/nbextensions/google.colab/files.js": {
              "data": "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",
              "ok": true,
              "headers": [
                [
                  "content-type",
                  "application/javascript"
                ]
              ],
              "status": 200,
              "status_text": ""
            }
          },
          "base_uri": "https://localhost:8080/",
          "height": 108
        }
      },
      "source": [
        "from google.colab import files\n",
        "uploaded = files.upload()"
      ],
      "execution_count": 0,
      "outputs": [
        {
          "output_type": "display_data",
          "data": {
            "text/html": [
              "\n",
              "     <input type=\"file\" id=\"files-a94016c9-3083-4045-ae9f-a407eed18f19\" name=\"files[]\" multiple disabled />\n",
              "     <output id=\"result-a94016c9-3083-4045-ae9f-a407eed18f19\">\n",
              "      Upload widget is only available when the cell has been executed in the\n",
              "      current browser session. Please rerun this cell to enable.\n",
              "      </output>\n",
              "      <script src=\"/nbextensions/google.colab/files.js\"></script> "
            ],
            "text/plain": [
              "<IPython.core.display.HTML object>"
            ]
          },
          "metadata": {
            "tags": []
          }
        },
        {
          "output_type": "stream",
          "text": [
            "Saving deliveries.csv to deliveries.csv\n",
            "Saving matches.csv to matches.csv\n"
          ],
          "name": "stdout"
        }
      ]
    },
    {
      "cell_type": "code",
      "metadata": {
        "id": "H1iV8F3RXwHs",
        "colab_type": "code",
        "colab": {}
      },
      "source": [
        "import numpy as np \n",
        "import pandas as pd \n",
        "import os\n",
        "import matplotlib.pyplot as plt \n",
        "%matplotlib inline\n",
        "import seaborn as sns\n",
        "from sklearn.model_selection import train_test_split\n",
        "from sklearn.model_selection import cross_val_score\n",
        "from sklearn.svm import SVC\n",
        "from sklearn.ensemble import RandomForestClassifier\n",
        "from sklearn import metrics\n",
        "from sklearn.neighbors import KNeighborsClassifier\n",
        "from sklearn.tree import DecisionTreeClassifier\n",
        "from sklearn.linear_model import LogisticRegression"
      ],
      "execution_count": 0,
      "outputs": []
    },
    {
      "cell_type": "code",
      "metadata": {
        "id": "z2owvPuAjXm7",
        "colab_type": "code",
        "colab": {}
      },
      "source": [
        "deliv = pd.read_csv(\"deliveries.csv\")deliv = pd.read_csv(\"deliveries.csv\")\n",
        "mat  = pd.read_csv(\"matches.csv\")"
      ],
      "execution_count": 0,
      "outputs": []
    },
    {
      "cell_type": "markdown",
      "metadata": {
        "id": "TgtBWd-3gaiV",
        "colab_type": "text"
      },
      "source": [
        "## **Cleaning and Transformtion**"
      ]
    },
    {
      "cell_type": "code",
      "metadata": {
        "id": "ay5Cdzmdk81c",
        "colab_type": "code",
        "colab": {}
      },
      "source": [
        "mat.drop('umpire3',axis=1,inplace=True)\n",
        "mat=mat.replace('Rising Pune Supergiants','Rising Pune Supergiant')\n",
        "deliv.fillna(0,inplace=True)\n",
        "mat['winner'].fillna('Draw',inplace=True)\n",
        "mat['city'].fillna('Mumbai',inplace=True)\n",
        "mat['player_of_match'].fillna('No one',inplace=True)\n",
        "mat['umpire2'].fillna('SJA Taufel',inplace=True)\n",
        "mat['umpire1'].fillna('HDPK Dharmasena',inplace=True)\n",
        "#mat.columns = mat.columns.str.strip()\n",
        "deliv.rename(columns={'match_id': 'id'}, inplace=True)"
      ],
      "execution_count": 0,
      "outputs": []
    },
    {
      "cell_type": "markdown",
      "metadata": {
        "id": "elhIob1IC5cx",
        "colab_type": "text"
      },
      "source": [
        "## Plot the following graph"
      ]
    },
    {
      "cell_type": "markdown",
      "metadata": {
        "id": "J2cnujs7iAQb",
        "colab_type": "text"
      },
      "source": [
        "**Maximum Toss Winners**"
      ]
    },
    {
      "cell_type": "code",
      "metadata": {
        "id": "lu0iemupohcR",
        "colab_type": "code",
        "outputId": "8c3ba736-e8ea-4d19-8e4a-728a1cf43e2a",
        "colab": {
          "base_uri": "https://localhost:8080/",
          "height": 458
        }
      },
      "source": [
        "plt.subplots(figsize=(8,5))\n",
        "ax=mat['toss_winner'].value_counts().plot.bar(width=0.5)\n",
        "for p in ax.patches:\n",
        "    ax.annotate(format(p.get_height()), (p.get_x()+0.15, p.get_height()+1))\n",
        "plt.show()"
      ],
      "execution_count": 0,
      "outputs": [
        {
          "output_type": "display_data",
          "data": {
            "image/png": "[encoded data removed]",
            "text/plain": [
              "<Figure size 576x360 with 1 Axes>"
            ]
          },
          "metadata": {
            "tags": []
          }
        }
      ]
    },
    {
      "cell_type": "markdown",
      "metadata": {
        "id": "3eAl_ipjg571",
        "colab_type": "text"
      },
      "source": [
        "**Toss Decision wrt Season**"
      ]
    },
    {
      "cell_type": "code",
      "metadata": {
        "id": "J0ct1W8mtl9a",
        "colab_type": "code",
        "outputId": "9588503b-eede-4c9e-974d-1ca9beee650d",
        "colab": {
          "base_uri": "https://localhost:8080/",
          "height": 392
        }
      },
      "source": [
        "plt.subplots(figsize=(10,6))\n",
        "sns.countplot(x='season',hue='toss_decision',data=mat)\n",
        "plt.show()"
      ],
      "execution_count": 0,
      "outputs": [
        {
          "output_type": "display_data",
          "data": {
            "image/png": "[encoded data removed]",
            "text/plain": [
              "<Figure size 720x432 with 1 Axes>"
            ]
          },
          "metadata": {
            "tags": []
          }
        }
      ]
    },
    {
      "cell_type": "markdown",
      "metadata": {
        "id": "ug5d1m1Eg_Jw",
        "colab_type": "text"
      },
      "source": [
        "**Toss Decision wrt Team**"
      ]
    },
    {
      "cell_type": "code",
      "metadata": {
        "id": "XGN6ygb0uDqZ",
        "colab_type": "code",
        "outputId": "8b1b3a24-aa9e-452a-9868-48909b0304cc",
        "colab": {
          "base_uri": "https://localhost:8080/",
          "height": 412
        }
      },
      "source": [
        "plt.subplots(figsize=(30,6))\n",
        "sns.countplot(x='team1',hue='toss_decision',data=mat)\n",
        "plt.show()"
      ],
      "execution_count": 0,
      "outputs": [
        {
          "output_type": "display_data",
          "data": {
            "image/png": "[encoded data removed]",
            "text/plain": [
              "<Figure size 2160x432 with 1 Axes>"
            ]
          },
          "metadata": {
            "tags": []
          }
        }
      ]
    },
    {
      "cell_type": "markdown",
      "metadata": {
        "id": "iabdMfSZDGWC",
        "colab_type": "text"
      },
      "source": [
        "**Maximum Wins**"
      ]
    },
    {
      "cell_type": "code",
      "metadata": {
        "id": "LDdm9M6a-jNX",
        "colab_type": "code",
        "outputId": "8502375a-7a04-4b5b-93d6-87c00b0ba8c6",
        "colab": {
          "base_uri": "https://localhost:8080/",
          "height": 512
        }
      },
      "source": [
        "'''\n",
        "mat['winner'].value_counts().plot.bar()\n",
        "plt.title('Maximum WInners')\n",
        "plt.xlabel('Teams')\n",
        "plt.ylabel('Count')\n",
        "'''\n",
        "plt.subplots(figsize=(8,6))\n",
        "wnrs = mat['winner'].value_counts().plot.bar(width=0.5)\n",
        "for x in wnrs.patches:\n",
        "  wnrs.annotate(format(x.get_height()),(x.get_x()+0.1,x.get_height()+1))\n",
        "plt.show()"
      ],
      "execution_count": 0,
      "outputs": [
        {
          "output_type": "display_data",
          "data": {
            "image/png": "[encoded data removed]",
            "text/plain": [
              "<Figure size 576x432 with 1 Axes>"
            ]
          },
          "metadata": {
            "tags": []
          }
        }
      ]
    },
    {
      "cell_type": "markdown",
      "metadata": {
        "id": "6hGm9oo-2aRv",
        "colab_type": "text"
      },
      "source": [
        "**Total Matches vs Wins for Teams**"
      ]
    },
    {
      "cell_type": "code",
      "metadata": {
        "id": "nczTvTRE2c7k",
        "colab_type": "code",
        "outputId": "77cb6883-9f59-4492-d3d6-22d888ca7fec",
        "colab": {
          "base_uri": "https://localhost:8080/",
          "height": 412
        }
      },
      "source": [
        "plt.subplots(figsize=(30,6))\n",
        "sns.countplot(x='toss_winner',hue='winner',data=mat)\n",
        "plt.show()"
      ],
      "execution_count": 0,
      "outputs": [
        {
          "output_type": "display_data",
          "data": {
            "image/png": "[encoded data removed]",
            "text/plain": [
              "<Figure size 2160x432 with 1 Axes>"
            ]
          },
          "metadata": {
            "tags": []
          }
        }
      ]
    },
    {
      "cell_type": "markdown",
      "metadata": {
        "id": "tYqv6KXthnK5",
        "colab_type": "text"
      },
      "source": [
        "**Is Toss Winner Also the Match Winner?**"
      ]
    },
    {
      "cell_type": "code",
      "metadata": {
        "id": "tn8Ahp5b-k1g",
        "colab_type": "code",
        "outputId": "d89e5eaf-a5aa-48f5-c159-b99a0c398864",
        "colab": {
          "base_uri": "https://localhost:8080/",
          "height": 71
        }
      },
      "source": [
        "'''\n",
        "c2 = mat[(mat.winner == mat.toss_winner)]\n",
        "c2['winner'].value_counts().plot.bar()\n",
        "plt.title('Percentage of Winning a match if toss is won')\n",
        "plt.xlabel('Teams')\n",
        "plt.ylabel('Percentage')\n",
        "'''\n",
        "#plt.subplots(figsize=(8,6))\n",
        "c2 = mat[(mat.winner == mat.toss_winner)]\n",
        "sall = len(mat.index)\n",
        "sm=len(c2.index)\n",
        "print(\"percentage of winning match if toss is won:-\",(sm/sall)*100)\n",
        "'''\n",
        "wnrs = c2['winner'].value_counts().plot.bar(width=0.5)\n",
        "for x in wnrs.patches:\n",
        "  wnrs.annotate(format(x.get_height()),(x.get_x()+0.1,x.get_height()+1))\n",
        "plt.show()\n",
        "'''"
      ],
      "execution_count": 0,
      "outputs": [
        {
          "output_type": "stream",
          "text": [
            "percentage of winning match if toss is won:- 51.100628930817614\n"
          ],
          "name": "stdout"
        },
        {
          "output_type": "execute_result",
          "data": {
            "text/plain": [
              "\"\\nwnrs = c2['winner'].value_counts().plot.bar(width=0.5)\\nfor x in wnrs.patches:\\n  wnrs.annotate(format(x.get_height()),(x.get_x()+0.1,x.get_height()+1))\\nplt.show()\\n\""
            ]
          },
          "metadata": {
            "tags": []
          },
          "execution_count": 13
        }
      ]
    },
    {
      "cell_type": "code",
      "metadata": {
        "id": "aw1aBv-DYdNv",
        "colab_type": "code",
        "colab": {}
      },
      "source": [
        "d2mat = mat[['id','season']]\n",
        "d2deliv = deliv[['id','batsman_runs']]\n",
        "d2 = pd.merge(d2mat,d2deliv,on='id',how='inner')"
      ],
      "execution_count": 0,
      "outputs": []
    },
    {
      "cell_type": "markdown",
      "metadata": {
        "id": "tDe6b4aUhg9L",
        "colab_type": "text"
      },
      "source": [
        "**Sixes and Fours Across the Season**"
      ]
    },
    {
      "cell_type": "code",
      "metadata": {
        "colab_type": "code",
        "id": "ImB880qh77nw",
        "colab": {}
      },
      "source": [
        "d24 = d2[d2.batsman_runs == 4]\n",
        "d26 = d2[d2.batsman_runs == 6]"
      ],
      "execution_count": 0,
      "outputs": []
    },
    {
      "cell_type": "code",
      "metadata": {
        "id": "bTGqPkuMfm5a",
        "colab_type": "code",
        "outputId": "6b694c5a-165d-4583-f751-54d73feec725",
        "colab": {
          "base_uri": "https://localhost:8080/",
          "height": 410
        }
      },
      "source": [
        "plt.subplots(figsize=(9,6))\n",
        "d4 = d24['season'].value_counts().plot.bar(width=0.5)\n",
        "for x in d4.patches:\n",
        "  d4.annotate(format(x.get_height()),(x.get_x()+0.01,x.get_height()+1.05))\n",
        "plt.show()\n",
        "'''\n",
        "plt.title('Fours in a season')\n",
        "plt.xlabel('seasons')\n",
        "plt.ylabel('Count')\n",
        "'''"
      ],
      "execution_count": 0,
      "outputs": [
        {
          "output_type": "display_data",
          "data": {
            "image/png": "[encoded data removed]",
            "text/plain": [
              "<Figure size 648x432 with 1 Axes>"
            ]
          },
          "metadata": {
            "tags": []
          }
        },
        {
          "output_type": "execute_result",
          "data": {
            "text/plain": [
              "\"\\nplt.title('Fours in a season')\\nplt.xlabel('seasons')\\nplt.ylabel('Count')\\n\""
            ]
          },
          "metadata": {
            "tags": []
          },
          "execution_count": 16
        }
      ]
    },
    {
      "cell_type": "code",
      "metadata": {
        "id": "ipmKBYeegkPb",
        "colab_type": "code",
        "outputId": "84dc1408-2b9f-4c3e-c086-3e2493bf6fa0",
        "colab": {
          "base_uri": "https://localhost:8080/",
          "height": 436
        }
      },
      "source": [
        "plt.subplots(figsize=(9,6))\n",
        "d6 = d26['season'].value_counts().plot.bar(width=0.5)\n",
        "for x in d6.patches:\n",
        "  d6.annotate(format(x.get_height()),(x.get_x()+0.01,x.get_height()+1.5))\n",
        "plt.title('Sixes in a season')\n",
        "plt.xlabel('seasons')\n",
        "plt.ylabel('Count')"
      ],
      "execution_count": 0,
      "outputs": [
        {
          "output_type": "execute_result",
          "data": {
            "text/plain": [
              "Text(0, 0.5, 'Count')"
            ]
          },
          "metadata": {
            "tags": []
          },
          "execution_count": 17
        },
        {
          "output_type": "display_data",
          "data": {
            "image/png": "[encoded data removed]",
            "text/plain": [
              "<Figure size 648x432 with 1 Axes>"
            ]
          },
          "metadata": {
            "tags": []
          }
        }
      ]
    },
    {
      "cell_type": "markdown",
      "metadata": {
        "id": "TcjQABDihd-t",
        "colab_type": "text"
      },
      "source": [
        "**Runs Per Over By Teams Across Seasons**"
      ]
    },
    {
      "cell_type": "code",
      "metadata": {
        "id": "C83gQFsChdql",
        "colab_type": "code",
        "outputId": "37094c55-8aa5-41ff-dc09-d46c53216273",
        "colab": {
          "base_uri": "https://localhost:8080/",
          "height": 629
        }
      },
      "source": [
        "rpo = deliv.pivot_table(index=['over'],columns='batting_team',values='total_runs',aggfunc=sum)\n",
        "mpbt=pd.concat([mat['team1'],mat['team2']])\n",
        "mpbt=mpbt.value_counts().reset_index()\n",
        "mpbt.columns=['Team','Total Matches']\n",
        "mpbt['wins']=mat['winner'].value_counts().reset_index()['winner']\n",
        "mpbt.set_index('Team',inplace=True)\n",
        "rpo[(mpbt[mpbt['Total Matches']>50].index)].plot(color=[\"b\", \"r\", \"#Ffb6b2\", \"g\",'brown','y','#6666ff','black','#FFA500']) \n",
        "x=[1,2,3,4,5,6,7,8,9,10,11,12,13,14,15,16,17,18,19,20]\n",
        "plt.xticks(x)\n",
        "plt.ylabel('total runs scored')\n",
        "fig=plt.gcf()\n",
        "fig.set_size_inches(16,10)\n",
        "plt.show()\n"
      ],
      "execution_count": 0,
      "outputs": [
        {
          "output_type": "display_data",
          "data": {
            "image/png": "[encoded data removed]",
            "text/plain": [
              "<Figure size 1152x720 with 1 Axes>"
            ]
          },
          "metadata": {
            "tags": []
          }
        }
      ]
    },
    {
      "cell_type": "markdown",
      "metadata": {
        "id": "rahzPcaCkOlv",
        "colab_type": "text"
      },
      "source": [
        "**Maximum Man Of Matches**"
      ]
    },
    {
      "cell_type": "code",
      "metadata": {
        "id": "kauqKPSbkvcM",
        "colab_type": "code",
        "outputId": "4872de10-fd2c-447e-d128-e285cd0b27b7",
        "colab": {
          "base_uri": "https://localhost:8080/",
          "height": 369
        }
      },
      "source": [
        "f2 = mat['player_of_match'].value_counts().head().plot.bar()\n",
        "#ax = matches['player_of_match'].value_counts().head(10).plot.bar(width=.8, color=sns.color_palette('inferno',10))\n",
        "plt.title(\"Maximum man of the matches\")\n",
        "plt.xlabel('player of match') \n",
        "plt.ylabel('count')"
      ],
      "execution_count": 0,
      "outputs": [
        {
          "output_type": "execute_result",
          "data": {
            "text/plain": [
              "Text(0, 0.5, 'count')"
            ]
          },
          "metadata": {
            "tags": []
          },
          "execution_count": 19
        },
        {
          "output_type": "display_data",
          "data": {
            "image/png": "[encoded data removed]",
            "text/plain": [
              "<Figure size 432x288 with 1 Axes>"
            ]
          },
          "metadata": {
            "tags": []
          }
        }
      ]
    },
    {
      "cell_type": "markdown",
      "metadata": {
        "id": "YtQcZfxjDShN",
        "colab_type": "text"
      },
      "source": [
        "### Create a table with the following data also visualize if possible:"
      ]
    },
    {
      "cell_type": "markdown",
      "metadata": {
        "id": "yhRCWCXbDeYX",
        "colab_type": "text"
      },
      "source": [
        "**Team Comparator**"
      ]
    },
    {
      "cell_type": "code",
      "metadata": {
        "id": "ZhAkDLILDud6",
        "colab_type": "code",
        "outputId": "2ec05605-0d9c-46a5-f6ee-a50f457b88ea",
        "colab": {
          "base_uri": "https://localhost:8080/",
          "height": 80
        }
      },
      "source": [
        "a = 'Mumbai Indians'\n",
        "b = 'Chennai Super Kings'\n",
        "mt1=mat[(((mat['team1']==a)&(mat['team2']==b))|((mat['team1']==b)&(mat['team2']==a)))]\n",
        "mt1 = mt1[['team1','team2','winner']]\n",
        "tc = mt1.groupby(['team1','team2','winner']).size().reset_index().rename(columns={0:'count'})\n",
        "tc.loc[0,'count'] = tc.loc[0,'count'] + tc.loc[2,'count']\n",
        "tc.loc[1,'count'] = tc.loc[1,'count'] + tc.loc[3,'count']\n",
        "tc.loc[0,'team1_wins'] = tc.loc[0,'count']\n",
        "tc.loc[0,'team2_wins'] = tc.loc[1,'count']\n",
        "tc.drop(['winner','count'],axis=1,inplace=True)\n",
        "tc = tc[:1]\n",
        "tc"
      ],
      "execution_count": 0,
      "outputs": [
        {
          "output_type": "execute_result",
          "data": {
            "text/html": [
              "<div>\n",
              "<style scoped>\n",
              "    .dataframe tbody tr th:only-of-type {\n",
              "        vertical-align: middle;\n",
              "    }\n",
              "\n",
              "    .dataframe tbody tr th {\n",
              "        vertical-align: top;\n",
              "    }\n",
              "\n",
              "    .dataframe thead th {\n",
              "        text-align: right;\n",
              "    }\n",
              "</style>\n",
              "<table border=\"1\" class=\"dataframe\">\n",
              "  <thead>\n",
              "    <tr style=\"text-align: right;\">\n",
              "      <th></th>\n",
              "      <th>team1</th>\n",
              "      <th>team2</th>\n",
              "      <th>team1_wins</th>\n",
              "      <th>team2_wins</th>\n",
              "    </tr>\n",
              "  </thead>\n",
              "  <tbody>\n",
              "    <tr>\n",
              "      <th>0</th>\n",
              "      <td>Chennai Super Kings</td>\n",
              "      <td>Mumbai Indians</td>\n",
              "      <td>10.0</td>\n",
              "      <td>12.0</td>\n",
              "    </tr>\n",
              "  </tbody>\n",
              "</table>\n",
              "</div>"
            ],
            "text/plain": [
              "                 team1           team2  team1_wins  team2_wins\n",
              "0  Chennai Super Kings  Mumbai Indians        10.0        12.0"
            ]
          },
          "metadata": {
            "tags": []
          },
          "execution_count": 20
        }
      ]
    },
    {
      "cell_type": "markdown",
      "metadata": {
        "id": "LTVCdweaDu4c",
        "colab_type": "text"
      },
      "source": [
        "**Matches Won By A Team Against Other Teams**"
      ]
    },
    {
      "cell_type": "code",
      "metadata": {
        "id": "PBsf_i6nwPFC",
        "colab_type": "code",
        "outputId": "fd06e4e8-ece8-474e-a4f3-074aba2b1da6",
        "colab": {
          "base_uri": "https://localhost:8080/",
          "height": 54
        }
      },
      "source": [
        "'''\n",
        "def matwonagt(a):\n",
        "  team_l = ['Sunrisers Hyderabad','Mumbai Indians','Gujarat Lions','Rising Pune Supergiants','Royal Challengers Bangalore','Kolkata Knight Riders','Delhi Daredevils','Kings XI Punjab','Chennai Super Kings','Rajasthan Royals','Deccan Chargers','Kochi Tuskers Kerala','Pune Warriors']\n",
        "  team_l.remove(a)\n",
        "  teams = team_l.copy()\n",
        "  mt1=mat[((mat['team1']==a)|(mat['team2']==a))]\n",
        "  mt1 = mt1[['team1','team2','winner']]\n",
        "  mtag = mt1.groupby(['team1','team2','winner']).size().reset_index().rename(columns={0:'count'})\n",
        "  mtag\n",
        "  for i in range(0,len(mtag)):\n",
        "    if mtag.loc[i,'team1'] != a:\n",
        "      t = mtag.loc[i,'team1']\n",
        "      mtag.loc[i,'team1'] = mtag.loc[i,'team2']\n",
        "      mtag.loc[i,'team2'] = t\n",
        "  mtagg = mtag.groupby(['team1','team2'])['count'].sum().reset_index()\n",
        "  for i in range(0, len(mtagg),2):\n",
        "    mtagg.loc[i,'looses'] = mtagg.loc[i+1,'count']\n",
        "  #mtagg = mtagg.iloc[::2]\n",
        "  mtagg.rename(columns={'count':'wins'},inplace=True)\n",
        "  print(mtagg)\n",
        "matwonagt('Chennai Super Kings')\n",
        "'''"
      ],
      "execution_count": 0,
      "outputs": [
        {
          "output_type": "execute_result",
          "data": {
            "text/plain": [
              "\"\\ndef matwonagt(a):\\n  team_l = ['Sunrisers Hyderabad','Mumbai Indians','Gujarat Lions','Rising Pune Supergiants','Royal Challengers Bangalore','Kolkata Knight Riders','Delhi Daredevils','Kings XI Punjab','Chennai Super Kings','Rajasthan Royals','Deccan Chargers','Kochi Tuskers Kerala','Pune Warriors']\\n  team_l.remove(a)\\n  teams = team_l.copy()\\n  mt1=mat[((mat['team1']==a)|(mat['team2']==a))]\\n  mt1 = mt1[['team1','team2','winner']]\\n  mtag = mt1.groupby(['team1','team2','winner']).size().reset_index().rename(columns={0:'count'})\\n  mtag\\n  for i in range(0,len(mtag)):\\n    if mtag.loc[i,'team1'] != a:\\n      t = mtag.loc[i,'team1']\\n      mtag.loc[i,'team1'] = mtag.loc[i,'team2']\\n      mtag.loc[i,'team2'] = t\\n  mtagg = mtag.groupby(['team1','team2'])['count'].sum().reset_index()\\n  for i in range(0, len(mtagg),2):\\n    mtagg.loc[i,'looses'] = mtagg.loc[i+1,'count']\\n  #mtagg = mtagg.iloc[::2]\\n  mtagg.rename(columns={'count':'wins'},inplace=True)\\n  print(mtagg)\\nmatwonagt('Chennai Super Kings')\\n\""
            ]
          },
          "metadata": {
            "tags": []
          },
          "execution_count": 21
        }
      ]
    },
    {
      "cell_type": "code",
      "metadata": {
        "id": "isDyaEv0Hmti",
        "colab_type": "code",
        "outputId": "5358bb4a-a918-4cbe-fc78-1adeb5b56111",
        "colab": {
          "base_uri": "https://localhost:8080/",
          "height": 359
        }
      },
      "source": [
        "a = 'Chennai Super Kings'\n",
        "team_l = ['Sunrisers Hyderabad','Mumbai Indians','Gujarat Lions','Rising Pune Supergiants','Royal Challengers Bangalore','Kolkata Knight Riders','Delhi Daredevils','Kings XI Punjab','Chennai Super Kings','Rajasthan Royals','Deccan Chargers','Kochi Tuskers Kerala','Pune Warriors']\n",
        "team_l.remove(a)\n",
        "teams = team_l.copy()\n",
        "mt1=mat[((mat['team1']==a)|(mat['team2']==a))]\n",
        "mt1 = mt1[['team1','team2','winner']]\n",
        "mtag = mt1.groupby(['team1','team2','winner']).size().reset_index().rename(columns={0:'count'})\n",
        "mtag\n",
        "for i in range(0,len(mtag)):\n",
        "  if mtag.loc[i,'team1'] != a:\n",
        "    t = mtag.loc[i,'team1']\n",
        "    mtag.loc[i,'team1'] = mtag.loc[i,'team2']\n",
        "    mtag.loc[i,'team2'] = t\n",
        "mtagg = mtag.groupby(['team1','team2','winner'])['count'].sum().reset_index()\n",
        "for i in range(0, len(mtagg),2):\n",
        "  mtagg.loc[i,'looses'] = mtagg.loc[i+1,'count']\n",
        "mtagg = mtagg.iloc[::2]\n",
        "mtagg"
      ],
      "execution_count": 0,
      "outputs": [
        {
          "output_type": "execute_result",
          "data": {
            "text/html": [
              "<div>\n",
              "<style scoped>\n",
              "    .dataframe tbody tr th:only-of-type {\n",
              "        vertical-align: middle;\n",
              "    }\n",
              "\n",
              "    .dataframe tbody tr th {\n",
              "        vertical-align: top;\n",
              "    }\n",
              "\n",
              "    .dataframe thead th {\n",
              "        text-align: right;\n",
              "    }\n",
              "</style>\n",
              "<table border=\"1\" class=\"dataframe\">\n",
              "  <thead>\n",
              "    <tr style=\"text-align: right;\">\n",
              "      <th></th>\n",
              "      <th>team1</th>\n",
              "      <th>team2</th>\n",
              "      <th>winner</th>\n",
              "      <th>count</th>\n",
              "      <th>looses</th>\n",
              "    </tr>\n",
              "  </thead>\n",
              "  <tbody>\n",
              "    <tr>\n",
              "      <th>0</th>\n",
              "      <td>Chennai Super Kings</td>\n",
              "      <td>Deccan Chargers</td>\n",
              "      <td>Chennai Super Kings</td>\n",
              "      <td>6</td>\n",
              "      <td>4.0</td>\n",
              "    </tr>\n",
              "    <tr>\n",
              "      <th>2</th>\n",
              "      <td>Chennai Super Kings</td>\n",
              "      <td>Delhi Daredevils</td>\n",
              "      <td>Chennai Super Kings</td>\n",
              "      <td>11</td>\n",
              "      <td>5.0</td>\n",
              "    </tr>\n",
              "    <tr>\n",
              "      <th>4</th>\n",
              "      <td>Chennai Super Kings</td>\n",
              "      <td>Kings XI Punjab</td>\n",
              "      <td>Chennai Super Kings</td>\n",
              "      <td>10</td>\n",
              "      <td>7.0</td>\n",
              "    </tr>\n",
              "    <tr>\n",
              "      <th>6</th>\n",
              "      <td>Chennai Super Kings</td>\n",
              "      <td>Kochi Tuskers Kerala</td>\n",
              "      <td>Chennai Super Kings</td>\n",
              "      <td>1</td>\n",
              "      <td>1.0</td>\n",
              "    </tr>\n",
              "    <tr>\n",
              "      <th>8</th>\n",
              "      <td>Chennai Super Kings</td>\n",
              "      <td>Kolkata Knight Riders</td>\n",
              "      <td>Chennai Super Kings</td>\n",
              "      <td>10</td>\n",
              "      <td>6.0</td>\n",
              "    </tr>\n",
              "    <tr>\n",
              "      <th>10</th>\n",
              "      <td>Chennai Super Kings</td>\n",
              "      <td>Mumbai Indians</td>\n",
              "      <td>Chennai Super Kings</td>\n",
              "      <td>10</td>\n",
              "      <td>12.0</td>\n",
              "    </tr>\n",
              "    <tr>\n",
              "      <th>12</th>\n",
              "      <td>Chennai Super Kings</td>\n",
              "      <td>Pune Warriors</td>\n",
              "      <td>Chennai Super Kings</td>\n",
              "      <td>4</td>\n",
              "      <td>2.0</td>\n",
              "    </tr>\n",
              "    <tr>\n",
              "      <th>14</th>\n",
              "      <td>Chennai Super Kings</td>\n",
              "      <td>Rajasthan Royals</td>\n",
              "      <td>Chennai Super Kings</td>\n",
              "      <td>11</td>\n",
              "      <td>6.0</td>\n",
              "    </tr>\n",
              "    <tr>\n",
              "      <th>16</th>\n",
              "      <td>Chennai Super Kings</td>\n",
              "      <td>Royal Challengers Bangalore</td>\n",
              "      <td>Chennai Super Kings</td>\n",
              "      <td>12</td>\n",
              "      <td>7.0</td>\n",
              "    </tr>\n",
              "    <tr>\n",
              "      <th>18</th>\n",
              "      <td>Chennai Super Kings</td>\n",
              "      <td>Sunrisers Hyderabad</td>\n",
              "      <td>Chennai Super Kings</td>\n",
              "      <td>4</td>\n",
              "      <td>2.0</td>\n",
              "    </tr>\n",
              "  </tbody>\n",
              "</table>\n",
              "</div>"
            ],
            "text/plain": [
              "                  team1                        team2  ... count  looses\n",
              "0   Chennai Super Kings              Deccan Chargers  ...     6     4.0\n",
              "2   Chennai Super Kings             Delhi Daredevils  ...    11     5.0\n",
              "4   Chennai Super Kings              Kings XI Punjab  ...    10     7.0\n",
              "6   Chennai Super Kings         Kochi Tuskers Kerala  ...     1     1.0\n",
              "8   Chennai Super Kings        Kolkata Knight Riders  ...    10     6.0\n",
              "10  Chennai Super Kings               Mumbai Indians  ...    10    12.0\n",
              "12  Chennai Super Kings                Pune Warriors  ...     4     2.0\n",
              "14  Chennai Super Kings             Rajasthan Royals  ...    11     6.0\n",
              "16  Chennai Super Kings  Royal Challengers Bangalore  ...    12     7.0\n",
              "18  Chennai Super Kings          Sunrisers Hyderabad  ...     4     2.0\n",
              "\n",
              "[10 rows x 5 columns]"
            ]
          },
          "metadata": {
            "tags": []
          },
          "execution_count": 22
        }
      ]
    },
    {
      "cell_type": "markdown",
      "metadata": {
        "id": "N8aAv89OnG9-",
        "colab_type": "text"
      },
      "source": [
        "**200+ Scores**"
      ]
    },
    {
      "cell_type": "code",
      "metadata": {
        "id": "X6_6214hwCqn",
        "colab_type": "code",
        "outputId": "0f7ab199-d9fd-4878-ba1f-9e0b3a985893",
        "colab": {
          "base_uri": "https://localhost:8080/",
          "height": 204
        }
      },
      "source": [
        "sc = deliv.groupby(['id','batting_team'])['total_runs'].sum().reset_index()\n",
        "plus = sc[sc['total_runs']>200]\n",
        "plus200 = plus.sort_values(by='total_runs',ascending = False)\n",
        "plus200.head()"
      ],
      "execution_count": 0,
      "outputs": [
        {
          "output_type": "execute_result",
          "data": {
            "text/html": [
              "<div>\n",
              "<style scoped>\n",
              "    .dataframe tbody tr th:only-of-type {\n",
              "        vertical-align: middle;\n",
              "    }\n",
              "\n",
              "    .dataframe tbody tr th {\n",
              "        vertical-align: top;\n",
              "    }\n",
              "\n",
              "    .dataframe thead th {\n",
              "        text-align: right;\n",
              "    }\n",
              "</style>\n",
              "<table border=\"1\" class=\"dataframe\">\n",
              "  <thead>\n",
              "    <tr style=\"text-align: right;\">\n",
              "      <th></th>\n",
              "      <th>id</th>\n",
              "      <th>batting_team</th>\n",
              "      <th>total_runs</th>\n",
              "    </tr>\n",
              "  </thead>\n",
              "  <tbody>\n",
              "    <tr>\n",
              "      <th>820</th>\n",
              "      <td>411</td>\n",
              "      <td>Royal Challengers Bangalore</td>\n",
              "      <td>263</td>\n",
              "    </tr>\n",
              "    <tr>\n",
              "      <th>1237</th>\n",
              "      <td>620</td>\n",
              "      <td>Royal Challengers Bangalore</td>\n",
              "      <td>248</td>\n",
              "    </tr>\n",
              "    <tr>\n",
              "      <th>410</th>\n",
              "      <td>206</td>\n",
              "      <td>Chennai Super Kings</td>\n",
              "      <td>246</td>\n",
              "    </tr>\n",
              "    <tr>\n",
              "      <th>120</th>\n",
              "      <td>61</td>\n",
              "      <td>Chennai Super Kings</td>\n",
              "      <td>240</td>\n",
              "    </tr>\n",
              "    <tr>\n",
              "      <th>1121</th>\n",
              "      <td>562</td>\n",
              "      <td>Royal Challengers Bangalore</td>\n",
              "      <td>235</td>\n",
              "    </tr>\n",
              "  </tbody>\n",
              "</table>\n",
              "</div>"
            ],
            "text/plain": [
              "       id                 batting_team  total_runs\n",
              "820   411  Royal Challengers Bangalore         263\n",
              "1237  620  Royal Challengers Bangalore         248\n",
              "410   206          Chennai Super Kings         246\n",
              "120    61          Chennai Super Kings         240\n",
              "1121  562  Royal Challengers Bangalore         235"
            ]
          },
          "metadata": {
            "tags": []
          },
          "execution_count": 23
        }
      ]
    },
    {
      "cell_type": "code",
      "metadata": {
        "id": "01oik6_HJk-P",
        "colab_type": "code",
        "outputId": "8856eb6f-43b1-494c-ffb3-78cac5256756",
        "colab": {
          "base_uri": "https://localhost:8080/",
          "height": 1754
        }
      },
      "source": [
        "plus2=deliv.groupby(['id', 'inning','batting_team','bowling_team'])['total_runs'].sum().reset_index()\n",
        "plus2.set_index(['id'],inplace=True)\n",
        "#plus2['total_runs'].max()\n",
        "plus2=plus2.rename(columns={'total_runs':'count'})\n",
        "plus2=plus2[plus2['count']>=200].groupby(['inning','batting_team','bowling_team']).count()\n",
        "plus2"
      ],
      "execution_count": 0,
      "outputs": [
        {
          "output_type": "execute_result",
          "data": {
            "text/html": [
              "<div>\n",
              "<style scoped>\n",
              "    .dataframe tbody tr th:only-of-type {\n",
              "        vertical-align: middle;\n",
              "    }\n",
              "\n",
              "    .dataframe tbody tr th {\n",
              "        vertical-align: top;\n",
              "    }\n",
              "\n",
              "    .dataframe thead th {\n",
              "        text-align: right;\n",
              "    }\n",
              "</style>\n",
              "<table border=\"1\" class=\"dataframe\">\n",
              "  <thead>\n",
              "    <tr style=\"text-align: right;\">\n",
              "      <th></th>\n",
              "      <th></th>\n",
              "      <th></th>\n",
              "      <th>count</th>\n",
              "    </tr>\n",
              "    <tr>\n",
              "      <th>inning</th>\n",
              "      <th>batting_team</th>\n",
              "      <th>bowling_team</th>\n",
              "      <th></th>\n",
              "    </tr>\n",
              "  </thead>\n",
              "  <tbody>\n",
              "    <tr>\n",
              "      <th rowspan=\"38\" valign=\"top\">1</th>\n",
              "      <th rowspan=\"7\" valign=\"top\">Chennai Super Kings</th>\n",
              "      <th>Delhi Daredevils</th>\n",
              "      <td>1</td>\n",
              "    </tr>\n",
              "    <tr>\n",
              "      <th>Kings XI Punjab</th>\n",
              "      <td>2</td>\n",
              "    </tr>\n",
              "    <tr>\n",
              "      <th>Kolkata Knight Riders</th>\n",
              "      <td>1</td>\n",
              "    </tr>\n",
              "    <tr>\n",
              "      <th>Mumbai Indians</th>\n",
              "      <td>1</td>\n",
              "    </tr>\n",
              "    <tr>\n",
              "      <th>Rajasthan Royals</th>\n",
              "      <td>1</td>\n",
              "    </tr>\n",
              "    <tr>\n",
              "      <th>Royal Challengers Bangalore</th>\n",
              "      <td>1</td>\n",
              "    </tr>\n",
              "    <tr>\n",
              "      <th>Sunrisers Hyderabad</th>\n",
              "      <td>2</td>\n",
              "    </tr>\n",
              "    <tr>\n",
              "      <th>Deccan Chargers</th>\n",
              "      <th>Rajasthan Royals</th>\n",
              "      <td>1</td>\n",
              "    </tr>\n",
              "    <tr>\n",
              "      <th rowspan=\"3\" valign=\"top\">Delhi Daredevils</th>\n",
              "      <th>Kings XI Punjab</th>\n",
              "      <td>1</td>\n",
              "    </tr>\n",
              "    <tr>\n",
              "      <th>Mumbai Indians</th>\n",
              "      <td>1</td>\n",
              "    </tr>\n",
              "    <tr>\n",
              "      <th>Rising Pune Supergiant</th>\n",
              "      <td>1</td>\n",
              "    </tr>\n",
              "    <tr>\n",
              "      <th>Gujarat Lions</th>\n",
              "      <th>Delhi Daredevils</th>\n",
              "      <td>1</td>\n",
              "    </tr>\n",
              "    <tr>\n",
              "      <th rowspan=\"4\" valign=\"top\">Kings XI Punjab</th>\n",
              "      <th>Chennai Super Kings</th>\n",
              "      <td>2</td>\n",
              "    </tr>\n",
              "    <tr>\n",
              "      <th>Mumbai Indians</th>\n",
              "      <td>1</td>\n",
              "    </tr>\n",
              "    <tr>\n",
              "      <th>Rajasthan Royals</th>\n",
              "      <td>1</td>\n",
              "    </tr>\n",
              "    <tr>\n",
              "      <th>Royal Challengers Bangalore</th>\n",
              "      <td>2</td>\n",
              "    </tr>\n",
              "    <tr>\n",
              "      <th rowspan=\"3\" valign=\"top\">Kolkata Knight Riders</th>\n",
              "      <th>Deccan Chargers</th>\n",
              "      <td>1</td>\n",
              "    </tr>\n",
              "    <tr>\n",
              "      <th>Kings XI Punjab</th>\n",
              "      <td>1</td>\n",
              "    </tr>\n",
              "    <tr>\n",
              "      <th>Royal Challengers Bangalore</th>\n",
              "      <td>1</td>\n",
              "    </tr>\n",
              "    <tr>\n",
              "      <th rowspan=\"4\" valign=\"top\">Mumbai Indians</th>\n",
              "      <th>Chennai Super Kings</th>\n",
              "      <td>1</td>\n",
              "    </tr>\n",
              "    <tr>\n",
              "      <th>Delhi Daredevils</th>\n",
              "      <td>4</td>\n",
              "    </tr>\n",
              "    <tr>\n",
              "      <th>Rajasthan Royals</th>\n",
              "      <td>1</td>\n",
              "    </tr>\n",
              "    <tr>\n",
              "      <th>Royal Challengers Bangalore</th>\n",
              "      <td>1</td>\n",
              "    </tr>\n",
              "    <tr>\n",
              "      <th rowspan=\"3\" valign=\"top\">Rajasthan Royals</th>\n",
              "      <th>Chennai Super Kings</th>\n",
              "      <td>1</td>\n",
              "    </tr>\n",
              "    <tr>\n",
              "      <th>Delhi Daredevils</th>\n",
              "      <td>1</td>\n",
              "    </tr>\n",
              "    <tr>\n",
              "      <th>Kings XI Punjab</th>\n",
              "      <td>1</td>\n",
              "    </tr>\n",
              "    <tr>\n",
              "      <th rowspan=\"8\" valign=\"top\">Royal Challengers Bangalore</th>\n",
              "      <th>Chennai Super Kings</th>\n",
              "      <td>1</td>\n",
              "    </tr>\n",
              "    <tr>\n",
              "      <th>Delhi Daredevils</th>\n",
              "      <td>1</td>\n",
              "    </tr>\n",
              "    <tr>\n",
              "      <th>Gujarat Lions</th>\n",
              "      <td>2</td>\n",
              "    </tr>\n",
              "    <tr>\n",
              "      <th>Kings XI Punjab</th>\n",
              "      <td>3</td>\n",
              "    </tr>\n",
              "    <tr>\n",
              "      <th>Mumbai Indians</th>\n",
              "      <td>1</td>\n",
              "    </tr>\n",
              "    <tr>\n",
              "      <th>Pune Warriors</th>\n",
              "      <td>1</td>\n",
              "    </tr>\n",
              "    <tr>\n",
              "      <th>Rajasthan Royals</th>\n",
              "      <td>1</td>\n",
              "    </tr>\n",
              "    <tr>\n",
              "      <th>Sunrisers Hyderabad</th>\n",
              "      <td>1</td>\n",
              "    </tr>\n",
              "    <tr>\n",
              "      <th rowspan=\"4\" valign=\"top\">Sunrisers Hyderabad</th>\n",
              "      <th>Kings XI Punjab</th>\n",
              "      <td>2</td>\n",
              "    </tr>\n",
              "    <tr>\n",
              "      <th>Kolkata Knight Riders</th>\n",
              "      <td>1</td>\n",
              "    </tr>\n",
              "    <tr>\n",
              "      <th>Rajasthan Royals</th>\n",
              "      <td>1</td>\n",
              "    </tr>\n",
              "    <tr>\n",
              "      <th>Royal Challengers Bangalore</th>\n",
              "      <td>2</td>\n",
              "    </tr>\n",
              "    <tr>\n",
              "      <th rowspan=\"16\" valign=\"top\">2</th>\n",
              "      <th rowspan=\"3\" valign=\"top\">Chennai Super Kings</th>\n",
              "      <th>Kings XI Punjab</th>\n",
              "      <td>1</td>\n",
              "    </tr>\n",
              "    <tr>\n",
              "      <th>Rajasthan Royals</th>\n",
              "      <td>1</td>\n",
              "    </tr>\n",
              "    <tr>\n",
              "      <th>Royal Challengers Bangalore</th>\n",
              "      <td>1</td>\n",
              "    </tr>\n",
              "    <tr>\n",
              "      <th>Delhi Daredevils</th>\n",
              "      <th>Gujarat Lions</th>\n",
              "      <td>1</td>\n",
              "    </tr>\n",
              "    <tr>\n",
              "      <th rowspan=\"4\" valign=\"top\">Kings XI Punjab</th>\n",
              "      <th>Chennai Super Kings</th>\n",
              "      <td>2</td>\n",
              "    </tr>\n",
              "    <tr>\n",
              "      <th>Delhi Daredevils</th>\n",
              "      <td>1</td>\n",
              "    </tr>\n",
              "    <tr>\n",
              "      <th>Kolkata Knight Riders</th>\n",
              "      <td>1</td>\n",
              "    </tr>\n",
              "    <tr>\n",
              "      <th>Sunrisers Hyderabad</th>\n",
              "      <td>1</td>\n",
              "    </tr>\n",
              "    <tr>\n",
              "      <th>Kolkata Knight Riders</th>\n",
              "      <th>Kings XI Punjab</th>\n",
              "      <td>1</td>\n",
              "    </tr>\n",
              "    <tr>\n",
              "      <th rowspan=\"2\" valign=\"top\">Mumbai Indians</th>\n",
              "      <th>Chennai Super Kings</th>\n",
              "      <td>1</td>\n",
              "    </tr>\n",
              "    <tr>\n",
              "      <th>Kings XI Punjab</th>\n",
              "      <td>1</td>\n",
              "    </tr>\n",
              "    <tr>\n",
              "      <th rowspan=\"3\" valign=\"top\">Rajasthan Royals</th>\n",
              "      <th>Chennai Super Kings</th>\n",
              "      <td>1</td>\n",
              "    </tr>\n",
              "    <tr>\n",
              "      <th>Deccan Chargers</th>\n",
              "      <td>1</td>\n",
              "    </tr>\n",
              "    <tr>\n",
              "      <th>Mumbai Indians</th>\n",
              "      <td>1</td>\n",
              "    </tr>\n",
              "    <tr>\n",
              "      <th rowspan=\"2\" valign=\"top\">Royal Challengers Bangalore</th>\n",
              "      <th>Kings XI Punjab</th>\n",
              "      <td>1</td>\n",
              "    </tr>\n",
              "    <tr>\n",
              "      <th>Sunrisers Hyderabad</th>\n",
              "      <td>1</td>\n",
              "    </tr>\n",
              "  </tbody>\n",
              "</table>\n",
              "</div>"
            ],
            "text/plain": [
              "                                                                count\n",
              "inning batting_team                bowling_team                      \n",
              "1      Chennai Super Kings         Delhi Daredevils                 1\n",
              "                                   Kings XI Punjab                  2\n",
              "                                   Kolkata Knight Riders            1\n",
              "                                   Mumbai Indians                   1\n",
              "                                   Rajasthan Royals                 1\n",
              "                                   Royal Challengers Bangalore      1\n",
              "                                   Sunrisers Hyderabad              2\n",
              "       Deccan Chargers             Rajasthan Royals                 1\n",
              "       Delhi Daredevils            Kings XI Punjab                  1\n",
              "                                   Mumbai Indians                   1\n",
              "                                   Rising Pune Supergiant           1\n",
              "       Gujarat Lions               Delhi Daredevils                 1\n",
              "       Kings XI Punjab             Chennai Super Kings              2\n",
              "                                   Mumbai Indians                   1\n",
              "                                   Rajasthan Royals                 1\n",
              "                                   Royal Challengers Bangalore      2\n",
              "       Kolkata Knight Riders       Deccan Chargers                  1\n",
              "                                   Kings XI Punjab                  1\n",
              "                                   Royal Challengers Bangalore      1\n",
              "       Mumbai Indians              Chennai Super Kings              1\n",
              "                                   Delhi Daredevils                 4\n",
              "                                   Rajasthan Royals                 1\n",
              "                                   Royal Challengers Bangalore      1\n",
              "       Rajasthan Royals            Chennai Super Kings              1\n",
              "                                   Delhi Daredevils                 1\n",
              "                                   Kings XI Punjab                  1\n",
              "       Royal Challengers Bangalore Chennai Super Kings              1\n",
              "                                   Delhi Daredevils                 1\n",
              "                                   Gujarat Lions                    2\n",
              "                                   Kings XI Punjab                  3\n",
              "                                   Mumbai Indians                   1\n",
              "                                   Pune Warriors                    1\n",
              "                                   Rajasthan Royals                 1\n",
              "                                   Sunrisers Hyderabad              1\n",
              "       Sunrisers Hyderabad         Kings XI Punjab                  2\n",
              "                                   Kolkata Knight Riders            1\n",
              "                                   Rajasthan Royals                 1\n",
              "                                   Royal Challengers Bangalore      2\n",
              "2      Chennai Super Kings         Kings XI Punjab                  1\n",
              "                                   Rajasthan Royals                 1\n",
              "                                   Royal Challengers Bangalore      1\n",
              "       Delhi Daredevils            Gujarat Lions                    1\n",
              "       Kings XI Punjab             Chennai Super Kings              2\n",
              "                                   Delhi Daredevils                 1\n",
              "                                   Kolkata Knight Riders            1\n",
              "                                   Sunrisers Hyderabad              1\n",
              "       Kolkata Knight Riders       Kings XI Punjab                  1\n",
              "       Mumbai Indians              Chennai Super Kings              1\n",
              "                                   Kings XI Punjab                  1\n",
              "       Rajasthan Royals            Chennai Super Kings              1\n",
              "                                   Deccan Chargers                  1\n",
              "                                   Mumbai Indians                   1\n",
              "       Royal Challengers Bangalore Kings XI Punjab                  1\n",
              "                                   Sunrisers Hyderabad              1"
            ]
          },
          "metadata": {
            "tags": []
          },
          "execution_count": 24
        }
      ]
    },
    {
      "cell_type": "markdown",
      "metadata": {
        "id": "LwHG4MEgnND7",
        "colab_type": "text"
      },
      "source": [
        "**Chances of chasing 200+ target**"
      ]
    },
    {
      "cell_type": "markdown",
      "metadata": {
        "id": "MYN8jZ2AKnrZ",
        "colab_type": "text"
      },
      "source": [
        ""
      ]
    },
    {
      "cell_type": "code",
      "metadata": {
        "id": "Nmm5wmr5lntA",
        "colab_type": "code",
        "outputId": "bebea23c-3ce4-42f7-a5dc-badac1804144",
        "colab": {
          "base_uri": "https://localhost:8080/",
          "height": 34
        }
      },
      "source": [
        "d3 = deliv.groupby(['id','inning','batting_team','bowling_team'])['total_runs'].sum().reset_index()\n",
        "d33 = pd.DataFrame(columns=['id','inning','batting_team','bowling_team','total_runs'])\n",
        "bb = cc = 0\n",
        "for i in range(0, len(d3),2):\n",
        "  a = d3.loc[i,'total_runs']\n",
        "  b = d3.loc[i+1,'total_runs']\n",
        "  if a>200:\n",
        "    bb = bb+1\n",
        "    if b>a:\n",
        "      d33 = d33.append(d3[d3['id'] == d3.loc[i,'id']])\n",
        "      cc = cc +1\n",
        "d33\n",
        "print((cc/bb)*100,\"%\")"
      ],
      "execution_count": 0,
      "outputs": [
        {
          "output_type": "stream",
          "text": [
            "8.333333333333332 %\n"
          ],
          "name": "stdout"
        }
      ]
    },
    {
      "cell_type": "markdown",
      "metadata": {
        "id": "1pLoPiNWrsAH",
        "colab_type": "text"
      },
      "source": [
        "### **Batsman Comparator**"
      ]
    },
    {
      "cell_type": "code",
      "metadata": {
        "id": "eKY-_sUTrxKJ",
        "colab_type": "code",
        "colab": {}
      },
      "source": [
        "hsr=deliv.groupby(['batsman','batsman_runs'])['total_runs'].count().reset_index()\n",
        "hsr=hsr.pivot('batsman','batsman_runs','total_runs')"
      ],
      "execution_count": 0,
      "outputs": []
    },
    {
      "cell_type": "markdown",
      "metadata": {
        "id": "7R99qVqzr0CR",
        "colab_type": "text"
      },
      "source": [
        "**Create a function that compares 2 batsman based on their respective stats like runs or strike rate etc**"
      ]
    },
    {
      "cell_type": "code",
      "metadata": {
        "id": "zq2l7Qh5r46_",
        "colab_type": "code",
        "outputId": "f1a601e4-09ee-4245-f446-364e66f65e22",
        "colab": {
          "base_uri": "https://localhost:8080/",
          "height": 204
        }
      },
      "source": [
        "cmpBats = pd.DataFrame(columns=['batsman','dots','singles','Twos','Threes','Fours','Sixes','total_runs','Average','Strike_rate'])\n",
        "\n",
        "dfc=deliv.groupby(['batsman'])['ball'].count().reset_index()\n",
        "runs=deliv.groupby(['batsman'])['batsman_runs'].sum().reset_index()\n",
        "ones=deliv.groupby('batsman')['batsman_runs'].agg(lambda x: (x==1).sum()).reset_index()\n",
        "twos=deliv.groupby('batsman')['batsman_runs'].agg(lambda x: (x==2).sum()).reset_index()\n",
        "threes=deliv.groupby('batsman')['batsman_runs'].agg(lambda x: (x==3).sum()).reset_index()\n",
        "dots=deliv.groupby('batsman')['batsman_runs'].agg(lambda x: (x==0).sum()).reset_index()\n",
        "sixes=deliv.groupby('batsman')['batsman_runs'].agg(lambda x: (x==4).sum()).reset_index()\n",
        "fours=deliv.groupby(['batsman'])['batsman_runs'].agg(lambda x: (x==6).sum()).reset_index()\n",
        "dfc=dfc.merge(dots,on='batsman',how='outer')\n",
        "dfc.rename(columns={'batsman_runs':'dots'},inplace=True)\n",
        "dfc=dfc.merge(ones,on='batsman',how='outer')\n",
        "dfc.rename(columns={'batsman_runs':'ones'},inplace=True)\n",
        "dfc=dfc.merge(twos,on='batsman',how='outer')\n",
        "dfc.rename(columns={'batsman_runs':'twos'},inplace=True)\n",
        "dfc=dfc.merge(threes,on='batsman',how='outer')\n",
        "dfc.rename(columns={'batsman_runs':'threes'},inplace=True)\n",
        "dfc=dfc.merge(sixes,on='batsman',how='outer')\n",
        "dfc.rename(columns={'batsman_runs':'Fours'},inplace=True)\n",
        "dfc=dfc.merge(fours,on='batsman',how='outer')\n",
        "dfc.rename(columns={'batsman_runs':'sixes'},inplace=True)\n",
        "dfc=dfc.merge(runs,on='batsman',how='outer')\n",
        "runs=deliv.groupby(['batsman'])['batsman_runs'].sum().reset_index()\n",
        "dfc.rename({'ball':'balls_faced','batsman_runs':'runs_scored'},axis=1,inplace=True)\n",
        "dfc['strike_rate']=dfc['runs_scored']/dfc['balls_faced']*100\n",
        "dfc.head()"
      ],
      "execution_count": 0,
      "outputs": [
        {
          "output_type": "execute_result",
          "data": {
            "text/html": [
              "<div>\n",
              "<style scoped>\n",
              "    .dataframe tbody tr th:only-of-type {\n",
              "        vertical-align: middle;\n",
              "    }\n",
              "\n",
              "    .dataframe tbody tr th {\n",
              "        vertical-align: top;\n",
              "    }\n",
              "\n",
              "    .dataframe thead th {\n",
              "        text-align: right;\n",
              "    }\n",
              "</style>\n",
              "<table border=\"1\" class=\"dataframe\">\n",
              "  <thead>\n",
              "    <tr style=\"text-align: right;\">\n",
              "      <th></th>\n",
              "      <th>batsman</th>\n",
              "      <th>balls_faced</th>\n",
              "      <th>dots</th>\n",
              "      <th>ones</th>\n",
              "      <th>twos</th>\n",
              "      <th>threes</th>\n",
              "      <th>Fours</th>\n",
              "      <th>sixes</th>\n",
              "      <th>runs_scored</th>\n",
              "      <th>strike_rate</th>\n",
              "    </tr>\n",
              "  </thead>\n",
              "  <tbody>\n",
              "    <tr>\n",
              "      <th>0</th>\n",
              "      <td>A Ashish Reddy</td>\n",
              "      <td>196</td>\n",
              "      <td>61</td>\n",
              "      <td>83</td>\n",
              "      <td>20</td>\n",
              "      <td>1</td>\n",
              "      <td>16</td>\n",
              "      <td>15</td>\n",
              "      <td>280</td>\n",
              "      <td>142.857143</td>\n",
              "    </tr>\n",
              "    <tr>\n",
              "      <th>1</th>\n",
              "      <td>A Chandila</td>\n",
              "      <td>7</td>\n",
              "      <td>3</td>\n",
              "      <td>4</td>\n",
              "      <td>0</td>\n",
              "      <td>0</td>\n",
              "      <td>0</td>\n",
              "      <td>0</td>\n",
              "      <td>4</td>\n",
              "      <td>57.142857</td>\n",
              "    </tr>\n",
              "    <tr>\n",
              "      <th>2</th>\n",
              "      <td>A Chopra</td>\n",
              "      <td>75</td>\n",
              "      <td>45</td>\n",
              "      <td>21</td>\n",
              "      <td>2</td>\n",
              "      <td>0</td>\n",
              "      <td>7</td>\n",
              "      <td>0</td>\n",
              "      <td>53</td>\n",
              "      <td>70.666667</td>\n",
              "    </tr>\n",
              "    <tr>\n",
              "      <th>3</th>\n",
              "      <td>A Choudhary</td>\n",
              "      <td>20</td>\n",
              "      <td>4</td>\n",
              "      <td>13</td>\n",
              "      <td>1</td>\n",
              "      <td>0</td>\n",
              "      <td>1</td>\n",
              "      <td>1</td>\n",
              "      <td>25</td>\n",
              "      <td>125.000000</td>\n",
              "    </tr>\n",
              "    <tr>\n",
              "      <th>4</th>\n",
              "      <td>A Flintoff</td>\n",
              "      <td>57</td>\n",
              "      <td>24</td>\n",
              "      <td>23</td>\n",
              "      <td>2</td>\n",
              "      <td>1</td>\n",
              "      <td>5</td>\n",
              "      <td>2</td>\n",
              "      <td>62</td>\n",
              "      <td>108.771930</td>\n",
              "    </tr>\n",
              "  </tbody>\n",
              "</table>\n",
              "</div>"
            ],
            "text/plain": [
              "          batsman  balls_faced  dots  ...  sixes  runs_scored  strike_rate\n",
              "0  A Ashish Reddy          196    61  ...     15          280   142.857143\n",
              "1      A Chandila            7     3  ...      0            4    57.142857\n",
              "2        A Chopra           75    45  ...      0           53    70.666667\n",
              "3     A Choudhary           20     4  ...      1           25   125.000000\n",
              "4      A Flintoff           57    24  ...      2           62   108.771930\n",
              "\n",
              "[5 rows x 10 columns]"
            ]
          },
          "metadata": {
            "tags": []
          },
          "execution_count": 27
        }
      ]
    },
    {
      "cell_type": "markdown",
      "metadata": {
        "id": "upax8h2rr5dR",
        "colab_type": "text"
      },
      "source": [
        "**Create a dataframe from where you will be taking all that values for comparison**"
      ]
    },
    {
      "cell_type": "code",
      "metadata": {
        "id": "n6Ll6P42sSlg",
        "colab_type": "code",
        "outputId": "3d63ade2-0e11-4359-a9ff-fbc8d11e7fa2",
        "colab": {
          "base_uri": "https://localhost:8080/",
          "height": 1969
        }
      },
      "source": [
        "dfc"
      ],
      "execution_count": 0,
      "outputs": [
        {
          "output_type": "execute_result",
          "data": {
            "text/html": [
              "<div>\n",
              "<style scoped>\n",
              "    .dataframe tbody tr th:only-of-type {\n",
              "        vertical-align: middle;\n",
              "    }\n",
              "\n",
              "    .dataframe tbody tr th {\n",
              "        vertical-align: top;\n",
              "    }\n",
              "\n",
              "    .dataframe thead th {\n",
              "        text-align: right;\n",
              "    }\n",
              "</style>\n",
              "<table border=\"1\" class=\"dataframe\">\n",
              "  <thead>\n",
              "    <tr style=\"text-align: right;\">\n",
              "      <th></th>\n",
              "      <th>batsman</th>\n",
              "      <th>balls_faced</th>\n",
              "      <th>dots</th>\n",
              "      <th>ones</th>\n",
              "      <th>twos</th>\n",
              "      <th>threes</th>\n",
              "      <th>Fours</th>\n",
              "      <th>sixes</th>\n",
              "      <th>runs_scored</th>\n",
              "      <th>strike_rate</th>\n",
              "    </tr>\n",
              "  </thead>\n",
              "  <tbody>\n",
              "    <tr>\n",
              "      <th>0</th>\n",
              "      <td>A Ashish Reddy</td>\n",
              "      <td>196</td>\n",
              "      <td>61</td>\n",
              "      <td>83</td>\n",
              "      <td>20</td>\n",
              "      <td>1</td>\n",
              "      <td>16</td>\n",
              "      <td>15</td>\n",
              "      <td>280</td>\n",
              "      <td>142.857143</td>\n",
              "    </tr>\n",
              "    <tr>\n",
              "      <th>1</th>\n",
              "      <td>A Chandila</td>\n",
              "      <td>7</td>\n",
              "      <td>3</td>\n",
              "      <td>4</td>\n",
              "      <td>0</td>\n",
              "      <td>0</td>\n",
              "      <td>0</td>\n",
              "      <td>0</td>\n",
              "      <td>4</td>\n",
              "      <td>57.142857</td>\n",
              "    </tr>\n",
              "    <tr>\n",
              "      <th>2</th>\n",
              "      <td>A Chopra</td>\n",
              "      <td>75</td>\n",
              "      <td>45</td>\n",
              "      <td>21</td>\n",
              "      <td>2</td>\n",
              "      <td>0</td>\n",
              "      <td>7</td>\n",
              "      <td>0</td>\n",
              "      <td>53</td>\n",
              "      <td>70.666667</td>\n",
              "    </tr>\n",
              "    <tr>\n",
              "      <th>3</th>\n",
              "      <td>A Choudhary</td>\n",
              "      <td>20</td>\n",
              "      <td>4</td>\n",
              "      <td>13</td>\n",
              "      <td>1</td>\n",
              "      <td>0</td>\n",
              "      <td>1</td>\n",
              "      <td>1</td>\n",
              "      <td>25</td>\n",
              "      <td>125.000000</td>\n",
              "    </tr>\n",
              "    <tr>\n",
              "      <th>4</th>\n",
              "      <td>A Flintoff</td>\n",
              "      <td>57</td>\n",
              "      <td>24</td>\n",
              "      <td>23</td>\n",
              "      <td>2</td>\n",
              "      <td>1</td>\n",
              "      <td>5</td>\n",
              "      <td>2</td>\n",
              "      <td>62</td>\n",
              "      <td>108.771930</td>\n",
              "    </tr>\n",
              "    <tr>\n",
              "      <th>5</th>\n",
              "      <td>A Kumble</td>\n",
              "      <td>49</td>\n",
              "      <td>24</td>\n",
              "      <td>21</td>\n",
              "      <td>1</td>\n",
              "      <td>0</td>\n",
              "      <td>3</td>\n",
              "      <td>0</td>\n",
              "      <td>35</td>\n",
              "      <td>71.428571</td>\n",
              "    </tr>\n",
              "    <tr>\n",
              "      <th>6</th>\n",
              "      <td>A Mishra</td>\n",
              "      <td>382</td>\n",
              "      <td>168</td>\n",
              "      <td>162</td>\n",
              "      <td>20</td>\n",
              "      <td>0</td>\n",
              "      <td>27</td>\n",
              "      <td>5</td>\n",
              "      <td>340</td>\n",
              "      <td>89.005236</td>\n",
              "    </tr>\n",
              "    <tr>\n",
              "      <th>7</th>\n",
              "      <td>A Mithun</td>\n",
              "      <td>26</td>\n",
              "      <td>11</td>\n",
              "      <td>8</td>\n",
              "      <td>2</td>\n",
              "      <td>0</td>\n",
              "      <td>4</td>\n",
              "      <td>1</td>\n",
              "      <td>34</td>\n",
              "      <td>130.769231</td>\n",
              "    </tr>\n",
              "    <tr>\n",
              "      <th>8</th>\n",
              "      <td>A Mukund</td>\n",
              "      <td>23</td>\n",
              "      <td>9</td>\n",
              "      <td>11</td>\n",
              "      <td>2</td>\n",
              "      <td>0</td>\n",
              "      <td>1</td>\n",
              "      <td>0</td>\n",
              "      <td>19</td>\n",
              "      <td>82.608696</td>\n",
              "    </tr>\n",
              "    <tr>\n",
              "      <th>9</th>\n",
              "      <td>A Nehra</td>\n",
              "      <td>63</td>\n",
              "      <td>37</td>\n",
              "      <td>21</td>\n",
              "      <td>1</td>\n",
              "      <td>0</td>\n",
              "      <td>3</td>\n",
              "      <td>1</td>\n",
              "      <td>41</td>\n",
              "      <td>65.079365</td>\n",
              "    </tr>\n",
              "    <tr>\n",
              "      <th>10</th>\n",
              "      <td>A Singh</td>\n",
              "      <td>10</td>\n",
              "      <td>8</td>\n",
              "      <td>2</td>\n",
              "      <td>0</td>\n",
              "      <td>0</td>\n",
              "      <td>0</td>\n",
              "      <td>0</td>\n",
              "      <td>2</td>\n",
              "      <td>20.000000</td>\n",
              "    </tr>\n",
              "    <tr>\n",
              "      <th>11</th>\n",
              "      <td>A Symonds</td>\n",
              "      <td>781</td>\n",
              "      <td>308</td>\n",
              "      <td>288</td>\n",
              "      <td>66</td>\n",
              "      <td>4</td>\n",
              "      <td>74</td>\n",
              "      <td>41</td>\n",
              "      <td>974</td>\n",
              "      <td>124.711908</td>\n",
              "    </tr>\n",
              "    <tr>\n",
              "      <th>12</th>\n",
              "      <td>A Uniyal</td>\n",
              "      <td>7</td>\n",
              "      <td>3</td>\n",
              "      <td>4</td>\n",
              "      <td>0</td>\n",
              "      <td>0</td>\n",
              "      <td>0</td>\n",
              "      <td>0</td>\n",
              "      <td>4</td>\n",
              "      <td>57.142857</td>\n",
              "    </tr>\n",
              "    <tr>\n",
              "      <th>13</th>\n",
              "      <td>A Zampa</td>\n",
              "      <td>8</td>\n",
              "      <td>6</td>\n",
              "      <td>1</td>\n",
              "      <td>0</td>\n",
              "      <td>0</td>\n",
              "      <td>1</td>\n",
              "      <td>0</td>\n",
              "      <td>5</td>\n",
              "      <td>62.500000</td>\n",
              "    </tr>\n",
              "    <tr>\n",
              "      <th>14</th>\n",
              "      <td>AA Bilakhia</td>\n",
              "      <td>88</td>\n",
              "      <td>43</td>\n",
              "      <td>31</td>\n",
              "      <td>9</td>\n",
              "      <td>0</td>\n",
              "      <td>5</td>\n",
              "      <td>0</td>\n",
              "      <td>69</td>\n",
              "      <td>78.409091</td>\n",
              "    </tr>\n",
              "    <tr>\n",
              "      <th>15</th>\n",
              "      <td>AA Chavan</td>\n",
              "      <td>11</td>\n",
              "      <td>5</td>\n",
              "      <td>4</td>\n",
              "      <td>0</td>\n",
              "      <td>0</td>\n",
              "      <td>2</td>\n",
              "      <td>0</td>\n",
              "      <td>12</td>\n",
              "      <td>109.090909</td>\n",
              "    </tr>\n",
              "    <tr>\n",
              "      <th>16</th>\n",
              "      <td>AA Jhunjhunwala</td>\n",
              "      <td>218</td>\n",
              "      <td>98</td>\n",
              "      <td>82</td>\n",
              "      <td>13</td>\n",
              "      <td>1</td>\n",
              "      <td>19</td>\n",
              "      <td>5</td>\n",
              "      <td>217</td>\n",
              "      <td>99.541284</td>\n",
              "    </tr>\n",
              "    <tr>\n",
              "      <th>17</th>\n",
              "      <td>AA Noffke</td>\n",
              "      <td>12</td>\n",
              "      <td>6</td>\n",
              "      <td>5</td>\n",
              "      <td>0</td>\n",
              "      <td>0</td>\n",
              "      <td>1</td>\n",
              "      <td>0</td>\n",
              "      <td>9</td>\n",
              "      <td>75.000000</td>\n",
              "    </tr>\n",
              "    <tr>\n",
              "      <th>18</th>\n",
              "      <td>AB Agarkar</td>\n",
              "      <td>160</td>\n",
              "      <td>60</td>\n",
              "      <td>67</td>\n",
              "      <td>15</td>\n",
              "      <td>0</td>\n",
              "      <td>13</td>\n",
              "      <td>5</td>\n",
              "      <td>179</td>\n",
              "      <td>111.875000</td>\n",
              "    </tr>\n",
              "    <tr>\n",
              "      <th>19</th>\n",
              "      <td>AB Barath</td>\n",
              "      <td>43</td>\n",
              "      <td>22</td>\n",
              "      <td>14</td>\n",
              "      <td>1</td>\n",
              "      <td>0</td>\n",
              "      <td>5</td>\n",
              "      <td>1</td>\n",
              "      <td>42</td>\n",
              "      <td>97.674419</td>\n",
              "    </tr>\n",
              "    <tr>\n",
              "      <th>20</th>\n",
              "      <td>AB Dinda</td>\n",
              "      <td>50</td>\n",
              "      <td>31</td>\n",
              "      <td>16</td>\n",
              "      <td>1</td>\n",
              "      <td>0</td>\n",
              "      <td>2</td>\n",
              "      <td>0</td>\n",
              "      <td>26</td>\n",
              "      <td>52.000000</td>\n",
              "    </tr>\n",
              "    <tr>\n",
              "      <th>21</th>\n",
              "      <td>AB McDonald</td>\n",
              "      <td>103</td>\n",
              "      <td>38</td>\n",
              "      <td>42</td>\n",
              "      <td>9</td>\n",
              "      <td>1</td>\n",
              "      <td>9</td>\n",
              "      <td>4</td>\n",
              "      <td>123</td>\n",
              "      <td>119.417476</td>\n",
              "    </tr>\n",
              "    <tr>\n",
              "      <th>22</th>\n",
              "      <td>AB de Villiers</td>\n",
              "      <td>2402</td>\n",
              "      <td>778</td>\n",
              "      <td>980</td>\n",
              "      <td>187</td>\n",
              "      <td>12</td>\n",
              "      <td>287</td>\n",
              "      <td>158</td>\n",
              "      <td>3486</td>\n",
              "      <td>145.129059</td>\n",
              "    </tr>\n",
              "    <tr>\n",
              "      <th>23</th>\n",
              "      <td>AC Blizzard</td>\n",
              "      <td>91</td>\n",
              "      <td>48</td>\n",
              "      <td>17</td>\n",
              "      <td>2</td>\n",
              "      <td>1</td>\n",
              "      <td>21</td>\n",
              "      <td>2</td>\n",
              "      <td>120</td>\n",
              "      <td>131.868132</td>\n",
              "    </tr>\n",
              "    <tr>\n",
              "      <th>24</th>\n",
              "      <td>AC Gilchrist</td>\n",
              "      <td>1555</td>\n",
              "      <td>737</td>\n",
              "      <td>417</td>\n",
              "      <td>66</td>\n",
              "      <td>4</td>\n",
              "      <td>239</td>\n",
              "      <td>92</td>\n",
              "      <td>2069</td>\n",
              "      <td>133.054662</td>\n",
              "    </tr>\n",
              "    <tr>\n",
              "      <th>25</th>\n",
              "      <td>AC Thomas</td>\n",
              "      <td>19</td>\n",
              "      <td>8</td>\n",
              "      <td>8</td>\n",
              "      <td>1</td>\n",
              "      <td>0</td>\n",
              "      <td>1</td>\n",
              "      <td>1</td>\n",
              "      <td>20</td>\n",
              "      <td>105.263158</td>\n",
              "    </tr>\n",
              "    <tr>\n",
              "      <th>26</th>\n",
              "      <td>AC Voges</td>\n",
              "      <td>143</td>\n",
              "      <td>44</td>\n",
              "      <td>61</td>\n",
              "      <td>18</td>\n",
              "      <td>2</td>\n",
              "      <td>15</td>\n",
              "      <td>3</td>\n",
              "      <td>181</td>\n",
              "      <td>126.573427</td>\n",
              "    </tr>\n",
              "    <tr>\n",
              "      <th>27</th>\n",
              "      <td>AD Mascarenhas</td>\n",
              "      <td>79</td>\n",
              "      <td>29</td>\n",
              "      <td>35</td>\n",
              "      <td>9</td>\n",
              "      <td>0</td>\n",
              "      <td>5</td>\n",
              "      <td>1</td>\n",
              "      <td>79</td>\n",
              "      <td>100.000000</td>\n",
              "    </tr>\n",
              "    <tr>\n",
              "      <th>28</th>\n",
              "      <td>AD Mathews</td>\n",
              "      <td>599</td>\n",
              "      <td>207</td>\n",
              "      <td>267</td>\n",
              "      <td>49</td>\n",
              "      <td>3</td>\n",
              "      <td>44</td>\n",
              "      <td>29</td>\n",
              "      <td>724</td>\n",
              "      <td>120.868114</td>\n",
              "    </tr>\n",
              "    <tr>\n",
              "      <th>29</th>\n",
              "      <td>AD Nath</td>\n",
              "      <td>28</td>\n",
              "      <td>14</td>\n",
              "      <td>10</td>\n",
              "      <td>3</td>\n",
              "      <td>0</td>\n",
              "      <td>1</td>\n",
              "      <td>0</td>\n",
              "      <td>20</td>\n",
              "      <td>71.428571</td>\n",
              "    </tr>\n",
              "    <tr>\n",
              "      <th>...</th>\n",
              "      <td>...</td>\n",
              "      <td>...</td>\n",
              "      <td>...</td>\n",
              "      <td>...</td>\n",
              "      <td>...</td>\n",
              "      <td>...</td>\n",
              "      <td>...</td>\n",
              "      <td>...</td>\n",
              "      <td>...</td>\n",
              "      <td>...</td>\n",
              "    </tr>\n",
              "    <tr>\n",
              "      <th>431</th>\n",
              "      <td>V Kohli</td>\n",
              "      <td>3494</td>\n",
              "      <td>1287</td>\n",
              "      <td>1410</td>\n",
              "      <td>242</td>\n",
              "      <td>11</td>\n",
              "      <td>384</td>\n",
              "      <td>160</td>\n",
              "      <td>4423</td>\n",
              "      <td>126.588437</td>\n",
              "    </tr>\n",
              "    <tr>\n",
              "      <th>432</th>\n",
              "      <td>V Pratap Singh</td>\n",
              "      <td>1</td>\n",
              "      <td>1</td>\n",
              "      <td>0</td>\n",
              "      <td>0</td>\n",
              "      <td>0</td>\n",
              "      <td>0</td>\n",
              "      <td>0</td>\n",
              "      <td>0</td>\n",
              "      <td>0.000000</td>\n",
              "    </tr>\n",
              "    <tr>\n",
              "      <th>433</th>\n",
              "      <td>V Sehwag</td>\n",
              "      <td>1833</td>\n",
              "      <td>737</td>\n",
              "      <td>558</td>\n",
              "      <td>96</td>\n",
              "      <td>2</td>\n",
              "      <td>334</td>\n",
              "      <td>106</td>\n",
              "      <td>2728</td>\n",
              "      <td>148.827059</td>\n",
              "    </tr>\n",
              "    <tr>\n",
              "      <th>434</th>\n",
              "      <td>V Shankar</td>\n",
              "      <td>77</td>\n",
              "      <td>22</td>\n",
              "      <td>37</td>\n",
              "      <td>5</td>\n",
              "      <td>0</td>\n",
              "      <td>12</td>\n",
              "      <td>1</td>\n",
              "      <td>101</td>\n",
              "      <td>131.168831</td>\n",
              "    </tr>\n",
              "    <tr>\n",
              "      <th>435</th>\n",
              "      <td>VH Zol</td>\n",
              "      <td>26</td>\n",
              "      <td>13</td>\n",
              "      <td>7</td>\n",
              "      <td>2</td>\n",
              "      <td>0</td>\n",
              "      <td>3</td>\n",
              "      <td>1</td>\n",
              "      <td>29</td>\n",
              "      <td>111.538462</td>\n",
              "    </tr>\n",
              "    <tr>\n",
              "      <th>436</th>\n",
              "      <td>VR Aaron</td>\n",
              "      <td>56</td>\n",
              "      <td>30</td>\n",
              "      <td>18</td>\n",
              "      <td>4</td>\n",
              "      <td>0</td>\n",
              "      <td>2</td>\n",
              "      <td>2</td>\n",
              "      <td>46</td>\n",
              "      <td>82.142857</td>\n",
              "    </tr>\n",
              "    <tr>\n",
              "      <th>437</th>\n",
              "      <td>VRV Singh</td>\n",
              "      <td>3</td>\n",
              "      <td>2</td>\n",
              "      <td>0</td>\n",
              "      <td>0</td>\n",
              "      <td>0</td>\n",
              "      <td>1</td>\n",
              "      <td>0</td>\n",
              "      <td>4</td>\n",
              "      <td>133.333333</td>\n",
              "    </tr>\n",
              "    <tr>\n",
              "      <th>438</th>\n",
              "      <td>VS Malik</td>\n",
              "      <td>7</td>\n",
              "      <td>3</td>\n",
              "      <td>3</td>\n",
              "      <td>0</td>\n",
              "      <td>0</td>\n",
              "      <td>1</td>\n",
              "      <td>0</td>\n",
              "      <td>7</td>\n",
              "      <td>100.000000</td>\n",
              "    </tr>\n",
              "    <tr>\n",
              "      <th>439</th>\n",
              "      <td>VS Yeligati</td>\n",
              "      <td>2</td>\n",
              "      <td>1</td>\n",
              "      <td>0</td>\n",
              "      <td>1</td>\n",
              "      <td>0</td>\n",
              "      <td>0</td>\n",
              "      <td>0</td>\n",
              "      <td>2</td>\n",
              "      <td>100.000000</td>\n",
              "    </tr>\n",
              "    <tr>\n",
              "      <th>440</th>\n",
              "      <td>VVS Laxman</td>\n",
              "      <td>271</td>\n",
              "      <td>123</td>\n",
              "      <td>100</td>\n",
              "      <td>10</td>\n",
              "      <td>0</td>\n",
              "      <td>33</td>\n",
              "      <td>5</td>\n",
              "      <td>282</td>\n",
              "      <td>104.059041</td>\n",
              "    </tr>\n",
              "    <tr>\n",
              "      <th>441</th>\n",
              "      <td>VY Mahesh</td>\n",
              "      <td>28</td>\n",
              "      <td>15</td>\n",
              "      <td>11</td>\n",
              "      <td>2</td>\n",
              "      <td>0</td>\n",
              "      <td>0</td>\n",
              "      <td>0</td>\n",
              "      <td>15</td>\n",
              "      <td>53.571429</td>\n",
              "    </tr>\n",
              "    <tr>\n",
              "      <th>442</th>\n",
              "      <td>Vishnu Vinod</td>\n",
              "      <td>26</td>\n",
              "      <td>15</td>\n",
              "      <td>9</td>\n",
              "      <td>0</td>\n",
              "      <td>0</td>\n",
              "      <td>1</td>\n",
              "      <td>1</td>\n",
              "      <td>19</td>\n",
              "      <td>73.076923</td>\n",
              "    </tr>\n",
              "    <tr>\n",
              "      <th>443</th>\n",
              "      <td>W Jaffer</td>\n",
              "      <td>129</td>\n",
              "      <td>64</td>\n",
              "      <td>41</td>\n",
              "      <td>6</td>\n",
              "      <td>1</td>\n",
              "      <td>14</td>\n",
              "      <td>3</td>\n",
              "      <td>130</td>\n",
              "      <td>100.775194</td>\n",
              "    </tr>\n",
              "    <tr>\n",
              "      <th>444</th>\n",
              "      <td>WA Mota</td>\n",
              "      <td>76</td>\n",
              "      <td>30</td>\n",
              "      <td>40</td>\n",
              "      <td>4</td>\n",
              "      <td>0</td>\n",
              "      <td>2</td>\n",
              "      <td>0</td>\n",
              "      <td>56</td>\n",
              "      <td>73.684211</td>\n",
              "    </tr>\n",
              "    <tr>\n",
              "      <th>445</th>\n",
              "      <td>WD Parnell</td>\n",
              "      <td>80</td>\n",
              "      <td>39</td>\n",
              "      <td>31</td>\n",
              "      <td>5</td>\n",
              "      <td>0</td>\n",
              "      <td>4</td>\n",
              "      <td>1</td>\n",
              "      <td>63</td>\n",
              "      <td>78.750000</td>\n",
              "    </tr>\n",
              "    <tr>\n",
              "      <th>446</th>\n",
              "      <td>WP Saha</td>\n",
              "      <td>1219</td>\n",
              "      <td>450</td>\n",
              "      <td>472</td>\n",
              "      <td>107</td>\n",
              "      <td>3</td>\n",
              "      <td>130</td>\n",
              "      <td>57</td>\n",
              "      <td>1557</td>\n",
              "      <td>127.727646</td>\n",
              "    </tr>\n",
              "    <tr>\n",
              "      <th>447</th>\n",
              "      <td>WPUJC Vaas</td>\n",
              "      <td>73</td>\n",
              "      <td>24</td>\n",
              "      <td>33</td>\n",
              "      <td>11</td>\n",
              "      <td>0</td>\n",
              "      <td>2</td>\n",
              "      <td>3</td>\n",
              "      <td>81</td>\n",
              "      <td>110.958904</td>\n",
              "    </tr>\n",
              "    <tr>\n",
              "      <th>448</th>\n",
              "      <td>Washington Sundar</td>\n",
              "      <td>12</td>\n",
              "      <td>6</td>\n",
              "      <td>3</td>\n",
              "      <td>3</td>\n",
              "      <td>0</td>\n",
              "      <td>0</td>\n",
              "      <td>0</td>\n",
              "      <td>9</td>\n",
              "      <td>75.000000</td>\n",
              "    </tr>\n",
              "    <tr>\n",
              "      <th>449</th>\n",
              "      <td>X Thalaivan Sargunam</td>\n",
              "      <td>17</td>\n",
              "      <td>9</td>\n",
              "      <td>6</td>\n",
              "      <td>2</td>\n",
              "      <td>0</td>\n",
              "      <td>0</td>\n",
              "      <td>0</td>\n",
              "      <td>10</td>\n",
              "      <td>58.823529</td>\n",
              "    </tr>\n",
              "    <tr>\n",
              "      <th>450</th>\n",
              "      <td>Y Gnaneswara Rao</td>\n",
              "      <td>18</td>\n",
              "      <td>9</td>\n",
              "      <td>5</td>\n",
              "      <td>1</td>\n",
              "      <td>0</td>\n",
              "      <td>3</td>\n",
              "      <td>0</td>\n",
              "      <td>19</td>\n",
              "      <td>105.555556</td>\n",
              "    </tr>\n",
              "    <tr>\n",
              "      <th>451</th>\n",
              "      <td>Y Nagar</td>\n",
              "      <td>271</td>\n",
              "      <td>113</td>\n",
              "      <td>109</td>\n",
              "      <td>18</td>\n",
              "      <td>2</td>\n",
              "      <td>20</td>\n",
              "      <td>9</td>\n",
              "      <td>285</td>\n",
              "      <td>105.166052</td>\n",
              "    </tr>\n",
              "    <tr>\n",
              "      <th>452</th>\n",
              "      <td>Y Venugopal Rao</td>\n",
              "      <td>865</td>\n",
              "      <td>355</td>\n",
              "      <td>341</td>\n",
              "      <td>53</td>\n",
              "      <td>1</td>\n",
              "      <td>77</td>\n",
              "      <td>37</td>\n",
              "      <td>985</td>\n",
              "      <td>113.872832</td>\n",
              "    </tr>\n",
              "    <tr>\n",
              "      <th>453</th>\n",
              "      <td>YA Abdulla</td>\n",
              "      <td>1</td>\n",
              "      <td>1</td>\n",
              "      <td>0</td>\n",
              "      <td>0</td>\n",
              "      <td>0</td>\n",
              "      <td>0</td>\n",
              "      <td>0</td>\n",
              "      <td>0</td>\n",
              "      <td>0.000000</td>\n",
              "    </tr>\n",
              "    <tr>\n",
              "      <th>454</th>\n",
              "      <td>YK Pathan</td>\n",
              "      <td>2076</td>\n",
              "      <td>765</td>\n",
              "      <td>781</td>\n",
              "      <td>136</td>\n",
              "      <td>5</td>\n",
              "      <td>240</td>\n",
              "      <td>149</td>\n",
              "      <td>2922</td>\n",
              "      <td>140.751445</td>\n",
              "    </tr>\n",
              "    <tr>\n",
              "      <th>455</th>\n",
              "      <td>YS Chahal</td>\n",
              "      <td>29</td>\n",
              "      <td>15</td>\n",
              "      <td>13</td>\n",
              "      <td>1</td>\n",
              "      <td>0</td>\n",
              "      <td>0</td>\n",
              "      <td>0</td>\n",
              "      <td>15</td>\n",
              "      <td>51.724138</td>\n",
              "    </tr>\n",
              "    <tr>\n",
              "      <th>456</th>\n",
              "      <td>YV Takawale</td>\n",
              "      <td>183</td>\n",
              "      <td>100</td>\n",
              "      <td>41</td>\n",
              "      <td>12</td>\n",
              "      <td>0</td>\n",
              "      <td>26</td>\n",
              "      <td>3</td>\n",
              "      <td>192</td>\n",
              "      <td>104.918033</td>\n",
              "    </tr>\n",
              "    <tr>\n",
              "      <th>457</th>\n",
              "      <td>Yashpal Singh</td>\n",
              "      <td>67</td>\n",
              "      <td>39</td>\n",
              "      <td>20</td>\n",
              "      <td>2</td>\n",
              "      <td>1</td>\n",
              "      <td>5</td>\n",
              "      <td>0</td>\n",
              "      <td>47</td>\n",
              "      <td>70.149254</td>\n",
              "    </tr>\n",
              "    <tr>\n",
              "      <th>458</th>\n",
              "      <td>Younis Khan</td>\n",
              "      <td>7</td>\n",
              "      <td>4</td>\n",
              "      <td>3</td>\n",
              "      <td>0</td>\n",
              "      <td>0</td>\n",
              "      <td>0</td>\n",
              "      <td>0</td>\n",
              "      <td>3</td>\n",
              "      <td>42.857143</td>\n",
              "    </tr>\n",
              "    <tr>\n",
              "      <th>459</th>\n",
              "      <td>Yuvraj Singh</td>\n",
              "      <td>2050</td>\n",
              "      <td>898</td>\n",
              "      <td>690</td>\n",
              "      <td>113</td>\n",
              "      <td>3</td>\n",
              "      <td>205</td>\n",
              "      <td>141</td>\n",
              "      <td>2591</td>\n",
              "      <td>126.390244</td>\n",
              "    </tr>\n",
              "    <tr>\n",
              "      <th>460</th>\n",
              "      <td>Z Khan</td>\n",
              "      <td>141</td>\n",
              "      <td>74</td>\n",
              "      <td>47</td>\n",
              "      <td>7</td>\n",
              "      <td>0</td>\n",
              "      <td>11</td>\n",
              "      <td>2</td>\n",
              "      <td>117</td>\n",
              "      <td>82.978723</td>\n",
              "    </tr>\n",
              "  </tbody>\n",
              "</table>\n",
              "<p>461 rows × 10 columns</p>\n",
              "</div>"
            ],
            "text/plain": [
              "                  batsman  balls_faced  dots  ...  sixes  runs_scored  strike_rate\n",
              "0          A Ashish Reddy          196    61  ...     15          280   142.857143\n",
              "1              A Chandila            7     3  ...      0            4    57.142857\n",
              "2                A Chopra           75    45  ...      0           53    70.666667\n",
              "3             A Choudhary           20     4  ...      1           25   125.000000\n",
              "4              A Flintoff           57    24  ...      2           62   108.771930\n",
              "5                A Kumble           49    24  ...      0           35    71.428571\n",
              "6                A Mishra          382   168  ...      5          340    89.005236\n",
              "7                A Mithun           26    11  ...      1           34   130.769231\n",
              "8                A Mukund           23     9  ...      0           19    82.608696\n",
              "9                 A Nehra           63    37  ...      1           41    65.079365\n",
              "10                A Singh           10     8  ...      0            2    20.000000\n",
              "11              A Symonds          781   308  ...     41          974   124.711908\n",
              "12               A Uniyal            7     3  ...      0            4    57.142857\n",
              "13                A Zampa            8     6  ...      0            5    62.500000\n",
              "14            AA Bilakhia           88    43  ...      0           69    78.409091\n",
              "15              AA Chavan           11     5  ...      0           12   109.090909\n",
              "16        AA Jhunjhunwala          218    98  ...      5          217    99.541284\n",
              "17              AA Noffke           12     6  ...      0            9    75.000000\n",
              "18             AB Agarkar          160    60  ...      5          179   111.875000\n",
              "19              AB Barath           43    22  ...      1           42    97.674419\n",
              "20               AB Dinda           50    31  ...      0           26    52.000000\n",
              "21            AB McDonald          103    38  ...      4          123   119.417476\n",
              "22         AB de Villiers         2402   778  ...    158         3486   145.129059\n",
              "23            AC Blizzard           91    48  ...      2          120   131.868132\n",
              "24           AC Gilchrist         1555   737  ...     92         2069   133.054662\n",
              "25              AC Thomas           19     8  ...      1           20   105.263158\n",
              "26               AC Voges          143    44  ...      3          181   126.573427\n",
              "27         AD Mascarenhas           79    29  ...      1           79   100.000000\n",
              "28             AD Mathews          599   207  ...     29          724   120.868114\n",
              "29                AD Nath           28    14  ...      0           20    71.428571\n",
              "..                    ...          ...   ...  ...    ...          ...          ...\n",
              "431               V Kohli         3494  1287  ...    160         4423   126.588437\n",
              "432        V Pratap Singh            1     1  ...      0            0     0.000000\n",
              "433              V Sehwag         1833   737  ...    106         2728   148.827059\n",
              "434             V Shankar           77    22  ...      1          101   131.168831\n",
              "435                VH Zol           26    13  ...      1           29   111.538462\n",
              "436              VR Aaron           56    30  ...      2           46    82.142857\n",
              "437             VRV Singh            3     2  ...      0            4   133.333333\n",
              "438              VS Malik            7     3  ...      0            7   100.000000\n",
              "439           VS Yeligati            2     1  ...      0            2   100.000000\n",
              "440            VVS Laxman          271   123  ...      5          282   104.059041\n",
              "441             VY Mahesh           28    15  ...      0           15    53.571429\n",
              "442          Vishnu Vinod           26    15  ...      1           19    73.076923\n",
              "443              W Jaffer          129    64  ...      3          130   100.775194\n",
              "444               WA Mota           76    30  ...      0           56    73.684211\n",
              "445            WD Parnell           80    39  ...      1           63    78.750000\n",
              "446               WP Saha         1219   450  ...     57         1557   127.727646\n",
              "447            WPUJC Vaas           73    24  ...      3           81   110.958904\n",
              "448     Washington Sundar           12     6  ...      0            9    75.000000\n",
              "449  X Thalaivan Sargunam           17     9  ...      0           10    58.823529\n",
              "450      Y Gnaneswara Rao           18     9  ...      0           19   105.555556\n",
              "451               Y Nagar          271   113  ...      9          285   105.166052\n",
              "452       Y Venugopal Rao          865   355  ...     37          985   113.872832\n",
              "453            YA Abdulla            1     1  ...      0            0     0.000000\n",
              "454             YK Pathan         2076   765  ...    149         2922   140.751445\n",
              "455             YS Chahal           29    15  ...      0           15    51.724138\n",
              "456           YV Takawale          183   100  ...      3          192   104.918033\n",
              "457         Yashpal Singh           67    39  ...      0           47    70.149254\n",
              "458           Younis Khan            7     4  ...      0            3    42.857143\n",
              "459          Yuvraj Singh         2050   898  ...    141         2591   126.390244\n",
              "460                Z Khan          141    74  ...      2          117    82.978723\n",
              "\n",
              "[461 rows x 10 columns]"
            ]
          },
          "metadata": {
            "tags": []
          },
          "execution_count": 28
        }
      ]
    },
    {
      "cell_type": "markdown",
      "metadata": {
        "id": "wON8o5mMsTcJ",
        "colab_type": "text"
      },
      "source": [
        "**Compare Rohit Sharma and Virat Kohli on runs scored and strike rate**"
      ]
    },
    {
      "cell_type": "code",
      "metadata": {
        "id": "KgXKxvxZseT1",
        "colab_type": "code",
        "outputId": "ce6a51c3-08b1-448a-c0af-2f37ee4e86cc",
        "colab": {
          "base_uri": "https://localhost:8080/",
          "height": 111
        }
      },
      "source": [
        "cmp = pd.DataFrame()\n",
        "cmp = cmp.append(dfc[dfc['batsman']=='V Kohli'])\n",
        "cmp = cmp.append(dfc[dfc['batsman']=='RG Sharma'])\n",
        "cmp"
      ],
      "execution_count": 0,
      "outputs": [
        {
          "output_type": "execute_result",
          "data": {
            "text/html": [
              "<div>\n",
              "<style scoped>\n",
              "    .dataframe tbody tr th:only-of-type {\n",
              "        vertical-align: middle;\n",
              "    }\n",
              "\n",
              "    .dataframe tbody tr th {\n",
              "        vertical-align: top;\n",
              "    }\n",
              "\n",
              "    .dataframe thead th {\n",
              "        text-align: right;\n",
              "    }\n",
              "</style>\n",
              "<table border=\"1\" class=\"dataframe\">\n",
              "  <thead>\n",
              "    <tr style=\"text-align: right;\">\n",
              "      <th></th>\n",
              "      <th>batsman</th>\n",
              "      <th>balls_faced</th>\n",
              "      <th>dots</th>\n",
              "      <th>ones</th>\n",
              "      <th>twos</th>\n",
              "      <th>threes</th>\n",
              "      <th>Fours</th>\n",
              "      <th>sixes</th>\n",
              "      <th>runs_scored</th>\n",
              "      <th>strike_rate</th>\n",
              "    </tr>\n",
              "  </thead>\n",
              "  <tbody>\n",
              "    <tr>\n",
              "      <th>431</th>\n",
              "      <td>V Kohli</td>\n",
              "      <td>3494</td>\n",
              "      <td>1287</td>\n",
              "      <td>1410</td>\n",
              "      <td>242</td>\n",
              "      <td>11</td>\n",
              "      <td>384</td>\n",
              "      <td>160</td>\n",
              "      <td>4423</td>\n",
              "      <td>126.588437</td>\n",
              "    </tr>\n",
              "    <tr>\n",
              "      <th>323</th>\n",
              "      <td>RG Sharma</td>\n",
              "      <td>3274</td>\n",
              "      <td>1185</td>\n",
              "      <td>1379</td>\n",
              "      <td>177</td>\n",
              "      <td>5</td>\n",
              "      <td>354</td>\n",
              "      <td>173</td>\n",
              "      <td>4207</td>\n",
              "      <td>128.497251</td>\n",
              "    </tr>\n",
              "  </tbody>\n",
              "</table>\n",
              "</div>"
            ],
            "text/plain": [
              "       batsman  balls_faced  dots  ones  ...  Fours  sixes  runs_scored  strike_rate\n",
              "431    V Kohli         3494  1287  1410  ...    384    160         4423   126.588437\n",
              "323  RG Sharma         3274  1185  1379  ...    354    173         4207   128.497251\n",
              "\n",
              "[2 rows x 10 columns]"
            ]
          },
          "metadata": {
            "tags": []
          },
          "execution_count": 29
        }
      ]
    },
    {
      "cell_type": "markdown",
      "metadata": {
        "id": "drDTuzfldEA6",
        "colab_type": "text"
      },
      "source": [
        "## **Top Batsman**"
      ]
    },
    {
      "cell_type": "code",
      "metadata": {
        "id": "qIttvPUrGz6h",
        "colab_type": "code",
        "colab": {}
      },
      "source": [
        "hsr=deliv.groupby(['batsman','batsman_runs'])['total_runs'].count().reset_index()\n",
        "hsr=hsr.pivot('batsman','batsman_runs','total_runs')"
      ],
      "execution_count": 0,
      "outputs": []
    },
    {
      "cell_type": "markdown",
      "metadata": {
        "id": "NEtabxBsdQJ8",
        "colab_type": "text"
      },
      "source": [
        "**Top 10 Batsman**"
      ]
    },
    {
      "cell_type": "code",
      "metadata": {
        "id": "3sQ-ZJ6cdDa7",
        "colab_type": "code",
        "outputId": "bfddc26b-3349-44f9-cd35-ded9612543d1",
        "colab": {
          "base_uri": "https://localhost:8080/",
          "height": 356
        }
      },
      "source": [
        "top = deliv.groupby(['batsman'])['batsman_runs'].sum()\n",
        "top10=top.sort_values(ascending=False)[:10]\n",
        "top10.plot.bar()"
      ],
      "execution_count": 0,
      "outputs": [
        {
          "output_type": "execute_result",
          "data": {
            "text/plain": [
              "<matplotlib.axes._subplots.AxesSubplot at 0x7f469908b7f0>"
            ]
          },
          "metadata": {
            "tags": []
          },
          "execution_count": 31
        },
        {
          "output_type": "display_data",
          "data": {
            "image/png": "[encoded data removed]",
            "text/plain": [
              "<Figure size 432x288 with 1 Axes>"
            ]
          },
          "metadata": {
            "tags": []
          }
        }
      ]
    },
    {
      "cell_type": "markdown",
      "metadata": {
        "id": "Qs1RPSYkhdE4",
        "colab_type": "text"
      },
      "source": [
        "**Top Batsman's with 1's, 2's, 3's, 4's**"
      ]
    },
    {
      "cell_type": "code",
      "metadata": {
        "id": "g5GfDR7De-a2",
        "colab_type": "code",
        "outputId": "6b99f8c3-9ab3-485b-d944-b978932b4709",
        "colab": {
          "base_uri": "https://localhost:8080/",
          "height": 204
        }
      },
      "source": [
        "hsr[1].sort_values(ascending=False).head().reset_index()"
      ],
      "execution_count": 0,
      "outputs": [
        {
          "output_type": "execute_result",
          "data": {
            "text/html": [
              "<div>\n",
              "<style scoped>\n",
              "    .dataframe tbody tr th:only-of-type {\n",
              "        vertical-align: middle;\n",
              "    }\n",
              "\n",
              "    .dataframe tbody tr th {\n",
              "        vertical-align: top;\n",
              "    }\n",
              "\n",
              "    .dataframe thead th {\n",
              "        text-align: right;\n",
              "    }\n",
              "</style>\n",
              "<table border=\"1\" class=\"dataframe\">\n",
              "  <thead>\n",
              "    <tr style=\"text-align: right;\">\n",
              "      <th></th>\n",
              "      <th>batsman</th>\n",
              "      <th>1</th>\n",
              "    </tr>\n",
              "  </thead>\n",
              "  <tbody>\n",
              "    <tr>\n",
              "      <th>0</th>\n",
              "      <td>V Kohli</td>\n",
              "      <td>1410.0</td>\n",
              "    </tr>\n",
              "    <tr>\n",
              "      <th>1</th>\n",
              "      <td>RG Sharma</td>\n",
              "      <td>1379.0</td>\n",
              "    </tr>\n",
              "    <tr>\n",
              "      <th>2</th>\n",
              "      <td>SK Raina</td>\n",
              "      <td>1377.0</td>\n",
              "    </tr>\n",
              "    <tr>\n",
              "      <th>3</th>\n",
              "      <td>G Gambhir</td>\n",
              "      <td>1313.0</td>\n",
              "    </tr>\n",
              "    <tr>\n",
              "      <th>4</th>\n",
              "      <td>S Dhawan</td>\n",
              "      <td>1137.0</td>\n",
              "    </tr>\n",
              "  </tbody>\n",
              "</table>\n",
              "</div>"
            ],
            "text/plain": [
              "     batsman       1\n",
              "0    V Kohli  1410.0\n",
              "1  RG Sharma  1379.0\n",
              "2   SK Raina  1377.0\n",
              "3  G Gambhir  1313.0\n",
              "4   S Dhawan  1137.0"
            ]
          },
          "metadata": {
            "tags": []
          },
          "execution_count": 32
        }
      ]
    },
    {
      "cell_type": "code",
      "metadata": {
        "id": "Zj7hnN7Fgv0U",
        "colab_type": "code",
        "outputId": "4d93a236-0f7f-4167-a317-c760db28c692",
        "colab": {
          "base_uri": "https://localhost:8080/",
          "height": 204
        }
      },
      "source": [
        "hsr[2].sort_values(ascending=False).head().reset_index()"
      ],
      "execution_count": 0,
      "outputs": [
        {
          "output_type": "execute_result",
          "data": {
            "text/html": [
              "<div>\n",
              "<style scoped>\n",
              "    .dataframe tbody tr th:only-of-type {\n",
              "        vertical-align: middle;\n",
              "    }\n",
              "\n",
              "    .dataframe tbody tr th {\n",
              "        vertical-align: top;\n",
              "    }\n",
              "\n",
              "    .dataframe thead th {\n",
              "        text-align: right;\n",
              "    }\n",
              "</style>\n",
              "<table border=\"1\" class=\"dataframe\">\n",
              "  <thead>\n",
              "    <tr style=\"text-align: right;\">\n",
              "      <th></th>\n",
              "      <th>batsman</th>\n",
              "      <th>2</th>\n",
              "    </tr>\n",
              "  </thead>\n",
              "  <tbody>\n",
              "    <tr>\n",
              "      <th>0</th>\n",
              "      <td>MS Dhoni</td>\n",
              "      <td>251.0</td>\n",
              "    </tr>\n",
              "    <tr>\n",
              "      <th>1</th>\n",
              "      <td>G Gambhir</td>\n",
              "      <td>245.0</td>\n",
              "    </tr>\n",
              "    <tr>\n",
              "      <th>2</th>\n",
              "      <td>SK Raina</td>\n",
              "      <td>242.0</td>\n",
              "    </tr>\n",
              "    <tr>\n",
              "      <th>3</th>\n",
              "      <td>V Kohli</td>\n",
              "      <td>242.0</td>\n",
              "    </tr>\n",
              "    <tr>\n",
              "      <th>4</th>\n",
              "      <td>DA Warner</td>\n",
              "      <td>207.0</td>\n",
              "    </tr>\n",
              "  </tbody>\n",
              "</table>\n",
              "</div>"
            ],
            "text/plain": [
              "     batsman      2\n",
              "0   MS Dhoni  251.0\n",
              "1  G Gambhir  245.0\n",
              "2   SK Raina  242.0\n",
              "3    V Kohli  242.0\n",
              "4  DA Warner  207.0"
            ]
          },
          "metadata": {
            "tags": []
          },
          "execution_count": 33
        }
      ]
    },
    {
      "cell_type": "code",
      "metadata": {
        "id": "NvEJZLnohFE4",
        "colab_type": "code",
        "outputId": "c3fa8ad2-fe82-48ce-c8d1-a8e395ce2faa",
        "colab": {
          "base_uri": "https://localhost:8080/",
          "height": 204
        }
      },
      "source": [
        "hsr[3].sort_values(ascending=False).head().reset_index()"
      ],
      "execution_count": 0,
      "outputs": [
        {
          "output_type": "execute_result",
          "data": {
            "text/html": [
              "<div>\n",
              "<style scoped>\n",
              "    .dataframe tbody tr th:only-of-type {\n",
              "        vertical-align: middle;\n",
              "    }\n",
              "\n",
              "    .dataframe tbody tr th {\n",
              "        vertical-align: top;\n",
              "    }\n",
              "\n",
              "    .dataframe thead th {\n",
              "        text-align: right;\n",
              "    }\n",
              "</style>\n",
              "<table border=\"1\" class=\"dataframe\">\n",
              "  <thead>\n",
              "    <tr style=\"text-align: right;\">\n",
              "      <th></th>\n",
              "      <th>batsman</th>\n",
              "      <th>3</th>\n",
              "    </tr>\n",
              "  </thead>\n",
              "  <tbody>\n",
              "    <tr>\n",
              "      <th>0</th>\n",
              "      <td>M Vijay</td>\n",
              "      <td>17.0</td>\n",
              "    </tr>\n",
              "    <tr>\n",
              "      <th>1</th>\n",
              "      <td>S Dhawan</td>\n",
              "      <td>16.0</td>\n",
              "    </tr>\n",
              "    <tr>\n",
              "      <th>2</th>\n",
              "      <td>G Gambhir</td>\n",
              "      <td>15.0</td>\n",
              "    </tr>\n",
              "    <tr>\n",
              "      <th>3</th>\n",
              "      <td>AM Rahane</td>\n",
              "      <td>14.0</td>\n",
              "    </tr>\n",
              "    <tr>\n",
              "      <th>4</th>\n",
              "      <td>DA Warner</td>\n",
              "      <td>13.0</td>\n",
              "    </tr>\n",
              "  </tbody>\n",
              "</table>\n",
              "</div>"
            ],
            "text/plain": [
              "     batsman     3\n",
              "0    M Vijay  17.0\n",
              "1   S Dhawan  16.0\n",
              "2  G Gambhir  15.0\n",
              "3  AM Rahane  14.0\n",
              "4  DA Warner  13.0"
            ]
          },
          "metadata": {
            "tags": []
          },
          "execution_count": 34
        }
      ]
    },
    {
      "cell_type": "code",
      "metadata": {
        "id": "8WnSPPR0hG8I",
        "colab_type": "code",
        "outputId": "034ab987-9951-4651-e231-8ecef97724db",
        "colab": {
          "base_uri": "https://localhost:8080/",
          "height": 204
        }
      },
      "source": [
        "hsr[4].sort_values(ascending=False).head().reset_index()"
      ],
      "execution_count": 0,
      "outputs": [
        {
          "output_type": "execute_result",
          "data": {
            "text/html": [
              "<div>\n",
              "<style scoped>\n",
              "    .dataframe tbody tr th:only-of-type {\n",
              "        vertical-align: middle;\n",
              "    }\n",
              "\n",
              "    .dataframe tbody tr th {\n",
              "        vertical-align: top;\n",
              "    }\n",
              "\n",
              "    .dataframe thead th {\n",
              "        text-align: right;\n",
              "    }\n",
              "</style>\n",
              "<table border=\"1\" class=\"dataframe\">\n",
              "  <thead>\n",
              "    <tr style=\"text-align: right;\">\n",
              "      <th></th>\n",
              "      <th>batsman</th>\n",
              "      <th>4</th>\n",
              "    </tr>\n",
              "  </thead>\n",
              "  <tbody>\n",
              "    <tr>\n",
              "      <th>0</th>\n",
              "      <td>G Gambhir</td>\n",
              "      <td>484.0</td>\n",
              "    </tr>\n",
              "    <tr>\n",
              "      <th>1</th>\n",
              "      <td>SK Raina</td>\n",
              "      <td>402.0</td>\n",
              "    </tr>\n",
              "    <tr>\n",
              "      <th>2</th>\n",
              "      <td>DA Warner</td>\n",
              "      <td>401.0</td>\n",
              "    </tr>\n",
              "    <tr>\n",
              "      <th>3</th>\n",
              "      <td>S Dhawan</td>\n",
              "      <td>401.0</td>\n",
              "    </tr>\n",
              "    <tr>\n",
              "      <th>4</th>\n",
              "      <td>V Kohli</td>\n",
              "      <td>384.0</td>\n",
              "    </tr>\n",
              "  </tbody>\n",
              "</table>\n",
              "</div>"
            ],
            "text/plain": [
              "     batsman      4\n",
              "0  G Gambhir  484.0\n",
              "1   SK Raina  402.0\n",
              "2  DA Warner  401.0\n",
              "3   S Dhawan  401.0\n",
              "4    V Kohli  384.0"
            ]
          },
          "metadata": {
            "tags": []
          },
          "execution_count": 35
        }
      ]
    },
    {
      "cell_type": "code",
      "metadata": {
        "id": "Iv0oBWDghJL5",
        "colab_type": "code",
        "outputId": "90d00c01-a3f0-4b2d-f5a3-917cd9ec5114",
        "colab": {
          "base_uri": "https://localhost:8080/",
          "height": 204
        }
      },
      "source": [
        "hsr[6].sort_values(ascending=False).head().reset_index()"
      ],
      "execution_count": 0,
      "outputs": [
        {
          "output_type": "execute_result",
          "data": {
            "text/html": [
              "<div>\n",
              "<style scoped>\n",
              "    .dataframe tbody tr th:only-of-type {\n",
              "        vertical-align: middle;\n",
              "    }\n",
              "\n",
              "    .dataframe tbody tr th {\n",
              "        vertical-align: top;\n",
              "    }\n",
              "\n",
              "    .dataframe thead th {\n",
              "        text-align: right;\n",
              "    }\n",
              "</style>\n",
              "<table border=\"1\" class=\"dataframe\">\n",
              "  <thead>\n",
              "    <tr style=\"text-align: right;\">\n",
              "      <th></th>\n",
              "      <th>batsman</th>\n",
              "      <th>6</th>\n",
              "    </tr>\n",
              "  </thead>\n",
              "  <tbody>\n",
              "    <tr>\n",
              "      <th>0</th>\n",
              "      <td>CH Gayle</td>\n",
              "      <td>266.0</td>\n",
              "    </tr>\n",
              "    <tr>\n",
              "      <th>1</th>\n",
              "      <td>SK Raina</td>\n",
              "      <td>174.0</td>\n",
              "    </tr>\n",
              "    <tr>\n",
              "      <th>2</th>\n",
              "      <td>RG Sharma</td>\n",
              "      <td>173.0</td>\n",
              "    </tr>\n",
              "    <tr>\n",
              "      <th>3</th>\n",
              "      <td>DA Warner</td>\n",
              "      <td>160.0</td>\n",
              "    </tr>\n",
              "    <tr>\n",
              "      <th>4</th>\n",
              "      <td>V Kohli</td>\n",
              "      <td>160.0</td>\n",
              "    </tr>\n",
              "  </tbody>\n",
              "</table>\n",
              "</div>"
            ],
            "text/plain": [
              "     batsman      6\n",
              "0   CH Gayle  266.0\n",
              "1   SK Raina  174.0\n",
              "2  RG Sharma  173.0\n",
              "3  DA Warner  160.0\n",
              "4    V Kohli  160.0"
            ]
          },
          "metadata": {
            "tags": []
          },
          "execution_count": 36
        }
      ]
    },
    {
      "cell_type": "markdown",
      "metadata": {
        "id": "7rZi2fklhVa4",
        "colab_type": "text"
      },
      "source": [
        "**Top Individual Scores**"
      ]
    },
    {
      "cell_type": "code",
      "metadata": {
        "id": "3ver8ud2fcjD",
        "colab_type": "code",
        "outputId": "18134f00-5928-4393-d3d4-551f4e3e6783",
        "colab": {
          "base_uri": "https://localhost:8080/",
          "height": 204
        }
      },
      "source": [
        "tis = deliv.groupby([\"id\",'inning', \"batsman\"])[\"batsman_runs\"].sum().reset_index()\n",
        "tis.sort_values('batsman_runs', ascending=0).head()\n"
      ],
      "execution_count": 0,
      "outputs": [
        {
          "output_type": "execute_result",
          "data": {
            "text/html": [
              "<div>\n",
              "<style scoped>\n",
              "    .dataframe tbody tr th:only-of-type {\n",
              "        vertical-align: middle;\n",
              "    }\n",
              "\n",
              "    .dataframe tbody tr th {\n",
              "        vertical-align: top;\n",
              "    }\n",
              "\n",
              "    .dataframe thead th {\n",
              "        text-align: right;\n",
              "    }\n",
              "</style>\n",
              "<table border=\"1\" class=\"dataframe\">\n",
              "  <thead>\n",
              "    <tr style=\"text-align: right;\">\n",
              "      <th></th>\n",
              "      <th>id</th>\n",
              "      <th>inning</th>\n",
              "      <th>batsman</th>\n",
              "      <th>batsman_runs</th>\n",
              "    </tr>\n",
              "  </thead>\n",
              "  <tbody>\n",
              "    <tr>\n",
              "      <th>6217</th>\n",
              "      <td>411</td>\n",
              "      <td>1</td>\n",
              "      <td>CH Gayle</td>\n",
              "      <td>175</td>\n",
              "    </tr>\n",
              "    <tr>\n",
              "      <th>902</th>\n",
              "      <td>60</td>\n",
              "      <td>1</td>\n",
              "      <td>BB McCullum</td>\n",
              "      <td>158</td>\n",
              "    </tr>\n",
              "    <tr>\n",
              "      <th>8458</th>\n",
              "      <td>562</td>\n",
              "      <td>1</td>\n",
              "      <td>AB de Villiers</td>\n",
              "      <td>133</td>\n",
              "    </tr>\n",
              "    <tr>\n",
              "      <th>9289</th>\n",
              "      <td>620</td>\n",
              "      <td>1</td>\n",
              "      <td>AB de Villiers</td>\n",
              "      <td>129</td>\n",
              "    </tr>\n",
              "    <tr>\n",
              "      <th>5596</th>\n",
              "      <td>372</td>\n",
              "      <td>1</td>\n",
              "      <td>CH Gayle</td>\n",
              "      <td>128</td>\n",
              "    </tr>\n",
              "  </tbody>\n",
              "</table>\n",
              "</div>"
            ],
            "text/plain": [
              "       id  inning         batsman  batsman_runs\n",
              "6217  411       1        CH Gayle           175\n",
              "902    60       1     BB McCullum           158\n",
              "8458  562       1  AB de Villiers           133\n",
              "9289  620       1  AB de Villiers           129\n",
              "5596  372       1        CH Gayle           128"
            ]
          },
          "metadata": {
            "tags": []
          },
          "execution_count": 37
        }
      ]
    },
    {
      "cell_type": "markdown",
      "metadata": {
        "id": "eTTjefTwfkvb",
        "colab_type": "text"
      },
      "source": [
        "**Highest score in each inning**"
      ]
    },
    {
      "cell_type": "code",
      "metadata": {
        "id": "PIl3dntPhLep",
        "colab_type": "code",
        "outputId": "9daf2a62-77b3-44aa-ce14-bfd596cabeb7",
        "colab": {
          "base_uri": "https://localhost:8080/",
          "height": 1969
        }
      },
      "source": [
        "tisi = deliv.groupby([\"id\",'inning', \"batsman\"])[\"batsman_runs\"].sum().reset_index()\n",
        "tisi.sort_values('batsman_runs', ascending=0).head()\n",
        "tisi['high_scorer']=\"\"\n",
        "tisi['high_scorer']=tisi.groupby(['id','inning'])['batsman_runs'].transform(max)\n",
        "tisi = tisi[tisi['batsman_runs']==tisi['high_scorer']]\n",
        "tisi"
      ],
      "execution_count": 0,
      "outputs": [
        {
          "output_type": "execute_result",
          "data": {
            "text/html": [
              "<div>\n",
              "<style scoped>\n",
              "    .dataframe tbody tr th:only-of-type {\n",
              "        vertical-align: middle;\n",
              "    }\n",
              "\n",
              "    .dataframe tbody tr th {\n",
              "        vertical-align: top;\n",
              "    }\n",
              "\n",
              "    .dataframe thead th {\n",
              "        text-align: right;\n",
              "    }\n",
              "</style>\n",
              "<table border=\"1\" class=\"dataframe\">\n",
              "  <thead>\n",
              "    <tr style=\"text-align: right;\">\n",
              "      <th></th>\n",
              "      <th>id</th>\n",
              "      <th>inning</th>\n",
              "      <th>batsman</th>\n",
              "      <th>batsman_runs</th>\n",
              "      <th>high_scorer</th>\n",
              "    </tr>\n",
              "  </thead>\n",
              "  <tbody>\n",
              "    <tr>\n",
              "      <th>5</th>\n",
              "      <td>1</td>\n",
              "      <td>1</td>\n",
              "      <td>Yuvraj Singh</td>\n",
              "      <td>62</td>\n",
              "      <td>62</td>\n",
              "    </tr>\n",
              "    <tr>\n",
              "      <th>7</th>\n",
              "      <td>1</td>\n",
              "      <td>2</td>\n",
              "      <td>CH Gayle</td>\n",
              "      <td>32</td>\n",
              "      <td>32</td>\n",
              "    </tr>\n",
              "    <tr>\n",
              "      <th>19</th>\n",
              "      <td>2</td>\n",
              "      <td>1</td>\n",
              "      <td>JC Buttler</td>\n",
              "      <td>38</td>\n",
              "      <td>38</td>\n",
              "    </tr>\n",
              "    <tr>\n",
              "      <th>30</th>\n",
              "      <td>2</td>\n",
              "      <td>2</td>\n",
              "      <td>SPD Smith</td>\n",
              "      <td>84</td>\n",
              "      <td>84</td>\n",
              "    </tr>\n",
              "    <tr>\n",
              "      <th>35</th>\n",
              "      <td>3</td>\n",
              "      <td>1</td>\n",
              "      <td>SK Raina</td>\n",
              "      <td>68</td>\n",
              "      <td>68</td>\n",
              "    </tr>\n",
              "    <tr>\n",
              "      <th>36</th>\n",
              "      <td>3</td>\n",
              "      <td>2</td>\n",
              "      <td>CA Lynn</td>\n",
              "      <td>93</td>\n",
              "      <td>93</td>\n",
              "    </tr>\n",
              "    <tr>\n",
              "      <th>39</th>\n",
              "      <td>4</td>\n",
              "      <td>1</td>\n",
              "      <td>BA Stokes</td>\n",
              "      <td>50</td>\n",
              "      <td>50</td>\n",
              "    </tr>\n",
              "    <tr>\n",
              "      <th>47</th>\n",
              "      <td>4</td>\n",
              "      <td>2</td>\n",
              "      <td>GJ Maxwell</td>\n",
              "      <td>44</td>\n",
              "      <td>44</td>\n",
              "    </tr>\n",
              "    <tr>\n",
              "      <th>53</th>\n",
              "      <td>5</td>\n",
              "      <td>1</td>\n",
              "      <td>KM Jadhav</td>\n",
              "      <td>69</td>\n",
              "      <td>69</td>\n",
              "    </tr>\n",
              "    <tr>\n",
              "      <th>66</th>\n",
              "      <td>5</td>\n",
              "      <td>2</td>\n",
              "      <td>RR Pant</td>\n",
              "      <td>57</td>\n",
              "      <td>57</td>\n",
              "    </tr>\n",
              "    <tr>\n",
              "      <th>74</th>\n",
              "      <td>6</td>\n",
              "      <td>1</td>\n",
              "      <td>DR Smith</td>\n",
              "      <td>37</td>\n",
              "      <td>37</td>\n",
              "    </tr>\n",
              "    <tr>\n",
              "      <th>80</th>\n",
              "      <td>6</td>\n",
              "      <td>2</td>\n",
              "      <td>DA Warner</td>\n",
              "      <td>76</td>\n",
              "      <td>76</td>\n",
              "    </tr>\n",
              "    <tr>\n",
              "      <th>86</th>\n",
              "      <td>7</td>\n",
              "      <td>1</td>\n",
              "      <td>MK Pandey</td>\n",
              "      <td>81</td>\n",
              "      <td>81</td>\n",
              "    </tr>\n",
              "    <tr>\n",
              "      <th>96</th>\n",
              "      <td>7</td>\n",
              "      <td>2</td>\n",
              "      <td>N Rana</td>\n",
              "      <td>50</td>\n",
              "      <td>50</td>\n",
              "    </tr>\n",
              "    <tr>\n",
              "      <th>99</th>\n",
              "      <td>8</td>\n",
              "      <td>1</td>\n",
              "      <td>AB de Villiers</td>\n",
              "      <td>89</td>\n",
              "      <td>89</td>\n",
              "    </tr>\n",
              "    <tr>\n",
              "      <th>107</th>\n",
              "      <td>8</td>\n",
              "      <td>2</td>\n",
              "      <td>HM Amla</td>\n",
              "      <td>58</td>\n",
              "      <td>58</td>\n",
              "    </tr>\n",
              "    <tr>\n",
              "      <th>113</th>\n",
              "      <td>9</td>\n",
              "      <td>1</td>\n",
              "      <td>SV Samson</td>\n",
              "      <td>102</td>\n",
              "      <td>102</td>\n",
              "    </tr>\n",
              "    <tr>\n",
              "      <th>122</th>\n",
              "      <td>9</td>\n",
              "      <td>2</td>\n",
              "      <td>MA Agarwal</td>\n",
              "      <td>20</td>\n",
              "      <td>20</td>\n",
              "    </tr>\n",
              "    <tr>\n",
              "      <th>128</th>\n",
              "      <td>10</td>\n",
              "      <td>1</td>\n",
              "      <td>DA Warner</td>\n",
              "      <td>49</td>\n",
              "      <td>49</td>\n",
              "    </tr>\n",
              "    <tr>\n",
              "      <th>140</th>\n",
              "      <td>10</td>\n",
              "      <td>2</td>\n",
              "      <td>N Rana</td>\n",
              "      <td>45</td>\n",
              "      <td>45</td>\n",
              "    </tr>\n",
              "    <tr>\n",
              "      <th>144</th>\n",
              "      <td>11</td>\n",
              "      <td>1</td>\n",
              "      <td>DA Miller</td>\n",
              "      <td>28</td>\n",
              "      <td>28</td>\n",
              "    </tr>\n",
              "    <tr>\n",
              "      <th>147</th>\n",
              "      <td>11</td>\n",
              "      <td>1</td>\n",
              "      <td>M Vohra</td>\n",
              "      <td>28</td>\n",
              "      <td>28</td>\n",
              "    </tr>\n",
              "    <tr>\n",
              "      <th>152</th>\n",
              "      <td>11</td>\n",
              "      <td>2</td>\n",
              "      <td>G Gambhir</td>\n",
              "      <td>72</td>\n",
              "      <td>72</td>\n",
              "    </tr>\n",
              "    <tr>\n",
              "      <th>162</th>\n",
              "      <td>12</td>\n",
              "      <td>1</td>\n",
              "      <td>V Kohli</td>\n",
              "      <td>62</td>\n",
              "      <td>62</td>\n",
              "    </tr>\n",
              "    <tr>\n",
              "      <th>165</th>\n",
              "      <td>12</td>\n",
              "      <td>2</td>\n",
              "      <td>KA Pollard</td>\n",
              "      <td>70</td>\n",
              "      <td>70</td>\n",
              "    </tr>\n",
              "    <tr>\n",
              "      <th>180</th>\n",
              "      <td>13</td>\n",
              "      <td>1</td>\n",
              "      <td>SPD Smith</td>\n",
              "      <td>43</td>\n",
              "      <td>43</td>\n",
              "    </tr>\n",
              "    <tr>\n",
              "      <th>182</th>\n",
              "      <td>13</td>\n",
              "      <td>2</td>\n",
              "      <td>BB McCullum</td>\n",
              "      <td>49</td>\n",
              "      <td>49</td>\n",
              "    </tr>\n",
              "    <tr>\n",
              "      <th>190</th>\n",
              "      <td>14</td>\n",
              "      <td>1</td>\n",
              "      <td>RV Uthappa</td>\n",
              "      <td>68</td>\n",
              "      <td>68</td>\n",
              "    </tr>\n",
              "    <tr>\n",
              "      <th>196</th>\n",
              "      <td>14</td>\n",
              "      <td>2</td>\n",
              "      <td>DA Warner</td>\n",
              "      <td>26</td>\n",
              "      <td>26</td>\n",
              "    </tr>\n",
              "    <tr>\n",
              "      <th>201</th>\n",
              "      <td>14</td>\n",
              "      <td>2</td>\n",
              "      <td>Yuvraj Singh</td>\n",
              "      <td>26</td>\n",
              "      <td>26</td>\n",
              "    </tr>\n",
              "    <tr>\n",
              "      <th>...</th>\n",
              "      <td>...</td>\n",
              "      <td>...</td>\n",
              "      <td>...</td>\n",
              "      <td>...</td>\n",
              "      <td>...</td>\n",
              "    </tr>\n",
              "    <tr>\n",
              "      <th>9318</th>\n",
              "      <td>622</td>\n",
              "      <td>1</td>\n",
              "      <td>HM Amla</td>\n",
              "      <td>96</td>\n",
              "      <td>96</td>\n",
              "    </tr>\n",
              "    <tr>\n",
              "      <th>9322</th>\n",
              "      <td>622</td>\n",
              "      <td>2</td>\n",
              "      <td>DA Warner</td>\n",
              "      <td>52</td>\n",
              "      <td>52</td>\n",
              "    </tr>\n",
              "    <tr>\n",
              "      <th>9329</th>\n",
              "      <td>623</td>\n",
              "      <td>1</td>\n",
              "      <td>KH Pandya</td>\n",
              "      <td>86</td>\n",
              "      <td>86</td>\n",
              "    </tr>\n",
              "    <tr>\n",
              "      <th>9338</th>\n",
              "      <td>623</td>\n",
              "      <td>2</td>\n",
              "      <td>Q de Kock</td>\n",
              "      <td>40</td>\n",
              "      <td>40</td>\n",
              "    </tr>\n",
              "    <tr>\n",
              "      <th>9344</th>\n",
              "      <td>624</td>\n",
              "      <td>1</td>\n",
              "      <td>G Gambhir</td>\n",
              "      <td>51</td>\n",
              "      <td>51</td>\n",
              "    </tr>\n",
              "    <tr>\n",
              "      <th>9352</th>\n",
              "      <td>624</td>\n",
              "      <td>2</td>\n",
              "      <td>V Kohli</td>\n",
              "      <td>75</td>\n",
              "      <td>75</td>\n",
              "    </tr>\n",
              "    <tr>\n",
              "      <th>9355</th>\n",
              "      <td>625</td>\n",
              "      <td>1</td>\n",
              "      <td>KK Nair</td>\n",
              "      <td>41</td>\n",
              "      <td>41</td>\n",
              "    </tr>\n",
              "    <tr>\n",
              "      <th>9361</th>\n",
              "      <td>625</td>\n",
              "      <td>2</td>\n",
              "      <td>AM Rahane</td>\n",
              "      <td>42</td>\n",
              "      <td>42</td>\n",
              "    </tr>\n",
              "    <tr>\n",
              "      <th>9368</th>\n",
              "      <td>626</td>\n",
              "      <td>1</td>\n",
              "      <td>V Kohli</td>\n",
              "      <td>113</td>\n",
              "      <td>113</td>\n",
              "    </tr>\n",
              "    <tr>\n",
              "      <th>9379</th>\n",
              "      <td>626</td>\n",
              "      <td>2</td>\n",
              "      <td>WP Saha</td>\n",
              "      <td>24</td>\n",
              "      <td>24</td>\n",
              "    </tr>\n",
              "    <tr>\n",
              "      <th>9389</th>\n",
              "      <td>627</td>\n",
              "      <td>1</td>\n",
              "      <td>YK Pathan</td>\n",
              "      <td>36</td>\n",
              "      <td>36</td>\n",
              "    </tr>\n",
              "    <tr>\n",
              "      <th>9395</th>\n",
              "      <td>627</td>\n",
              "      <td>2</td>\n",
              "      <td>SK Raina</td>\n",
              "      <td>53</td>\n",
              "      <td>53</td>\n",
              "    </tr>\n",
              "    <tr>\n",
              "      <th>9397</th>\n",
              "      <td>628</td>\n",
              "      <td>1</td>\n",
              "      <td>DA Warner</td>\n",
              "      <td>73</td>\n",
              "      <td>73</td>\n",
              "    </tr>\n",
              "    <tr>\n",
              "      <th>9406</th>\n",
              "      <td>628</td>\n",
              "      <td>2</td>\n",
              "      <td>KK Nair</td>\n",
              "      <td>83</td>\n",
              "      <td>83</td>\n",
              "    </tr>\n",
              "    <tr>\n",
              "      <th>9416</th>\n",
              "      <td>629</td>\n",
              "      <td>1</td>\n",
              "      <td>M Vijay</td>\n",
              "      <td>59</td>\n",
              "      <td>59</td>\n",
              "    </tr>\n",
              "    <tr>\n",
              "      <th>9422</th>\n",
              "      <td>629</td>\n",
              "      <td>2</td>\n",
              "      <td>MS Dhoni</td>\n",
              "      <td>64</td>\n",
              "      <td>64</td>\n",
              "    </tr>\n",
              "    <tr>\n",
              "      <th>9433</th>\n",
              "      <td>630</td>\n",
              "      <td>1</td>\n",
              "      <td>N Rana</td>\n",
              "      <td>70</td>\n",
              "      <td>70</td>\n",
              "    </tr>\n",
              "    <tr>\n",
              "      <th>9441</th>\n",
              "      <td>630</td>\n",
              "      <td>2</td>\n",
              "      <td>SK Raina</td>\n",
              "      <td>58</td>\n",
              "      <td>58</td>\n",
              "    </tr>\n",
              "    <tr>\n",
              "      <th>9449</th>\n",
              "      <td>631</td>\n",
              "      <td>1</td>\n",
              "      <td>YK Pathan</td>\n",
              "      <td>52</td>\n",
              "      <td>52</td>\n",
              "    </tr>\n",
              "    <tr>\n",
              "      <th>9458</th>\n",
              "      <td>631</td>\n",
              "      <td>2</td>\n",
              "      <td>S Dhawan</td>\n",
              "      <td>51</td>\n",
              "      <td>51</td>\n",
              "    </tr>\n",
              "    <tr>\n",
              "      <th>9465</th>\n",
              "      <td>632</td>\n",
              "      <td>1</td>\n",
              "      <td>Q de Kock</td>\n",
              "      <td>60</td>\n",
              "      <td>60</td>\n",
              "    </tr>\n",
              "    <tr>\n",
              "      <th>9474</th>\n",
              "      <td>632</td>\n",
              "      <td>2</td>\n",
              "      <td>V Kohli</td>\n",
              "      <td>54</td>\n",
              "      <td>54</td>\n",
              "    </tr>\n",
              "    <tr>\n",
              "      <th>9478</th>\n",
              "      <td>633</td>\n",
              "      <td>1</td>\n",
              "      <td>DR Smith</td>\n",
              "      <td>73</td>\n",
              "      <td>73</td>\n",
              "    </tr>\n",
              "    <tr>\n",
              "      <th>9486</th>\n",
              "      <td>633</td>\n",
              "      <td>2</td>\n",
              "      <td>AB de Villiers</td>\n",
              "      <td>79</td>\n",
              "      <td>79</td>\n",
              "    </tr>\n",
              "    <tr>\n",
              "      <th>9502</th>\n",
              "      <td>634</td>\n",
              "      <td>1</td>\n",
              "      <td>Yuvraj Singh</td>\n",
              "      <td>44</td>\n",
              "      <td>44</td>\n",
              "    </tr>\n",
              "    <tr>\n",
              "      <th>9506</th>\n",
              "      <td>634</td>\n",
              "      <td>2</td>\n",
              "      <td>MK Pandey</td>\n",
              "      <td>36</td>\n",
              "      <td>36</td>\n",
              "    </tr>\n",
              "    <tr>\n",
              "      <th>9512</th>\n",
              "      <td>635</td>\n",
              "      <td>1</td>\n",
              "      <td>AJ Finch</td>\n",
              "      <td>50</td>\n",
              "      <td>50</td>\n",
              "    </tr>\n",
              "    <tr>\n",
              "      <th>9523</th>\n",
              "      <td>635</td>\n",
              "      <td>2</td>\n",
              "      <td>DA Warner</td>\n",
              "      <td>93</td>\n",
              "      <td>93</td>\n",
              "    </tr>\n",
              "    <tr>\n",
              "      <th>9532</th>\n",
              "      <td>636</td>\n",
              "      <td>1</td>\n",
              "      <td>DA Warner</td>\n",
              "      <td>69</td>\n",
              "      <td>69</td>\n",
              "    </tr>\n",
              "    <tr>\n",
              "      <th>9539</th>\n",
              "      <td>636</td>\n",
              "      <td>2</td>\n",
              "      <td>CH Gayle</td>\n",
              "      <td>76</td>\n",
              "      <td>76</td>\n",
              "    </tr>\n",
              "  </tbody>\n",
              "</table>\n",
              "<p>1316 rows × 5 columns</p>\n",
              "</div>"
            ],
            "text/plain": [
              "       id  inning         batsman  batsman_runs  high_scorer\n",
              "5       1       1    Yuvraj Singh            62           62\n",
              "7       1       2        CH Gayle            32           32\n",
              "19      2       1      JC Buttler            38           38\n",
              "30      2       2       SPD Smith            84           84\n",
              "35      3       1        SK Raina            68           68\n",
              "36      3       2         CA Lynn            93           93\n",
              "39      4       1       BA Stokes            50           50\n",
              "47      4       2      GJ Maxwell            44           44\n",
              "53      5       1       KM Jadhav            69           69\n",
              "66      5       2         RR Pant            57           57\n",
              "74      6       1        DR Smith            37           37\n",
              "80      6       2       DA Warner            76           76\n",
              "86      7       1       MK Pandey            81           81\n",
              "96      7       2          N Rana            50           50\n",
              "99      8       1  AB de Villiers            89           89\n",
              "107     8       2         HM Amla            58           58\n",
              "113     9       1       SV Samson           102          102\n",
              "122     9       2      MA Agarwal            20           20\n",
              "128    10       1       DA Warner            49           49\n",
              "140    10       2          N Rana            45           45\n",
              "144    11       1       DA Miller            28           28\n",
              "147    11       1         M Vohra            28           28\n",
              "152    11       2       G Gambhir            72           72\n",
              "162    12       1         V Kohli            62           62\n",
              "165    12       2      KA Pollard            70           70\n",
              "180    13       1       SPD Smith            43           43\n",
              "182    13       2     BB McCullum            49           49\n",
              "190    14       1      RV Uthappa            68           68\n",
              "196    14       2       DA Warner            26           26\n",
              "201    14       2    Yuvraj Singh            26           26\n",
              "...   ...     ...             ...           ...          ...\n",
              "9318  622       1         HM Amla            96           96\n",
              "9322  622       2       DA Warner            52           52\n",
              "9329  623       1       KH Pandya            86           86\n",
              "9338  623       2       Q de Kock            40           40\n",
              "9344  624       1       G Gambhir            51           51\n",
              "9352  624       2         V Kohli            75           75\n",
              "9355  625       1         KK Nair            41           41\n",
              "9361  625       2       AM Rahane            42           42\n",
              "9368  626       1         V Kohli           113          113\n",
              "9379  626       2         WP Saha            24           24\n",
              "9389  627       1       YK Pathan            36           36\n",
              "9395  627       2        SK Raina            53           53\n",
              "9397  628       1       DA Warner            73           73\n",
              "9406  628       2         KK Nair            83           83\n",
              "9416  629       1         M Vijay            59           59\n",
              "9422  629       2        MS Dhoni            64           64\n",
              "9433  630       1          N Rana            70           70\n",
              "9441  630       2        SK Raina            58           58\n",
              "9449  631       1       YK Pathan            52           52\n",
              "9458  631       2        S Dhawan            51           51\n",
              "9465  632       1       Q de Kock            60           60\n",
              "9474  632       2         V Kohli            54           54\n",
              "9478  633       1        DR Smith            73           73\n",
              "9486  633       2  AB de Villiers            79           79\n",
              "9502  634       1    Yuvraj Singh            44           44\n",
              "9506  634       2       MK Pandey            36           36\n",
              "9512  635       1        AJ Finch            50           50\n",
              "9523  635       2       DA Warner            93           93\n",
              "9532  636       1       DA Warner            69           69\n",
              "9539  636       2        CH Gayle            76           76\n",
              "\n",
              "[1316 rows x 5 columns]"
            ]
          },
          "metadata": {
            "tags": []
          },
          "execution_count": 38
        }
      ]
    },
    {
      "cell_type": "markdown",
      "metadata": {
        "id": "icSUQZggqOhB",
        "colab_type": "text"
      },
      "source": [
        "**Individual Scores By Top Batsman each Inning**"
      ]
    },
    {
      "cell_type": "code",
      "metadata": {
        "id": "R2HD5iuph-Vn",
        "colab_type": "code",
        "outputId": "78dabf8d-81b1-44e4-a79e-1e42f1a70657",
        "colab": {
          "base_uri": "https://localhost:8080/",
          "height": 2023
        }
      },
      "source": [
        "btsmn=['CH Gayle','V Kohli','G Gambhir','SK Raina','YK Pathan','MS Dhoni','AB de Villiers','DA Warner']\n",
        "scores = deliv.groupby([\"id\", \"batsman\",\"batting_team\"])[\"batsman_runs\"].sum().reset_index()\n",
        "scores=scores[tis['batsman'].isin(btsmn)]\n",
        "scores"
      ],
      "execution_count": 0,
      "outputs": [
        {
          "output_type": "stream",
          "text": [
            "/usr/local/lib/python3.6/dist-packages/ipykernel_launcher.py:3: UserWarning: Boolean Series key will be reindexed to match DataFrame index.\n",
            "  This is separate from the ipykernel package so we can avoid doing imports until\n"
          ],
          "name": "stderr"
        },
        {
          "output_type": "execute_result",
          "data": {
            "text/html": [
              "<div>\n",
              "<style scoped>\n",
              "    .dataframe tbody tr th:only-of-type {\n",
              "        vertical-align: middle;\n",
              "    }\n",
              "\n",
              "    .dataframe tbody tr th {\n",
              "        vertical-align: top;\n",
              "    }\n",
              "\n",
              "    .dataframe thead th {\n",
              "        text-align: right;\n",
              "    }\n",
              "</style>\n",
              "<table border=\"1\" class=\"dataframe\">\n",
              "  <thead>\n",
              "    <tr style=\"text-align: right;\">\n",
              "      <th></th>\n",
              "      <th>id</th>\n",
              "      <th>batsman</th>\n",
              "      <th>batting_team</th>\n",
              "      <th>batsman_runs</th>\n",
              "    </tr>\n",
              "  </thead>\n",
              "  <tbody>\n",
              "    <tr>\n",
              "      <th>1</th>\n",
              "      <td>1</td>\n",
              "      <td>BCJ Cutting</td>\n",
              "      <td>Sunrisers Hyderabad</td>\n",
              "      <td>16</td>\n",
              "    </tr>\n",
              "    <tr>\n",
              "      <th>7</th>\n",
              "      <td>1</td>\n",
              "      <td>Mandeep Singh</td>\n",
              "      <td>Royal Challengers Bangalore</td>\n",
              "      <td>24</td>\n",
              "    </tr>\n",
              "    <tr>\n",
              "      <th>29</th>\n",
              "      <td>2</td>\n",
              "      <td>SPD Smith</td>\n",
              "      <td>Rising Pune Supergiant</td>\n",
              "      <td>84</td>\n",
              "    </tr>\n",
              "    <tr>\n",
              "      <th>35</th>\n",
              "      <td>3</td>\n",
              "      <td>JJ Roy</td>\n",
              "      <td>Gujarat Lions</td>\n",
              "      <td>14</td>\n",
              "    </tr>\n",
              "    <tr>\n",
              "      <th>37</th>\n",
              "      <td>3</td>\n",
              "      <td>SK Raina</td>\n",
              "      <td>Gujarat Lions</td>\n",
              "      <td>68</td>\n",
              "    </tr>\n",
              "    <tr>\n",
              "      <th>43</th>\n",
              "      <td>4</td>\n",
              "      <td>GJ Maxwell</td>\n",
              "      <td>Kings XI Punjab</td>\n",
              "      <td>44</td>\n",
              "    </tr>\n",
              "    <tr>\n",
              "      <th>51</th>\n",
              "      <td>5</td>\n",
              "      <td>A Mishra</td>\n",
              "      <td>Delhi Daredevils</td>\n",
              "      <td>8</td>\n",
              "    </tr>\n",
              "    <tr>\n",
              "      <th>79</th>\n",
              "      <td>6</td>\n",
              "      <td>MC Henriques</td>\n",
              "      <td>Sunrisers Hyderabad</td>\n",
              "      <td>52</td>\n",
              "    </tr>\n",
              "    <tr>\n",
              "      <th>80</th>\n",
              "      <td>6</td>\n",
              "      <td>P Kumar</td>\n",
              "      <td>Gujarat Lions</td>\n",
              "      <td>7</td>\n",
              "    </tr>\n",
              "    <tr>\n",
              "      <th>85</th>\n",
              "      <td>7</td>\n",
              "      <td>G Gambhir</td>\n",
              "      <td>Kolkata Knight Riders</td>\n",
              "      <td>19</td>\n",
              "    </tr>\n",
              "    <tr>\n",
              "      <th>90</th>\n",
              "      <td>7</td>\n",
              "      <td>KH Pandya</td>\n",
              "      <td>Mumbai Indians</td>\n",
              "      <td>11</td>\n",
              "    </tr>\n",
              "    <tr>\n",
              "      <th>99</th>\n",
              "      <td>8</td>\n",
              "      <td>AB de Villiers</td>\n",
              "      <td>Royal Challengers Bangalore</td>\n",
              "      <td>89</td>\n",
              "    </tr>\n",
              "    <tr>\n",
              "      <th>123</th>\n",
              "      <td>9</td>\n",
              "      <td>RR Pant</td>\n",
              "      <td>Delhi Daredevils</td>\n",
              "      <td>31</td>\n",
              "    </tr>\n",
              "    <tr>\n",
              "      <th>128</th>\n",
              "      <td>10</td>\n",
              "      <td>DA Warner</td>\n",
              "      <td>Sunrisers Hyderabad</td>\n",
              "      <td>49</td>\n",
              "    </tr>\n",
              "    <tr>\n",
              "      <th>152</th>\n",
              "      <td>11</td>\n",
              "      <td>RV Uthappa</td>\n",
              "      <td>Kolkata Knight Riders</td>\n",
              "      <td>26</td>\n",
              "    </tr>\n",
              "    <tr>\n",
              "      <th>156</th>\n",
              "      <td>12</td>\n",
              "      <td>AB de Villiers</td>\n",
              "      <td>Royal Challengers Bangalore</td>\n",
              "      <td>19</td>\n",
              "    </tr>\n",
              "    <tr>\n",
              "      <th>157</th>\n",
              "      <td>12</td>\n",
              "      <td>CH Gayle</td>\n",
              "      <td>Royal Challengers Bangalore</td>\n",
              "      <td>22</td>\n",
              "    </tr>\n",
              "    <tr>\n",
              "      <th>162</th>\n",
              "      <td>12</td>\n",
              "      <td>KM Jadhav</td>\n",
              "      <td>Royal Challengers Bangalore</td>\n",
              "      <td>9</td>\n",
              "    </tr>\n",
              "    <tr>\n",
              "      <th>176</th>\n",
              "      <td>13</td>\n",
              "      <td>DR Smith</td>\n",
              "      <td>Gujarat Lions</td>\n",
              "      <td>47</td>\n",
              "    </tr>\n",
              "    <tr>\n",
              "      <th>185</th>\n",
              "      <td>13</td>\n",
              "      <td>SPD Smith</td>\n",
              "      <td>Rising Pune Supergiant</td>\n",
              "      <td>43</td>\n",
              "    </tr>\n",
              "    <tr>\n",
              "      <th>188</th>\n",
              "      <td>14</td>\n",
              "      <td>C de Grandhomme</td>\n",
              "      <td>Kolkata Knight Riders</td>\n",
              "      <td>0</td>\n",
              "    </tr>\n",
              "    <tr>\n",
              "      <th>193</th>\n",
              "      <td>14</td>\n",
              "      <td>MC Henriques</td>\n",
              "      <td>Sunrisers Hyderabad</td>\n",
              "      <td>13</td>\n",
              "    </tr>\n",
              "    <tr>\n",
              "      <th>196</th>\n",
              "      <td>14</td>\n",
              "      <td>RV Uthappa</td>\n",
              "      <td>Kolkata Knight Riders</td>\n",
              "      <td>68</td>\n",
              "    </tr>\n",
              "    <tr>\n",
              "      <th>225</th>\n",
              "      <td>16</td>\n",
              "      <td>JJ Roy</td>\n",
              "      <td>Gujarat Lions</td>\n",
              "      <td>14</td>\n",
              "    </tr>\n",
              "    <tr>\n",
              "      <th>237</th>\n",
              "      <td>17</td>\n",
              "      <td>JD Unadkat</td>\n",
              "      <td>Rising Pune Supergiant</td>\n",
              "      <td>2</td>\n",
              "    </tr>\n",
              "    <tr>\n",
              "      <th>241</th>\n",
              "      <td>17</td>\n",
              "      <td>Mandeep Singh</td>\n",
              "      <td>Royal Challengers Bangalore</td>\n",
              "      <td>0</td>\n",
              "    </tr>\n",
              "    <tr>\n",
              "      <th>250</th>\n",
              "      <td>17</td>\n",
              "      <td>V Kohli</td>\n",
              "      <td>Royal Challengers Bangalore</td>\n",
              "      <td>28</td>\n",
              "    </tr>\n",
              "    <tr>\n",
              "      <th>263</th>\n",
              "      <td>18</td>\n",
              "      <td>SA Yadav</td>\n",
              "      <td>Kolkata Knight Riders</td>\n",
              "      <td>7</td>\n",
              "    </tr>\n",
              "    <tr>\n",
              "      <th>268</th>\n",
              "      <td>18</td>\n",
              "      <td>YK Pathan</td>\n",
              "      <td>Kolkata Knight Riders</td>\n",
              "      <td>59</td>\n",
              "    </tr>\n",
              "    <tr>\n",
              "      <th>269</th>\n",
              "      <td>19</td>\n",
              "      <td>AR Patel</td>\n",
              "      <td>Kings XI Punjab</td>\n",
              "      <td>7</td>\n",
              "    </tr>\n",
              "    <tr>\n",
              "      <th>...</th>\n",
              "      <td>...</td>\n",
              "      <td>...</td>\n",
              "      <td>...</td>\n",
              "      <td>...</td>\n",
              "    </tr>\n",
              "    <tr>\n",
              "      <th>9312</th>\n",
              "      <td>624</td>\n",
              "      <td>AD Russell</td>\n",
              "      <td>Kolkata Knight Riders</td>\n",
              "      <td>39</td>\n",
              "    </tr>\n",
              "    <tr>\n",
              "      <th>9315</th>\n",
              "      <td>624</td>\n",
              "      <td>MK Pandey</td>\n",
              "      <td>Kolkata Knight Riders</td>\n",
              "      <td>50</td>\n",
              "    </tr>\n",
              "    <tr>\n",
              "      <th>9322</th>\n",
              "      <td>625</td>\n",
              "      <td>CH Morris</td>\n",
              "      <td>Delhi Daredevils</td>\n",
              "      <td>38</td>\n",
              "    </tr>\n",
              "    <tr>\n",
              "      <th>9344</th>\n",
              "      <td>626</td>\n",
              "      <td>SR Watson</td>\n",
              "      <td>Royal Challengers Bangalore</td>\n",
              "      <td>1</td>\n",
              "    </tr>\n",
              "    <tr>\n",
              "      <th>9349</th>\n",
              "      <td>627</td>\n",
              "      <td>BB McCullum</td>\n",
              "      <td>Gujarat Lions</td>\n",
              "      <td>6</td>\n",
              "    </tr>\n",
              "    <tr>\n",
              "      <th>9350</th>\n",
              "      <td>627</td>\n",
              "      <td>DR Smith</td>\n",
              "      <td>Gujarat Lions</td>\n",
              "      <td>0</td>\n",
              "    </tr>\n",
              "    <tr>\n",
              "      <th>9351</th>\n",
              "      <td>627</td>\n",
              "      <td>G Gambhir</td>\n",
              "      <td>Kolkata Knight Riders</td>\n",
              "      <td>8</td>\n",
              "    </tr>\n",
              "    <tr>\n",
              "      <th>9352</th>\n",
              "      <td>627</td>\n",
              "      <td>JO Holder</td>\n",
              "      <td>Kolkata Knight Riders</td>\n",
              "      <td>13</td>\n",
              "    </tr>\n",
              "    <tr>\n",
              "      <th>9364</th>\n",
              "      <td>628</td>\n",
              "      <td>B Kumar</td>\n",
              "      <td>Sunrisers Hyderabad</td>\n",
              "      <td>13</td>\n",
              "    </tr>\n",
              "    <tr>\n",
              "      <th>9365</th>\n",
              "      <td>628</td>\n",
              "      <td>CR Brathwaite</td>\n",
              "      <td>Delhi Daredevils</td>\n",
              "      <td>10</td>\n",
              "    </tr>\n",
              "    <tr>\n",
              "      <th>9368</th>\n",
              "      <td>628</td>\n",
              "      <td>EJG Morgan</td>\n",
              "      <td>Sunrisers Hyderabad</td>\n",
              "      <td>14</td>\n",
              "    </tr>\n",
              "    <tr>\n",
              "      <th>9380</th>\n",
              "      <td>629</td>\n",
              "      <td>DA Miller</td>\n",
              "      <td>Kings XI Punjab</td>\n",
              "      <td>7</td>\n",
              "    </tr>\n",
              "    <tr>\n",
              "      <th>9389</th>\n",
              "      <td>629</td>\n",
              "      <td>NLTC Perera</td>\n",
              "      <td>Rising Pune Supergiants</td>\n",
              "      <td>23</td>\n",
              "    </tr>\n",
              "    <tr>\n",
              "      <th>9395</th>\n",
              "      <td>630</td>\n",
              "      <td>AJ Finch</td>\n",
              "      <td>Gujarat Lions</td>\n",
              "      <td>0</td>\n",
              "    </tr>\n",
              "    <tr>\n",
              "      <th>9397</th>\n",
              "      <td>630</td>\n",
              "      <td>DR Smith</td>\n",
              "      <td>Gujarat Lions</td>\n",
              "      <td>37</td>\n",
              "    </tr>\n",
              "    <tr>\n",
              "      <th>9422</th>\n",
              "      <td>631</td>\n",
              "      <td>RV Uthappa</td>\n",
              "      <td>Kolkata Knight Riders</td>\n",
              "      <td>25</td>\n",
              "    </tr>\n",
              "    <tr>\n",
              "      <th>9441</th>\n",
              "      <td>632</td>\n",
              "      <td>SW Billings</td>\n",
              "      <td>Delhi Daredevils</td>\n",
              "      <td>4</td>\n",
              "    </tr>\n",
              "    <tr>\n",
              "      <th>9443</th>\n",
              "      <td>633</td>\n",
              "      <td>AB de Villiers</td>\n",
              "      <td>Royal Challengers Bangalore</td>\n",
              "      <td>79</td>\n",
              "    </tr>\n",
              "    <tr>\n",
              "      <th>9449</th>\n",
              "      <td>633</td>\n",
              "      <td>DS Kulkarni</td>\n",
              "      <td>Gujarat Lions</td>\n",
              "      <td>10</td>\n",
              "    </tr>\n",
              "    <tr>\n",
              "      <th>9452</th>\n",
              "      <td>633</td>\n",
              "      <td>KD Karthik</td>\n",
              "      <td>Gujarat Lions</td>\n",
              "      <td>26</td>\n",
              "    </tr>\n",
              "    <tr>\n",
              "      <th>9469</th>\n",
              "      <td>634</td>\n",
              "      <td>JO Holder</td>\n",
              "      <td>Kolkata Knight Riders</td>\n",
              "      <td>6</td>\n",
              "    </tr>\n",
              "    <tr>\n",
              "      <th>9470</th>\n",
              "      <td>634</td>\n",
              "      <td>MC Henriques</td>\n",
              "      <td>Sunrisers Hyderabad</td>\n",
              "      <td>31</td>\n",
              "    </tr>\n",
              "    <tr>\n",
              "      <th>9474</th>\n",
              "      <td>634</td>\n",
              "      <td>RV Uthappa</td>\n",
              "      <td>Kolkata Knight Riders</td>\n",
              "      <td>11</td>\n",
              "    </tr>\n",
              "    <tr>\n",
              "      <th>9485</th>\n",
              "      <td>635</td>\n",
              "      <td>DJ Bravo</td>\n",
              "      <td>Gujarat Lions</td>\n",
              "      <td>20</td>\n",
              "    </tr>\n",
              "    <tr>\n",
              "      <th>9486</th>\n",
              "      <td>635</td>\n",
              "      <td>DJ Hooda</td>\n",
              "      <td>Sunrisers Hyderabad</td>\n",
              "      <td>4</td>\n",
              "    </tr>\n",
              "    <tr>\n",
              "      <th>9487</th>\n",
              "      <td>635</td>\n",
              "      <td>DR Smith</td>\n",
              "      <td>Gujarat Lions</td>\n",
              "      <td>1</td>\n",
              "    </tr>\n",
              "    <tr>\n",
              "      <th>9493</th>\n",
              "      <td>635</td>\n",
              "      <td>RA Jadeja</td>\n",
              "      <td>Gujarat Lions</td>\n",
              "      <td>19</td>\n",
              "    </tr>\n",
              "    <tr>\n",
              "      <th>9497</th>\n",
              "      <td>636</td>\n",
              "      <td>AB de Villiers</td>\n",
              "      <td>Royal Challengers Bangalore</td>\n",
              "      <td>5</td>\n",
              "    </tr>\n",
              "    <tr>\n",
              "      <th>9504</th>\n",
              "      <td>636</td>\n",
              "      <td>DJ Hooda</td>\n",
              "      <td>Sunrisers Hyderabad</td>\n",
              "      <td>3</td>\n",
              "    </tr>\n",
              "    <tr>\n",
              "      <th>9511</th>\n",
              "      <td>636</td>\n",
              "      <td>STR Binny</td>\n",
              "      <td>Royal Challengers Bangalore</td>\n",
              "      <td>9</td>\n",
              "    </tr>\n",
              "  </tbody>\n",
              "</table>\n",
              "<p>1054 rows × 4 columns</p>\n",
              "</div>"
            ],
            "text/plain": [
              "       id          batsman                 batting_team  batsman_runs\n",
              "1       1      BCJ Cutting          Sunrisers Hyderabad            16\n",
              "7       1    Mandeep Singh  Royal Challengers Bangalore            24\n",
              "29      2        SPD Smith       Rising Pune Supergiant            84\n",
              "35      3           JJ Roy                Gujarat Lions            14\n",
              "37      3         SK Raina                Gujarat Lions            68\n",
              "43      4       GJ Maxwell              Kings XI Punjab            44\n",
              "51      5         A Mishra             Delhi Daredevils             8\n",
              "79      6     MC Henriques          Sunrisers Hyderabad            52\n",
              "80      6          P Kumar                Gujarat Lions             7\n",
              "85      7        G Gambhir        Kolkata Knight Riders            19\n",
              "90      7        KH Pandya               Mumbai Indians            11\n",
              "99      8   AB de Villiers  Royal Challengers Bangalore            89\n",
              "123     9          RR Pant             Delhi Daredevils            31\n",
              "128    10        DA Warner          Sunrisers Hyderabad            49\n",
              "152    11       RV Uthappa        Kolkata Knight Riders            26\n",
              "156    12   AB de Villiers  Royal Challengers Bangalore            19\n",
              "157    12         CH Gayle  Royal Challengers Bangalore            22\n",
              "162    12        KM Jadhav  Royal Challengers Bangalore             9\n",
              "176    13         DR Smith                Gujarat Lions            47\n",
              "185    13        SPD Smith       Rising Pune Supergiant            43\n",
              "188    14  C de Grandhomme        Kolkata Knight Riders             0\n",
              "193    14     MC Henriques          Sunrisers Hyderabad            13\n",
              "196    14       RV Uthappa        Kolkata Knight Riders            68\n",
              "225    16           JJ Roy                Gujarat Lions            14\n",
              "237    17       JD Unadkat       Rising Pune Supergiant             2\n",
              "241    17    Mandeep Singh  Royal Challengers Bangalore             0\n",
              "250    17          V Kohli  Royal Challengers Bangalore            28\n",
              "263    18         SA Yadav        Kolkata Knight Riders             7\n",
              "268    18        YK Pathan        Kolkata Knight Riders            59\n",
              "269    19         AR Patel              Kings XI Punjab             7\n",
              "...   ...              ...                          ...           ...\n",
              "9312  624       AD Russell        Kolkata Knight Riders            39\n",
              "9315  624        MK Pandey        Kolkata Knight Riders            50\n",
              "9322  625        CH Morris             Delhi Daredevils            38\n",
              "9344  626        SR Watson  Royal Challengers Bangalore             1\n",
              "9349  627      BB McCullum                Gujarat Lions             6\n",
              "9350  627         DR Smith                Gujarat Lions             0\n",
              "9351  627        G Gambhir        Kolkata Knight Riders             8\n",
              "9352  627        JO Holder        Kolkata Knight Riders            13\n",
              "9364  628          B Kumar          Sunrisers Hyderabad            13\n",
              "9365  628    CR Brathwaite             Delhi Daredevils            10\n",
              "9368  628       EJG Morgan          Sunrisers Hyderabad            14\n",
              "9380  629        DA Miller              Kings XI Punjab             7\n",
              "9389  629      NLTC Perera      Rising Pune Supergiants            23\n",
              "9395  630         AJ Finch                Gujarat Lions             0\n",
              "9397  630         DR Smith                Gujarat Lions            37\n",
              "9422  631       RV Uthappa        Kolkata Knight Riders            25\n",
              "9441  632      SW Billings             Delhi Daredevils             4\n",
              "9443  633   AB de Villiers  Royal Challengers Bangalore            79\n",
              "9449  633      DS Kulkarni                Gujarat Lions            10\n",
              "9452  633       KD Karthik                Gujarat Lions            26\n",
              "9469  634        JO Holder        Kolkata Knight Riders             6\n",
              "9470  634     MC Henriques          Sunrisers Hyderabad            31\n",
              "9474  634       RV Uthappa        Kolkata Knight Riders            11\n",
              "9485  635         DJ Bravo                Gujarat Lions            20\n",
              "9486  635         DJ Hooda          Sunrisers Hyderabad             4\n",
              "9487  635         DR Smith                Gujarat Lions             1\n",
              "9493  635        RA Jadeja                Gujarat Lions            19\n",
              "9497  636   AB de Villiers  Royal Challengers Bangalore             5\n",
              "9504  636         DJ Hooda          Sunrisers Hyderabad             3\n",
              "9511  636        STR Binny  Royal Challengers Bangalore             9\n",
              "\n",
              "[1054 rows x 4 columns]"
            ]
          },
          "metadata": {
            "tags": []
          },
          "execution_count": 39
        }
      ]
    },
    {
      "cell_type": "markdown",
      "metadata": {
        "id": "RGcu0IORj0i3",
        "colab_type": "text"
      },
      "source": [
        "### **Top Bowlers**"
      ]
    },
    {
      "cell_type": "markdown",
      "metadata": {
        "id": "rleuqo6-j4t6",
        "colab_type": "text"
      },
      "source": [
        "**Highest Wicket Taker**"
      ]
    },
    {
      "cell_type": "code",
      "metadata": {
        "id": "aYyQLk_EjGtB",
        "colab_type": "code",
        "outputId": "d67d08c8-2667-413e-9a97-f2e038ee6e60",
        "colab": {
          "base_uri": "https://localhost:8080/",
          "height": 359
        }
      },
      "source": [
        "outs = [\"bowled\", \"stumped\", \"caught\", \"lbw\", \"caught and bowled\",\"hit wicket\"]\n",
        "hwt=deliv[deliv[\"dismissal_kind\"].isin(outs)]\n",
        "hwtaker=hwt['bowler'].value_counts()\n",
        "hwtaker.head().plot.bar()"
      ],
      "execution_count": 0,
      "outputs": [
        {
          "output_type": "execute_result",
          "data": {
            "text/plain": [
              "<matplotlib.axes._subplots.AxesSubplot at 0x7f46991a6f60>"
            ]
          },
          "metadata": {
            "tags": []
          },
          "execution_count": 40
        },
        {
          "output_type": "display_data",
          "data": {
            "image/png": "[encoded data removed]",
            "text/plain": [
              "<Figure size 432x288 with 1 Axes>"
            ]
          },
          "metadata": {
            "tags": []
          }
        }
      ]
    },
    {
      "cell_type": "markdown",
      "metadata": {
        "id": "Q8yfCiTskxfo",
        "colab_type": "text"
      },
      "source": [
        "**Maximum Overs**"
      ]
    },
    {
      "cell_type": "code",
      "metadata": {
        "id": "Dsfx1RkykZrk",
        "colab_type": "code",
        "outputId": "12feddc3-653e-44c8-9f0b-c5831c5f4b4f",
        "colab": {
          "base_uri": "https://localhost:8080/",
          "height": 204
        }
      },
      "source": [
        "maxo=deliv.groupby(['bowler']).sum()\n",
        "maxo['balls_count']=deliv['bowler'].value_counts()\n",
        "maxo['overs_count']=(maxo['balls_count']//6)\n",
        "maxo.sort_values(by='overs_count')['overs_count'].tail(5).reset_index()"
      ],
      "execution_count": 0,
      "outputs": [
        {
          "output_type": "execute_result",
          "data": {
            "text/html": [
              "<div>\n",
              "<style scoped>\n",
              "    .dataframe tbody tr th:only-of-type {\n",
              "        vertical-align: middle;\n",
              "    }\n",
              "\n",
              "    .dataframe tbody tr th {\n",
              "        vertical-align: top;\n",
              "    }\n",
              "\n",
              "    .dataframe thead th {\n",
              "        text-align: right;\n",
              "    }\n",
              "</style>\n",
              "<table border=\"1\" class=\"dataframe\">\n",
              "  <thead>\n",
              "    <tr style=\"text-align: right;\">\n",
              "      <th></th>\n",
              "      <th>bowler</th>\n",
              "      <th>overs_count</th>\n",
              "    </tr>\n",
              "  </thead>\n",
              "  <tbody>\n",
              "    <tr>\n",
              "      <th>0</th>\n",
              "      <td>PP Chawla</td>\n",
              "      <td>432</td>\n",
              "    </tr>\n",
              "    <tr>\n",
              "      <th>1</th>\n",
              "      <td>P Kumar</td>\n",
              "      <td>439</td>\n",
              "    </tr>\n",
              "    <tr>\n",
              "      <th>2</th>\n",
              "      <td>SL Malinga</td>\n",
              "      <td>449</td>\n",
              "    </tr>\n",
              "    <tr>\n",
              "      <th>3</th>\n",
              "      <td>A Mishra</td>\n",
              "      <td>450</td>\n",
              "    </tr>\n",
              "    <tr>\n",
              "      <th>4</th>\n",
              "      <td>Harbhajan Singh</td>\n",
              "      <td>498</td>\n",
              "    </tr>\n",
              "  </tbody>\n",
              "</table>\n",
              "</div>"
            ],
            "text/plain": [
              "            bowler  overs_count\n",
              "0        PP Chawla          432\n",
              "1          P Kumar          439\n",
              "2       SL Malinga          449\n",
              "3         A Mishra          450\n",
              "4  Harbhajan Singh          498"
            ]
          },
          "metadata": {
            "tags": []
          },
          "execution_count": 41
        }
      ]
    },
    {
      "cell_type": "markdown",
      "metadata": {
        "id": "zQEd8Iw2l0kd",
        "colab_type": "text"
      },
      "source": [
        "**Most Economical Bowlers with 300+ overs**"
      ]
    },
    {
      "cell_type": "code",
      "metadata": {
        "id": "oWuo5VkXk_Om",
        "colab_type": "code",
        "outputId": "594f91e9-18e1-4cb0-8753-f81c5d541aba",
        "colab": {
          "base_uri": "https://localhost:8080/",
          "height": 204
        }
      },
      "source": [
        "maxo['economy']=(maxo['total_runs']/(maxo['overs_count']))\n",
        "maxe = maxo[(maxo['overs_count']>300)]\n",
        "maxe = maxe.sort_values('economy').head().economy.reset_index()\n",
        "maxe"
      ],
      "execution_count": 0,
      "outputs": [
        {
          "output_type": "execute_result",
          "data": {
            "text/html": [
              "<div>\n",
              "<style scoped>\n",
              "    .dataframe tbody tr th:only-of-type {\n",
              "        vertical-align: middle;\n",
              "    }\n",
              "\n",
              "    .dataframe tbody tr th {\n",
              "        vertical-align: top;\n",
              "    }\n",
              "\n",
              "    .dataframe thead th {\n",
              "        text-align: right;\n",
              "    }\n",
              "</style>\n",
              "<table border=\"1\" class=\"dataframe\">\n",
              "  <thead>\n",
              "    <tr style=\"text-align: right;\">\n",
              "      <th></th>\n",
              "      <th>bowler</th>\n",
              "      <th>economy</th>\n",
              "    </tr>\n",
              "  </thead>\n",
              "  <tbody>\n",
              "    <tr>\n",
              "      <th>0</th>\n",
              "      <td>SP Narine</td>\n",
              "      <td>6.395706</td>\n",
              "    </tr>\n",
              "    <tr>\n",
              "      <th>1</th>\n",
              "      <td>R Ashwin</td>\n",
              "      <td>6.493639</td>\n",
              "    </tr>\n",
              "    <tr>\n",
              "      <th>2</th>\n",
              "      <td>DW Steyn</td>\n",
              "      <td>6.615599</td>\n",
              "    </tr>\n",
              "    <tr>\n",
              "      <th>3</th>\n",
              "      <td>SL Malinga</td>\n",
              "      <td>6.757238</td>\n",
              "    </tr>\n",
              "    <tr>\n",
              "      <th>4</th>\n",
              "      <td>Harbhajan Singh</td>\n",
              "      <td>6.933735</td>\n",
              "    </tr>\n",
              "  </tbody>\n",
              "</table>\n",
              "</div>"
            ],
            "text/plain": [
              "            bowler   economy\n",
              "0        SP Narine  6.395706\n",
              "1         R Ashwin  6.493639\n",
              "2         DW Steyn  6.615599\n",
              "3       SL Malinga  6.757238\n",
              "4  Harbhajan Singh  6.933735"
            ]
          },
          "metadata": {
            "tags": []
          },
          "execution_count": 42
        }
      ]
    },
    {
      "cell_type": "markdown",
      "metadata": {
        "id": "GmgeCdR0slCw",
        "colab_type": "text"
      },
      "source": [
        "**Highest Dismissals for a Batsman by a Bowler**"
      ]
    },
    {
      "cell_type": "code",
      "metadata": {
        "id": "JjMuoJnFl4l8",
        "colab_type": "code",
        "outputId": "f3157f97-9423-416a-a5aa-4cacd87ee53c",
        "colab": {
          "base_uri": "https://localhost:8080/",
          "height": 1969
        }
      },
      "source": [
        "hd = hwt[['batsman','bowler']]\n",
        "hd = hd.groupby(['batsman','bowler']).size().reset_index().rename(columns={0:'count'})\n",
        "hdbb = hd.sort_values(by='count',ascending = False)\n",
        "hdbb = hdbb.drop_duplicates('batsman').reset_index()\n",
        "hdbb"
      ],
      "execution_count": 0,
      "outputs": [
        {
          "output_type": "execute_result",
          "data": {
            "text/html": [
              "<div>\n",
              "<style scoped>\n",
              "    .dataframe tbody tr th:only-of-type {\n",
              "        vertical-align: middle;\n",
              "    }\n",
              "\n",
              "    .dataframe tbody tr th {\n",
              "        vertical-align: top;\n",
              "    }\n",
              "\n",
              "    .dataframe thead th {\n",
              "        text-align: right;\n",
              "    }\n",
              "</style>\n",
              "<table border=\"1\" class=\"dataframe\">\n",
              "  <thead>\n",
              "    <tr style=\"text-align: right;\">\n",
              "      <th></th>\n",
              "      <th>index</th>\n",
              "      <th>batsman</th>\n",
              "      <th>bowler</th>\n",
              "      <th>count</th>\n",
              "    </tr>\n",
              "  </thead>\n",
              "  <tbody>\n",
              "    <tr>\n",
              "      <th>0</th>\n",
              "      <td>3147</td>\n",
              "      <td>MS Dhoni</td>\n",
              "      <td>Z Khan</td>\n",
              "      <td>7</td>\n",
              "    </tr>\n",
              "    <tr>\n",
              "      <th>1</th>\n",
              "      <td>403</td>\n",
              "      <td>AM Rahane</td>\n",
              "      <td>B Kumar</td>\n",
              "      <td>6</td>\n",
              "    </tr>\n",
              "    <tr>\n",
              "      <th>2</th>\n",
              "      <td>5049</td>\n",
              "      <td>V Kohli</td>\n",
              "      <td>A Nehra</td>\n",
              "      <td>6</td>\n",
              "    </tr>\n",
              "    <tr>\n",
              "      <th>3</th>\n",
              "      <td>3887</td>\n",
              "      <td>RG Sharma</td>\n",
              "      <td>R Vinay Kumar</td>\n",
              "      <td>6</td>\n",
              "    </tr>\n",
              "    <tr>\n",
              "      <th>4</th>\n",
              "      <td>1553</td>\n",
              "      <td>G Gambhir</td>\n",
              "      <td>Z Khan</td>\n",
              "      <td>6</td>\n",
              "    </tr>\n",
              "    <tr>\n",
              "      <th>5</th>\n",
              "      <td>3418</td>\n",
              "      <td>PA Patel</td>\n",
              "      <td>B Kumar</td>\n",
              "      <td>5</td>\n",
              "    </tr>\n",
              "    <tr>\n",
              "      <th>6</th>\n",
              "      <td>4668</td>\n",
              "      <td>SR Watson</td>\n",
              "      <td>AR Patel</td>\n",
              "      <td>5</td>\n",
              "    </tr>\n",
              "    <tr>\n",
              "      <th>7</th>\n",
              "      <td>4424</td>\n",
              "      <td>SK Raina</td>\n",
              "      <td>Harbhajan Singh</td>\n",
              "      <td>5</td>\n",
              "    </tr>\n",
              "    <tr>\n",
              "      <th>8</th>\n",
              "      <td>550</td>\n",
              "      <td>AT Rayudu</td>\n",
              "      <td>MM Sharma</td>\n",
              "      <td>5</td>\n",
              "    </tr>\n",
              "    <tr>\n",
              "      <th>9</th>\n",
              "      <td>2205</td>\n",
              "      <td>KC Sangakkara</td>\n",
              "      <td>R Sharma</td>\n",
              "      <td>5</td>\n",
              "    </tr>\n",
              "    <tr>\n",
              "      <th>10</th>\n",
              "      <td>2673</td>\n",
              "      <td>M Vijay</td>\n",
              "      <td>S Aravind</td>\n",
              "      <td>4</td>\n",
              "    </tr>\n",
              "    <tr>\n",
              "      <th>11</th>\n",
              "      <td>2327</td>\n",
              "      <td>KK Nair</td>\n",
              "      <td>Harbhajan Singh</td>\n",
              "      <td>4</td>\n",
              "    </tr>\n",
              "    <tr>\n",
              "      <th>12</th>\n",
              "      <td>4057</td>\n",
              "      <td>RV Uthappa</td>\n",
              "      <td>R Ashwin</td>\n",
              "      <td>4</td>\n",
              "    </tr>\n",
              "    <tr>\n",
              "      <th>13</th>\n",
              "      <td>2936</td>\n",
              "      <td>MK Pandey</td>\n",
              "      <td>SL Malinga</td>\n",
              "      <td>4</td>\n",
              "    </tr>\n",
              "    <tr>\n",
              "      <th>14</th>\n",
              "      <td>1310</td>\n",
              "      <td>DR Smith</td>\n",
              "      <td>Harbhajan Singh</td>\n",
              "      <td>4</td>\n",
              "    </tr>\n",
              "    <tr>\n",
              "      <th>15</th>\n",
              "      <td>4175</td>\n",
              "      <td>S Dhawan</td>\n",
              "      <td>P Kumar</td>\n",
              "      <td>4</td>\n",
              "    </tr>\n",
              "    <tr>\n",
              "      <th>16</th>\n",
              "      <td>4605</td>\n",
              "      <td>SPD Smith</td>\n",
              "      <td>RA Jadeja</td>\n",
              "      <td>4</td>\n",
              "    </tr>\n",
              "    <tr>\n",
              "      <th>17</th>\n",
              "      <td>143</td>\n",
              "      <td>AB de Villiers</td>\n",
              "      <td>KH Pandya</td>\n",
              "      <td>4</td>\n",
              "    </tr>\n",
              "    <tr>\n",
              "      <th>18</th>\n",
              "      <td>5370</td>\n",
              "      <td>YK Pathan</td>\n",
              "      <td>R Vinay Kumar</td>\n",
              "      <td>4</td>\n",
              "    </tr>\n",
              "    <tr>\n",
              "      <th>19</th>\n",
              "      <td>1614</td>\n",
              "      <td>GJ Maxwell</td>\n",
              "      <td>A Mishra</td>\n",
              "      <td>4</td>\n",
              "    </tr>\n",
              "    <tr>\n",
              "      <th>20</th>\n",
              "      <td>1214</td>\n",
              "      <td>DJ Hussey</td>\n",
              "      <td>SK Trivedi</td>\n",
              "      <td>4</td>\n",
              "    </tr>\n",
              "    <tr>\n",
              "      <th>21</th>\n",
              "      <td>3756</td>\n",
              "      <td>RA Jadeja</td>\n",
              "      <td>A Mishra</td>\n",
              "      <td>4</td>\n",
              "    </tr>\n",
              "    <tr>\n",
              "      <th>22</th>\n",
              "      <td>2963</td>\n",
              "      <td>MK Tiwary</td>\n",
              "      <td>M Morkel</td>\n",
              "      <td>4</td>\n",
              "    </tr>\n",
              "    <tr>\n",
              "      <th>23</th>\n",
              "      <td>719</td>\n",
              "      <td>BB McCullum</td>\n",
              "      <td>SL Malinga</td>\n",
              "      <td>4</td>\n",
              "    </tr>\n",
              "    <tr>\n",
              "      <th>24</th>\n",
              "      <td>1748</td>\n",
              "      <td>Harbhajan Singh</td>\n",
              "      <td>P Kumar</td>\n",
              "      <td>4</td>\n",
              "    </tr>\n",
              "    <tr>\n",
              "      <th>25</th>\n",
              "      <td>3331</td>\n",
              "      <td>NV Ojha</td>\n",
              "      <td>RP Singh</td>\n",
              "      <td>4</td>\n",
              "    </tr>\n",
              "    <tr>\n",
              "      <th>26</th>\n",
              "      <td>2850</td>\n",
              "      <td>MEK Hussey</td>\n",
              "      <td>Z Khan</td>\n",
              "      <td>4</td>\n",
              "    </tr>\n",
              "    <tr>\n",
              "      <th>27</th>\n",
              "      <td>207</td>\n",
              "      <td>AC Gilchrist</td>\n",
              "      <td>IK Pathan</td>\n",
              "      <td>4</td>\n",
              "    </tr>\n",
              "    <tr>\n",
              "      <th>28</th>\n",
              "      <td>4843</td>\n",
              "      <td>SV Samson</td>\n",
              "      <td>MJ McClenaghan</td>\n",
              "      <td>4</td>\n",
              "    </tr>\n",
              "    <tr>\n",
              "      <th>29</th>\n",
              "      <td>870</td>\n",
              "      <td>CH Gayle</td>\n",
              "      <td>R Ashwin</td>\n",
              "      <td>4</td>\n",
              "    </tr>\n",
              "    <tr>\n",
              "      <th>...</th>\n",
              "      <td>...</td>\n",
              "      <td>...</td>\n",
              "      <td>...</td>\n",
              "      <td>...</td>\n",
              "    </tr>\n",
              "    <tr>\n",
              "      <th>390</th>\n",
              "      <td>2715</td>\n",
              "      <td>M de Lange</td>\n",
              "      <td>Imran Tahir</td>\n",
              "      <td>1</td>\n",
              "    </tr>\n",
              "    <tr>\n",
              "      <th>391</th>\n",
              "      <td>1760</td>\n",
              "      <td>Harmeet Singh</td>\n",
              "      <td>M Muralitharan</td>\n",
              "      <td>1</td>\n",
              "    </tr>\n",
              "    <tr>\n",
              "      <th>392</th>\n",
              "      <td>1762</td>\n",
              "      <td>Harpreet Singh</td>\n",
              "      <td>SP Narine</td>\n",
              "      <td>1</td>\n",
              "    </tr>\n",
              "    <tr>\n",
              "      <th>393</th>\n",
              "      <td>1826</td>\n",
              "      <td>J Arunkumar</td>\n",
              "      <td>Sohail Tanvir</td>\n",
              "      <td>1</td>\n",
              "    </tr>\n",
              "    <tr>\n",
              "      <th>394</th>\n",
              "      <td>1810</td>\n",
              "      <td>Imran Tahir</td>\n",
              "      <td>AR Patel</td>\n",
              "      <td>1</td>\n",
              "    </tr>\n",
              "    <tr>\n",
              "      <th>395</th>\n",
              "      <td>1813</td>\n",
              "      <td>Iqbal Abdulla</td>\n",
              "      <td>DJ Bravo</td>\n",
              "      <td>1</td>\n",
              "    </tr>\n",
              "    <tr>\n",
              "      <th>396</th>\n",
              "      <td>1847</td>\n",
              "      <td>J Theron</td>\n",
              "      <td>SW Tait</td>\n",
              "      <td>1</td>\n",
              "    </tr>\n",
              "    <tr>\n",
              "      <th>397</th>\n",
              "      <td>1846</td>\n",
              "      <td>J Syed Mohammad</td>\n",
              "      <td>UT Yadav</td>\n",
              "      <td>1</td>\n",
              "    </tr>\n",
              "    <tr>\n",
              "      <th>398</th>\n",
              "      <td>1844</td>\n",
              "      <td>J Suchith</td>\n",
              "      <td>YS Chahal</td>\n",
              "      <td>1</td>\n",
              "    </tr>\n",
              "    <tr>\n",
              "      <th>399</th>\n",
              "      <td>1809</td>\n",
              "      <td>IR Jaggi</td>\n",
              "      <td>SP Narine</td>\n",
              "      <td>1</td>\n",
              "    </tr>\n",
              "    <tr>\n",
              "      <th>400</th>\n",
              "      <td>1769</td>\n",
              "      <td>IC Pandey</td>\n",
              "      <td>CH Gayle</td>\n",
              "      <td>1</td>\n",
              "    </tr>\n",
              "    <tr>\n",
              "      <th>401</th>\n",
              "      <td>1768</td>\n",
              "      <td>I Sharma</td>\n",
              "      <td>S Kaul</td>\n",
              "      <td>1</td>\n",
              "    </tr>\n",
              "    <tr>\n",
              "      <th>402</th>\n",
              "      <td>1554</td>\n",
              "      <td>GB Hogg</td>\n",
              "      <td>HV Patel</td>\n",
              "      <td>1</td>\n",
              "    </tr>\n",
              "    <tr>\n",
              "      <th>403</th>\n",
              "      <td>1649</td>\n",
              "      <td>GR Napier</td>\n",
              "      <td>CH Gayle</td>\n",
              "      <td>1</td>\n",
              "    </tr>\n",
              "    <tr>\n",
              "      <th>404</th>\n",
              "      <td>1581</td>\n",
              "      <td>GD McGrath</td>\n",
              "      <td>DS Kulkarni</td>\n",
              "      <td>1</td>\n",
              "    </tr>\n",
              "    <tr>\n",
              "      <th>405</th>\n",
              "      <td>2101</td>\n",
              "      <td>K Rabada</td>\n",
              "      <td>Sandeep Sharma</td>\n",
              "      <td>1</td>\n",
              "    </tr>\n",
              "    <tr>\n",
              "      <th>406</th>\n",
              "      <td>2088</td>\n",
              "      <td>Joginder Sharma</td>\n",
              "      <td>RP Singh</td>\n",
              "      <td>1</td>\n",
              "    </tr>\n",
              "    <tr>\n",
              "      <th>407</th>\n",
              "      <td>2085</td>\n",
              "      <td>Jaskaran Singh</td>\n",
              "      <td>Harbhajan Singh</td>\n",
              "      <td>1</td>\n",
              "    </tr>\n",
              "    <tr>\n",
              "      <th>408</th>\n",
              "      <td>2084</td>\n",
              "      <td>JR Hopes</td>\n",
              "      <td>Z Khan</td>\n",
              "      <td>1</td>\n",
              "    </tr>\n",
              "    <tr>\n",
              "      <th>409</th>\n",
              "      <td>2172</td>\n",
              "      <td>KC Cariappa</td>\n",
              "      <td>P Kumar</td>\n",
              "      <td>1</td>\n",
              "    </tr>\n",
              "    <tr>\n",
              "      <th>410</th>\n",
              "      <td>2169</td>\n",
              "      <td>KB Arun Karthik</td>\n",
              "      <td>PP Chawla</td>\n",
              "      <td>1</td>\n",
              "    </tr>\n",
              "    <tr>\n",
              "      <th>411</th>\n",
              "      <td>2165</td>\n",
              "      <td>KAJ Roach</td>\n",
              "      <td>Z Khan</td>\n",
              "      <td>1</td>\n",
              "    </tr>\n",
              "    <tr>\n",
              "      <th>412</th>\n",
              "      <td>1919</td>\n",
              "      <td>JD Unadkat</td>\n",
              "      <td>MG Johnson</td>\n",
              "      <td>1</td>\n",
              "    </tr>\n",
              "    <tr>\n",
              "      <th>413</th>\n",
              "      <td>1939</td>\n",
              "      <td>JEC Franklin</td>\n",
              "      <td>Z Khan</td>\n",
              "      <td>1</td>\n",
              "    </tr>\n",
              "    <tr>\n",
              "      <th>414</th>\n",
              "      <td>1928</td>\n",
              "      <td>JDS Neesham</td>\n",
              "      <td>RA Jadeja</td>\n",
              "      <td>1</td>\n",
              "    </tr>\n",
              "    <tr>\n",
              "      <th>415</th>\n",
              "      <td>1999</td>\n",
              "      <td>JJ van der Wath</td>\n",
              "      <td>DW Steyn</td>\n",
              "      <td>1</td>\n",
              "    </tr>\n",
              "    <tr>\n",
              "      <th>416</th>\n",
              "      <td>2005</td>\n",
              "      <td>JO Holder</td>\n",
              "      <td>Mustafizur Rahman</td>\n",
              "      <td>1</td>\n",
              "    </tr>\n",
              "    <tr>\n",
              "      <th>417</th>\n",
              "      <td>2002</td>\n",
              "      <td>JM Kemp</td>\n",
              "      <td>PP Ojha</td>\n",
              "      <td>1</td>\n",
              "    </tr>\n",
              "    <tr>\n",
              "      <th>418</th>\n",
              "      <td>1998</td>\n",
              "      <td>JJ Roy</td>\n",
              "      <td>PP Chawla</td>\n",
              "      <td>1</td>\n",
              "    </tr>\n",
              "    <tr>\n",
              "      <th>419</th>\n",
              "      <td>1996</td>\n",
              "      <td>JJ Bumrah</td>\n",
              "      <td>BB Sran</td>\n",
              "      <td>1</td>\n",
              "    </tr>\n",
              "  </tbody>\n",
              "</table>\n",
              "<p>420 rows × 4 columns</p>\n",
              "</div>"
            ],
            "text/plain": [
              "     index          batsman             bowler  count\n",
              "0     3147         MS Dhoni             Z Khan      7\n",
              "1      403        AM Rahane            B Kumar      6\n",
              "2     5049          V Kohli            A Nehra      6\n",
              "3     3887        RG Sharma      R Vinay Kumar      6\n",
              "4     1553        G Gambhir             Z Khan      6\n",
              "5     3418         PA Patel            B Kumar      5\n",
              "6     4668        SR Watson           AR Patel      5\n",
              "7     4424         SK Raina    Harbhajan Singh      5\n",
              "8      550        AT Rayudu          MM Sharma      5\n",
              "9     2205    KC Sangakkara           R Sharma      5\n",
              "10    2673          M Vijay          S Aravind      4\n",
              "11    2327          KK Nair    Harbhajan Singh      4\n",
              "12    4057       RV Uthappa           R Ashwin      4\n",
              "13    2936        MK Pandey         SL Malinga      4\n",
              "14    1310         DR Smith    Harbhajan Singh      4\n",
              "15    4175         S Dhawan            P Kumar      4\n",
              "16    4605        SPD Smith          RA Jadeja      4\n",
              "17     143   AB de Villiers          KH Pandya      4\n",
              "18    5370        YK Pathan      R Vinay Kumar      4\n",
              "19    1614       GJ Maxwell           A Mishra      4\n",
              "20    1214        DJ Hussey         SK Trivedi      4\n",
              "21    3756        RA Jadeja           A Mishra      4\n",
              "22    2963        MK Tiwary           M Morkel      4\n",
              "23     719      BB McCullum         SL Malinga      4\n",
              "24    1748  Harbhajan Singh            P Kumar      4\n",
              "25    3331          NV Ojha           RP Singh      4\n",
              "26    2850       MEK Hussey             Z Khan      4\n",
              "27     207     AC Gilchrist          IK Pathan      4\n",
              "28    4843        SV Samson     MJ McClenaghan      4\n",
              "29     870         CH Gayle           R Ashwin      4\n",
              "..     ...              ...                ...    ...\n",
              "390   2715       M de Lange        Imran Tahir      1\n",
              "391   1760    Harmeet Singh     M Muralitharan      1\n",
              "392   1762   Harpreet Singh          SP Narine      1\n",
              "393   1826      J Arunkumar      Sohail Tanvir      1\n",
              "394   1810      Imran Tahir           AR Patel      1\n",
              "395   1813    Iqbal Abdulla           DJ Bravo      1\n",
              "396   1847         J Theron            SW Tait      1\n",
              "397   1846  J Syed Mohammad           UT Yadav      1\n",
              "398   1844        J Suchith          YS Chahal      1\n",
              "399   1809         IR Jaggi          SP Narine      1\n",
              "400   1769        IC Pandey           CH Gayle      1\n",
              "401   1768         I Sharma             S Kaul      1\n",
              "402   1554          GB Hogg           HV Patel      1\n",
              "403   1649        GR Napier           CH Gayle      1\n",
              "404   1581       GD McGrath        DS Kulkarni      1\n",
              "405   2101         K Rabada     Sandeep Sharma      1\n",
              "406   2088  Joginder Sharma           RP Singh      1\n",
              "407   2085   Jaskaran Singh    Harbhajan Singh      1\n",
              "408   2084         JR Hopes             Z Khan      1\n",
              "409   2172      KC Cariappa            P Kumar      1\n",
              "410   2169  KB Arun Karthik          PP Chawla      1\n",
              "411   2165        KAJ Roach             Z Khan      1\n",
              "412   1919       JD Unadkat         MG Johnson      1\n",
              "413   1939     JEC Franklin             Z Khan      1\n",
              "414   1928      JDS Neesham          RA Jadeja      1\n",
              "415   1999  JJ van der Wath           DW Steyn      1\n",
              "416   2005        JO Holder  Mustafizur Rahman      1\n",
              "417   2002          JM Kemp            PP Ojha      1\n",
              "418   1998           JJ Roy          PP Chawla      1\n",
              "419   1996        JJ Bumrah            BB Sran      1\n",
              "\n",
              "[420 rows x 4 columns]"
            ]
          },
          "metadata": {
            "tags": []
          },
          "execution_count": 43
        }
      ]
    },
    {
      "cell_type": "markdown",
      "metadata": {
        "id": "8tvBnf92BhkQ",
        "colab_type": "text"
      },
      "source": [
        "# Dream11"
      ]
    },
    {
      "cell_type": "code",
      "metadata": {
        "id": "d39Nln6D13v9",
        "colab_type": "code",
        "colab": {}
      },
      "source": [
        "squad = []\n",
        "mtd11 = mat[['id','season']]\n",
        "mtd11 = mtd11.loc[mtd11['season']>=2015]\n",
        "deld11 = deliv[['id','batsman','batsman_runs','bowler','dismissal_kind','fielder']]\n",
        "mdd11 = pd.merge(mtd11,deld11,on='id',how='inner')\n",
        "stumps = mdd11.groupby('fielder')['dismissal_kind'].agg(lambda x: (x=='stumped').sum()).reset_index()\n",
        "stumps = stumps.sort_values(by='dismissal_kind',ascending=False).head().reset_index()\n",
        "stumps = stumps.head()\n",
        "wk = stumps['fielder'].unique()\n",
        "wk = wk.tolist()"
      ],
      "execution_count": 0,
      "outputs": []
    },
    {
      "cell_type": "code",
      "metadata": {
        "id": "TCuvWdjj2sWn",
        "colab_type": "code",
        "outputId": "1be78e0a-7db9-4561-cb78-1412d7bb31c2",
        "colab": {
          "base_uri": "https://localhost:8080/",
          "height": 34
        }
      },
      "source": [
        "scrs = mdd11.groupby([\"batsman\"])[\"batsman_runs\"].sum().reset_index()\n",
        "scrs = scrs.sort_values(by='batsman_runs',ascending=False)\n",
        "wt = scrs[scrs['batsman'].isin(wk)]\n",
        "wkt = wt.iloc[0]['batsman']\n",
        "bkpwkt = wt.iloc[1]['batsman']\n",
        "scrs = scrs[scrs.batsman!=wkt]\n",
        "scrs = scrs[scrs.batsman!=bkpwkt]\n",
        "WicketKeeper = wt[:1]['batsman'].tolist()\n",
        "bkpWicketKeeper = wt[1:2]['batsman'].tolist()\n",
        "WicketKeeper,bkpWicketKeeper"
      ],
      "execution_count": 0,
      "outputs": [
        {
          "output_type": "execute_result",
          "data": {
            "text/plain": [
              "(['RV Uthappa'], ['MS Dhoni'])"
            ]
          },
          "metadata": {
            "tags": []
          },
          "execution_count": 45
        }
      ]
    },
    {
      "cell_type": "code",
      "metadata": {
        "id": "RdtxESXuyNT2",
        "colab_type": "code",
        "colab": {}
      },
      "source": [
        "fielders = mdd11.groupby('fielder')['dismissal_kind'].agg(lambda x: (x=='caught').sum()).reset_index()\n",
        "fielders = fielders.sort_values(by='dismissal_kind',ascending=False).reset_index()\n",
        "best_fielders = fielders.head(100)\n",
        "bf = best_fielders['fielder'].unique()\n",
        "bf = bf.tolist()"
      ],
      "execution_count": 0,
      "outputs": []
    },
    {
      "cell_type": "code",
      "metadata": {
        "id": "9DyRG0U5y2KW",
        "colab_type": "code",
        "outputId": "79b99a7a-e793-4ecd-80d8-b272650c162c",
        "colab": {
          "base_uri": "https://localhost:8080/",
          "height": 51
        }
      },
      "source": [
        "btsms = scrs[scrs['batsman'].isin(bf)]\n",
        "Batsmans = btsms[:4]['batsman'].tolist()\n",
        "bkpBatsmans = btsms[4:6]['batsman'].tolist()\n",
        "Batsmans,bkpBatsmans"
      ],
      "execution_count": 0,
      "outputs": [
        {
          "output_type": "execute_result",
          "data": {
            "text/plain": [
              "(['DA Warner', 'V Kohli', 'AB de Villiers', 'AM Rahane'],\n",
              " ['S Dhawan', 'G Gambhir'])"
            ]
          },
          "metadata": {
            "tags": []
          },
          "execution_count": 47
        }
      ]
    },
    {
      "cell_type": "code",
      "metadata": {
        "id": "0JqAhBSvJAjq",
        "colab_type": "code",
        "colab": {}
      },
      "source": [
        "saa=mdd11[mdd11[\"dismissal_kind\"].isin(outs)]\n",
        "blwr=saa['bowler'].value_counts().reset_index()\n",
        "btsms = scrs[scrs['batsman'].isin(bf)]\n",
        "wktsmean = blwr[\"bowler\"].mean()\n",
        "scrmean = btsms['batsman_runs'].mean()"
      ],
      "execution_count": 0,
      "outputs": []
    },
    {
      "cell_type": "code",
      "metadata": {
        "id": "U4_SDpygLDQ5",
        "colab_type": "code",
        "outputId": "c950157e-2f93-4484-e5d7-9e62a20e30a9",
        "colab": {
          "base_uri": "https://localhost:8080/",
          "height": 34
        }
      },
      "source": [
        "allr = btsms.loc[btsms['batsman_runs']>500]\n",
        "allr = allr[6:]\n",
        "allrr = blwr.loc[blwr['bowler']>18]\n",
        "allrr = allrr[6:]\n",
        "allr1 = allrr['index'].unique()\n",
        "allr1 = allr1.tolist()\n",
        "alr = allr[allr['batsman'].isin(allr1)]\n",
        "Allrounders = alr[:2]['batsman'].tolist()\n",
        "bkpAllrounders = alr[2:]['batsman'].tolist()\n",
        "Allrounders,bkpAllrounders"
      ],
      "execution_count": 0,
      "outputs": [
        {
          "output_type": "execute_result",
          "data": {
            "text/plain": [
              "(['MC Henriques', 'SR Watson'], ['AD Russell'])"
            ]
          },
          "metadata": {
            "tags": []
          },
          "execution_count": 49
        }
      ]
    },
    {
      "cell_type": "code",
      "metadata": {
        "id": "v3Vx1Wh3zQCl",
        "colab_type": "code",
        "outputId": "f6024186-452f-48ed-8aaa-1f5ce540da39",
        "colab": {
          "base_uri": "https://localhost:8080/",
          "height": 51
        }
      },
      "source": [
        "Bowlers = blwr[:4]['index'].tolist()\n",
        "bkpBowlers = blwr[4:6]['index'].tolist()\n",
        "Bowlers,bkpBowlers"
      ],
      "execution_count": 0,
      "outputs": [
        {
          "output_type": "execute_result",
          "data": {
            "text/plain": [
              "(['B Kumar', 'YS Chahal', 'MJ McClenaghan', 'Sandeep Sharma'],\n",
              " ['DJ Bravo', 'AR Patel'])"
            ]
          },
          "metadata": {
            "tags": []
          },
          "execution_count": 50
        }
      ]
    },
    {
      "cell_type": "code",
      "metadata": {
        "id": "_o3dzmkY2ezD",
        "colab_type": "code",
        "colab": {}
      },
      "source": [
        "Team11 = WicketKeeper + Batsmans +Allrounders + Bowlers\n",
        "BackupPlayers = bkpWicketKeeper + bkpBatsmans + bkpAllrounders + bkpBowlers\n",
        "Squad = Team11 + BackupPlayers"
      ],
      "execution_count": 0,
      "outputs": []
    },
    {
      "cell_type": "code",
      "metadata": {
        "id": "noAThk2aU5Dw",
        "colab_type": "code",
        "outputId": "50ec05f1-1336-40ad-e2b2-5c0e0ad22b0d",
        "colab": {
          "base_uri": "https://localhost:8080/",
          "height": 204
        }
      },
      "source": [
        "Team11"
      ],
      "execution_count": 0,
      "outputs": [
        {
          "output_type": "execute_result",
          "data": {
            "text/plain": [
              "['RV Uthappa',\n",
              " 'DA Warner',\n",
              " 'V Kohli',\n",
              " 'AB de Villiers',\n",
              " 'AM Rahane',\n",
              " 'MC Henriques',\n",
              " 'SR Watson',\n",
              " 'B Kumar',\n",
              " 'YS Chahal',\n",
              " 'MJ McClenaghan',\n",
              " 'Sandeep Sharma']"
            ]
          },
          "metadata": {
            "tags": []
          },
          "execution_count": 52
        }
      ]
    },
    {
      "cell_type": "code",
      "metadata": {
        "id": "ikU_07rqXKf2",
        "colab_type": "code",
        "outputId": "586fbac3-d1b0-4c4b-e830-d5364b0ef81c",
        "colab": {
          "base_uri": "https://localhost:8080/",
          "height": 306
        }
      },
      "source": [
        "Squad"
      ],
      "execution_count": 0,
      "outputs": [
        {
          "output_type": "execute_result",
          "data": {
            "text/plain": [
              "['RV Uthappa',\n",
              " 'DA Warner',\n",
              " 'V Kohli',\n",
              " 'AB de Villiers',\n",
              " 'AM Rahane',\n",
              " 'MC Henriques',\n",
              " 'SR Watson',\n",
              " 'B Kumar',\n",
              " 'YS Chahal',\n",
              " 'MJ McClenaghan',\n",
              " 'Sandeep Sharma',\n",
              " 'MS Dhoni',\n",
              " 'S Dhawan',\n",
              " 'G Gambhir',\n",
              " 'AD Russell',\n",
              " 'DJ Bravo',\n",
              " 'AR Patel']"
            ]
          },
          "metadata": {
            "tags": []
          },
          "execution_count": 53
        }
      ]
    },
    {
      "cell_type": "code",
      "metadata": {
        "id": "ezC3WZOIXNi-",
        "colab_type": "code",
        "outputId": "3bd3c31f-e0b0-490f-e2e0-6a6f7cf698ca",
        "colab": {
          "base_uri": "https://localhost:8080/",
          "height": 34
        }
      },
      "source": [
        "BackupPlayers"
      ],
      "execution_count": 0,
      "outputs": [
        {
          "output_type": "execute_result",
          "data": {
            "text/plain": [
              "['MS Dhoni', 'S Dhawan', 'G Gambhir', 'AD Russell', 'DJ Bravo', 'AR Patel']"
            ]
          },
          "metadata": {
            "tags": []
          },
          "execution_count": 54
        }
      ]
    },
    {
      "cell_type": "markdown",
      "metadata": {
        "id": "K-NzujHoz24B",
        "colab_type": "text"
      },
      "source": [
        "**Algorithms and their Accuracy**"
      ]
    },
    {
      "cell_type": "code",
      "metadata": {
        "id": "zQLoQuwbHZ-T",
        "colab_type": "code",
        "outputId": "c42ddf6a-35b1-42ef-99fc-e577edd144a0",
        "colab": {
          "base_uri": "https://localhost:8080/",
          "height": 250
        }
      },
      "source": [
        "mat.replace(['Mumbai Indians','Kolkata Knight Riders','Royal Challengers Bangalore','Deccan Chargers','Chennai Super Kings',\n",
        "                 'Rajasthan Royals','Delhi Daredevils','Gujarat Lions','Kings XI Punjab',\n",
        "                 'Sunrisers Hyderabad','Rising Pune Supergiant','Kochi Tuskers Kerala','Pune Warriors']\n",
        "                ,['MI','KKR','RCB','DC','CSK','RR','DD','GL','KXIP','SRH','RPS','KTK','PW'],inplace=True)\n",
        "encode = {'team1': {'MI':1,'KKR':2,'RCB':3,'DC':4,'CSK':5,'RR':6,'DD':7,'GL':8,'KXIP':9,'SRH':10,'RPS':11,'KTK':12,'PW':13},\n",
        "          'team2': {'MI':1,'KKR':2,'RCB':3,'DC':4,'CSK':5,'RR':6,'DD':7,'GL':8,'KXIP':9,'SRH':10,'RPS':11,'KTK':12,'PW':13},\n",
        "          'toss_winner': {'MI':1,'KKR':2,'RCB':3,'DC':4,'CSK':5,'RR':6,'DD':7,'GL':8,'KXIP':9,'SRH':10,'RPS':11,'KTK':12,'PW':13},\n",
        "          'winner': {'MI':1,'KKR':2,'RCB':3,'DC':4,'CSK':5,'RR':6,'DD':7,'GL':8,'KXIP':9,'SRH':10,'RPS':11,'KTK':12,'PW':13,'Draw':14}}\n",
        "mat.replace(encode, inplace=True)\n",
        "mat.head(2)"
      ],
      "execution_count": 0,
      "outputs": [
        {
          "output_type": "execute_result",
          "data": {
            "text/html": [
              "<div>\n",
              "<style scoped>\n",
              "    .dataframe tbody tr th:only-of-type {\n",
              "        vertical-align: middle;\n",
              "    }\n",
              "\n",
              "    .dataframe tbody tr th {\n",
              "        vertical-align: top;\n",
              "    }\n",
              "\n",
              "    .dataframe thead th {\n",
              "        text-align: right;\n",
              "    }\n",
              "</style>\n",
              "<table border=\"1\" class=\"dataframe\">\n",
              "  <thead>\n",
              "    <tr style=\"text-align: right;\">\n",
              "      <th></th>\n",
              "      <th>id</th>\n",
              "      <th>season</th>\n",
              "      <th>city</th>\n",
              "      <th>date</th>\n",
              "      <th>team1</th>\n",
              "      <th>team2</th>\n",
              "      <th>toss_winner</th>\n",
              "      <th>toss_decision</th>\n",
              "      <th>result</th>\n",
              "      <th>dl_applied</th>\n",
              "      <th>winner</th>\n",
              "      <th>win_by_runs</th>\n",
              "      <th>win_by_wickets</th>\n",
              "      <th>player_of_match</th>\n",
              "      <th>venue</th>\n",
              "      <th>umpire1</th>\n",
              "      <th>umpire2</th>\n",
              "    </tr>\n",
              "  </thead>\n",
              "  <tbody>\n",
              "    <tr>\n",
              "      <th>0</th>\n",
              "      <td>1</td>\n",
              "      <td>2017</td>\n",
              "      <td>Hyderabad</td>\n",
              "      <td>2017-04-05</td>\n",
              "      <td>10</td>\n",
              "      <td>3</td>\n",
              "      <td>3</td>\n",
              "      <td>field</td>\n",
              "      <td>normal</td>\n",
              "      <td>0</td>\n",
              "      <td>10</td>\n",
              "      <td>35</td>\n",
              "      <td>0</td>\n",
              "      <td>Yuvraj Singh</td>\n",
              "      <td>Rajiv Gandhi International Stadium, Uppal</td>\n",
              "      <td>AY Dandekar</td>\n",
              "      <td>NJ Llong</td>\n",
              "    </tr>\n",
              "    <tr>\n",
              "      <th>1</th>\n",
              "      <td>2</td>\n",
              "      <td>2017</td>\n",
              "      <td>Pune</td>\n",
              "      <td>2017-04-06</td>\n",
              "      <td>1</td>\n",
              "      <td>11</td>\n",
              "      <td>11</td>\n",
              "      <td>field</td>\n",
              "      <td>normal</td>\n",
              "      <td>0</td>\n",
              "      <td>11</td>\n",
              "      <td>0</td>\n",
              "      <td>7</td>\n",
              "      <td>SPD Smith</td>\n",
              "      <td>Maharashtra Cricket Association Stadium</td>\n",
              "      <td>A Nand Kishore</td>\n",
              "      <td>S Ravi</td>\n",
              "    </tr>\n",
              "  </tbody>\n",
              "</table>\n",
              "</div>"
            ],
            "text/plain": [
              "   id  season  ...         umpire1   umpire2\n",
              "0   1    2017  ...     AY Dandekar  NJ Llong\n",
              "1   2    2017  ...  A Nand Kishore    S Ravi\n",
              "\n",
              "[2 rows x 17 columns]"
            ]
          },
          "metadata": {
            "tags": []
          },
          "execution_count": 55
        }
      ]
    },
    {
      "cell_type": "code",
      "metadata": {
        "id": "qNrDVJonQouS",
        "colab_type": "code",
        "outputId": "af94513d-8ee8-41a6-bebf-9be30c1fb86b",
        "colab": {
          "base_uri": "https://localhost:8080/",
          "height": 323
        }
      },
      "source": [
        "from sklearn.preprocessing import LabelEncoder\n",
        "var_mod = ['city','toss_decision','venue']\n",
        "le = LabelEncoder()\n",
        "for i in var_mod:\n",
        "    mat[i] = le.fit_transform(mat[i])\n",
        "mat.dtypes "
      ],
      "execution_count": 0,
      "outputs": [
        {
          "output_type": "execute_result",
          "data": {
            "text/plain": [
              "id                  int64\n",
              "season              int64\n",
              "city                int64\n",
              "date               object\n",
              "team1               int64\n",
              "team2               int64\n",
              "toss_winner         int64\n",
              "toss_decision       int64\n",
              "result             object\n",
              "dl_applied          int64\n",
              "winner              int64\n",
              "win_by_runs         int64\n",
              "win_by_wickets      int64\n",
              "player_of_match    object\n",
              "venue               int64\n",
              "umpire1            object\n",
              "umpire2            object\n",
              "dtype: object"
            ]
          },
          "metadata": {
            "tags": []
          },
          "execution_count": 56
        }
      ]
    },
    {
      "cell_type": "code",
      "metadata": {
        "id": "hXGfcDF219Hq",
        "colab_type": "code",
        "colab": {}
      },
      "source": [
        "x=mat.drop(['id','season','date','result','dl_applied','winner','player_of_match','umpire1','umpire2'],axis=1)\n",
        "y=mat['winner']"
      ],
      "execution_count": 0,
      "outputs": []
    },
    {
      "cell_type": "code",
      "metadata": {
        "id": "p6ziIgmD1rQa",
        "colab_type": "code",
        "outputId": "9e09c012-598a-46b8-d111-e49cd2b6e7ff",
        "colab": {
          "base_uri": "https://localhost:8080/",
          "height": 4250
        }
      },
      "source": [
        "x_train,x_test,y_train,y_test=train_test_split(x,y,test_size=0.3,random_state=0) \n",
        "print(x_train,x_test,y_train,y_test)"
      ],
      "execution_count": 0,
      "outputs": [
        {
          "output_type": "stream",
          "text": [
            "     city  team1  team2  ...  win_by_runs  win_by_wickets  venue\n",
            "546     7      5      2  ...            2               0     15\n",
            "0      13     10      3  ...           35               0     23\n",
            "404    13      9     10  ...            0               5     23\n",
            "71     21      1      4  ...            0              10      4\n",
            "263    21     13      5  ...            0               8      4\n",
            "102    20      2      5  ...            3               0      7\n",
            "435     6      9      6  ...            0               8     22\n",
            "108     9      1      7  ...            0               5      8\n",
            "342     7      9      5  ...            7               0     15\n",
            "205     7      5      6  ...           23               0     15\n",
            "578     6      9      8  ...            0               5     21\n",
            "334     9     13      7  ...           20               0      8\n",
            "298    21      1      6  ...            0              10     34\n",
            "447     6      3      9  ...            0               6     22\n",
            "317     9      5      7  ...            0               8      8\n",
            "456    20      1      5  ...           23               0      7\n",
            "405    20      2      5  ...            0               4      7\n",
            "181    20      5      2  ...           55               0      7\n",
            "386    24     13      9  ...            0               8     31\n",
            "179     1      6      7  ...            0               6     24\n",
            "603    26      9      8  ...           23               0     25\n",
            "26     20      2      3  ...           82               0      7\n",
            "68      6      9      1  ...           66               0     22\n",
            "492    13     10      1  ...            0               7     23\n",
            "494     2      3      7  ...           16               0     14\n",
            "245    15      6      2  ...            0               9     26\n",
            "432    15      7      6  ...            0               9     26\n",
            "489    21      1      5  ...            0               4     34\n",
            "3      14     11      9  ...            0               6     11\n",
            "134    11      9      1  ...            3               0     13\n",
            "..    ...    ...    ...  ...          ...             ...    ...\n",
            "543     6     10      9  ...           20               0     22\n",
            "544    20      2      7  ...           13               0      7\n",
            "265     9      2      7  ...           17               0      8\n",
            "288     7      5      7  ...           18               0     15\n",
            "423    25      2      7  ...            0               7     27\n",
            "147     5      3      6  ...            0               7     32\n",
            "177    20      3      2  ...            0               7      7\n",
            "99      9      7      9  ...            6               0      8\n",
            "448    13     10      6  ...           23               0     23\n",
            "431     2     10      3  ...            0               7     14\n",
            "115    21      9      5  ...            0               9     34\n",
            "72      6      7      9  ...            0               4     22\n",
            "537     2      5      3  ...           27               0     14\n",
            "626    17      2      8  ...            0               6      9\n",
            "174    21      2      4  ...           11               0      4\n",
            "87     20      2      3  ...            5               0      7\n",
            "551     6      1      9  ...           23               0     22\n",
            "486     1     10      6  ...           32               0     24\n",
            "314    24     13      9  ...           22               0     31\n",
            "396    20      2     10  ...           48               0      7\n",
            "600    24     11      8  ...            0               3     16\n",
            "472    28      1      7  ...            0               6     28\n",
            "70      7      2      5  ...            0               9     15\n",
            "599    21      2      1  ...            0               6     34\n",
            "277    19     12      2  ...           17               0     17\n",
            "9      21     10      1  ...            0               4     34\n",
            "359    21      1      3  ...            0               9     34\n",
            "192     6      6      9  ...           31               0     22\n",
            "629    17      1      8  ...            0               6      9\n",
            "559    20      9      2  ...            0               1      7\n",
            "\n",
            "[445 rows x 8 columns]      city  team1  team2  ...  win_by_runs  win_by_wickets  venue\n",
            "453     9      5      1  ...           48               0      8\n",
            "482     9      7      5  ...            0               8      8\n",
            "516     2      9      2  ...            0               3     14\n",
            "542     9      7      3  ...            0              10      8\n",
            "85     21      6      1  ...            0               7      4\n",
            "567    13     10      3  ...            0               6     23\n",
            "395     7      3      5  ...            0               4     15\n",
            "247     7      5      3  ...           21               0     15\n",
            "522     9      7      6  ...            0               3      8\n",
            "48     17      8      7  ...            0               2      9\n",
            "552    21      6      7  ...           14               0      1\n",
            "572    21      1      5  ...           25               0     34\n",
            "519    24      6      9  ...           26               0     16\n",
            "231    21      5      4  ...           38               0      4\n",
            "587    13      1     10  ...            0               7     23\n",
            "103     2      3      7  ...            0               5     14\n",
            "570     2      7      3  ...            0               0     14\n",
            "50      9      7     11  ...            7               0      8\n",
            "480     2     10      3  ...            0               4     14\n",
            "520     7      5     10  ...           45               0     15\n",
            "196     2      7      3  ...           17               0     14\n",
            "49     21      9      1  ...            7               0     34\n",
            "250    20      6      2  ...            0               8      7\n",
            "384     9      6      7  ...            5               0      8\n",
            "229    20      1      2  ...            0               9      7\n",
            "224    10      9      4  ...            0               5     10\n",
            "433    21      1      2  ...           65               0     34\n",
            "446    21      1      6  ...           14               0     34\n",
            "52     20      1      2  ...            9               0      7\n",
            "242     6      5      9  ...            0               6     22\n",
            "..    ...    ...    ...  ...          ...             ...    ...\n",
            "268    19      7     12  ...           38               0     17\n",
            "517    20      1      2  ...            0               7      7\n",
            "365     6      4      9  ...            0               4     22\n",
            "190    21      2      1  ...            0               7      1\n",
            "339     6      9      1  ...            0               4     22\n",
            "132     5      7      6  ...            0               5     32\n",
            "586     2      3      7  ...            0               7     14\n",
            "428     2      3      9  ...            0               7     14\n",
            "97      9      7      4  ...           12               0      8\n",
            "616     2      3      1  ...            0               6     14\n",
            "454     9     10      6  ...            0               4      8\n",
            "451     2      3      5  ...           24               0     14\n",
            "193    21      5      1  ...            0               5      1\n",
            "96      6      9      6  ...           41               0     22\n",
            "333     7      6      5  ...            0               7     15\n",
            "549     2      2      3  ...            0               7     14\n",
            "409     7      6      5  ...            0               5     15\n",
            "89      2      3      1  ...            0               9     14\n",
            "466    21      5      6  ...            7               0      6\n",
            "210     7      5      1  ...           24               0     15\n",
            "403     9      5      7  ...           86               0      8\n",
            "633     9     10      2  ...           22               0      8\n",
            "46     13      1     10  ...            0               7     23\n",
            "462    21      2      7  ...            0               4      6\n",
            "610     2     11      3  ...            0               7     14\n",
            "504     6      9      1  ...            0               7     22\n",
            "475     0      6      2  ...            0               0     29\n",
            "301     2      5      3  ...            0               8     14\n",
            "107     6      4      9  ...            0               6     22\n",
            "605     2      3      2  ...            0               5     14\n",
            "\n",
            "[191 rows x 8 columns] 546     5\n",
            "0      10\n",
            "404    10\n",
            "71      4\n",
            "263     5\n",
            "102     5\n",
            "435     6\n",
            "108     7\n",
            "342     9\n",
            "205     5\n",
            "578     8\n",
            "334    13\n",
            "298     6\n",
            "447     9\n",
            "317     7\n",
            "456     1\n",
            "405     5\n",
            "181     5\n",
            "386     9\n",
            "179     7\n",
            "603     9\n",
            "26      2\n",
            "68      9\n",
            "492     1\n",
            "494     3\n",
            "245     2\n",
            "432     6\n",
            "489     5\n",
            "3       9\n",
            "134     9\n",
            "       ..\n",
            "543    10\n",
            "544     2\n",
            "265     2\n",
            "288     5\n",
            "423     7\n",
            "147     6\n",
            "177     2\n",
            "99      9\n",
            "448    10\n",
            "431     3\n",
            "115     5\n",
            "72      9\n",
            "537     5\n",
            "626     8\n",
            "174     2\n",
            "87      2\n",
            "551     1\n",
            "486    10\n",
            "314    13\n",
            "396     2\n",
            "600     8\n",
            "472     7\n",
            "70      5\n",
            "599     1\n",
            "277    12\n",
            "9       1\n",
            "359     3\n",
            "192     6\n",
            "629     8\n",
            "559     2\n",
            "Name: winner, Length: 445, dtype: int64 453     5\n",
            "482     5\n",
            "516     2\n",
            "542     3\n",
            "85      1\n",
            "567     3\n",
            "395     5\n",
            "247     5\n",
            "522     6\n",
            "48      7\n",
            "552     6\n",
            "572     1\n",
            "519     6\n",
            "231     5\n",
            "587    10\n",
            "103     7\n",
            "570    14\n",
            "50      7\n",
            "480     3\n",
            "520     5\n",
            "196     7\n",
            "49      9\n",
            "250     2\n",
            "384     6\n",
            "229     2\n",
            "224     4\n",
            "433     1\n",
            "446     1\n",
            "52      1\n",
            "242     9\n",
            "       ..\n",
            "268     7\n",
            "517     2\n",
            "365     9\n",
            "190     1\n",
            "339     1\n",
            "132     6\n",
            "586     7\n",
            "428     9\n",
            "97      7\n",
            "616     1\n",
            "454     6\n",
            "451     3\n",
            "193     1\n",
            "96      9\n",
            "333     5\n",
            "549     3\n",
            "409     5\n",
            "89      1\n",
            "466     5\n",
            "210     5\n",
            "403     5\n",
            "633    10\n",
            "46     10\n",
            "462     7\n",
            "610     3\n",
            "504     1\n",
            "475     6\n",
            "301     3\n",
            "107     9\n",
            "605     2\n",
            "Name: winner, Length: 191, dtype: int64\n"
          ],
          "name": "stdout"
        }
      ]
    },
    {
      "cell_type": "markdown",
      "metadata": {
        "id": "3_OMS1QCYBdX",
        "colab_type": "text"
      },
      "source": [
        "**Random Forest**"
      ]
    },
    {
      "cell_type": "code",
      "metadata": {
        "id": "bZhEhcuU1z4g",
        "colab_type": "code",
        "outputId": "e3abb45e-899b-4d6e-d6f2-d0a38e8f096f",
        "colab": {
          "base_uri": "https://localhost:8080/",
          "height": 136
        }
      },
      "source": [
        "random_forest=RandomForestClassifier(n_estimators=17,max_depth=5)\n",
        "random_forest.fit(x_train,y_train)"
      ],
      "execution_count": 0,
      "outputs": [
        {
          "output_type": "execute_result",
          "data": {
            "text/plain": [
              "RandomForestClassifier(bootstrap=True, class_weight=None, criterion='gini',\n",
              "            max_depth=5, max_features='auto', max_leaf_nodes=None,\n",
              "            min_impurity_decrease=0.0, min_impurity_split=None,\n",
              "            min_samples_leaf=1, min_samples_split=2,\n",
              "            min_weight_fraction_leaf=0.0, n_estimators=17, n_jobs=None,\n",
              "            oob_score=False, random_state=None, verbose=0,\n",
              "            warm_start=False)"
            ]
          },
          "metadata": {
            "tags": []
          },
          "execution_count": 59
        }
      ]
    },
    {
      "cell_type": "code",
      "metadata": {
        "id": "ccEt2CGP3iv7",
        "colab_type": "code",
        "colab": {}
      },
      "source": [
        "y_pred=random_forest.predict(x_test)\n",
        "y_pred_train=random_forest.predict(x_train)"
      ],
      "execution_count": 0,
      "outputs": []
    },
    {
      "cell_type": "code",
      "metadata": {
        "id": "5slnoK9R3srv",
        "colab_type": "code",
        "outputId": "0e55fcbd-3113-43b2-d284-d46a06338eaa",
        "colab": {
          "base_uri": "https://localhost:8080/",
          "height": 34
        }
      },
      "source": [
        "acc_score=metrics.accuracy_score(y_test,y_pred) #gives the accuracy of the model\n",
        "print(\"Accuracy of Test:\", acc_score)"
      ],
      "execution_count": 0,
      "outputs": [
        {
          "output_type": "stream",
          "text": [
            "Accuracy of Test: 0.581151832460733\n"
          ],
          "name": "stdout"
        }
      ]
    },
    {
      "cell_type": "markdown",
      "metadata": {
        "id": "FbrufWu5YGud",
        "colab_type": "text"
      },
      "source": [
        "**KNN Classifier**"
      ]
    },
    {
      "cell_type": "code",
      "metadata": {
        "id": "Te_sGE_BRVCo",
        "colab_type": "code",
        "outputId": "57c6a9c2-4860-4a8b-f43b-1c8b1215a5fd",
        "colab": {
          "base_uri": "https://localhost:8080/",
          "height": 68
        }
      },
      "source": [
        "knn=KNeighborsClassifier(n_neighbors=11)\n",
        "knn.fit(x_train,y_train)"
      ],
      "execution_count": 0,
      "outputs": [
        {
          "output_type": "execute_result",
          "data": {
            "text/plain": [
              "KNeighborsClassifier(algorithm='auto', leaf_size=30, metric='minkowski',\n",
              "           metric_params=None, n_jobs=None, n_neighbors=11, p=2,\n",
              "           weights='uniform')"
            ]
          },
          "metadata": {
            "tags": []
          },
          "execution_count": 62
        }
      ]
    },
    {
      "cell_type": "code",
      "metadata": {
        "id": "ixcIBfcVRYFj",
        "colab_type": "code",
        "outputId": "a9a8d0cd-a8af-4fb9-e2ea-d02467330c7d",
        "colab": {
          "base_uri": "https://localhost:8080/",
          "height": 34
        }
      },
      "source": [
        "y_pred=knn.predict(x_test)\n",
        "acc_score=metrics.accuracy_score(y_test,y_pred) #gives the accuracy of the model\n",
        "print(\"Accuracy of Test:\", acc_score)"
      ],
      "execution_count": 0,
      "outputs": [
        {
          "output_type": "stream",
          "text": [
            "Accuracy of Test: 0.31413612565445026\n"
          ],
          "name": "stdout"
        }
      ]
    },
    {
      "cell_type": "code",
      "metadata": {
        "id": "Y777EGaxRd2n",
        "colab_type": "code",
        "outputId": "8213e1b6-821c-4286-8534-e500678639d9",
        "colab": {
          "base_uri": "https://localhost:8080/",
          "height": 34
        }
      },
      "source": [
        "y_pred=knn.predict(x_train)\n",
        "acc_score=metrics.accuracy_score(y_train,y_pred) #gives the accuracy of the model\n",
        "print(\"Accuracy of Train:\", acc_score)"
      ],
      "execution_count": 0,
      "outputs": [
        {
          "output_type": "stream",
          "text": [
            "Accuracy of Train: 0.44719101123595506\n"
          ],
          "name": "stdout"
        }
      ]
    },
    {
      "cell_type": "markdown",
      "metadata": {
        "id": "T18MwsHjYJ-B",
        "colab_type": "text"
      },
      "source": [
        "**Decision Tree**"
      ]
    },
    {
      "cell_type": "code",
      "metadata": {
        "id": "TSaJomRFR3mB",
        "colab_type": "code",
        "outputId": "f94643e9-2f1b-47f8-8165-a01867c83d26",
        "colab": {
          "base_uri": "https://localhost:8080/",
          "height": 119
        }
      },
      "source": [
        "dtree=DecisionTreeClassifier(criterion='entropy',max_depth=16)\n",
        "dtree.fit(x_train,y_train)"
      ],
      "execution_count": 0,
      "outputs": [
        {
          "output_type": "execute_result",
          "data": {
            "text/plain": [
              "DecisionTreeClassifier(class_weight=None, criterion='entropy', max_depth=16,\n",
              "            max_features=None, max_leaf_nodes=None,\n",
              "            min_impurity_decrease=0.0, min_impurity_split=None,\n",
              "            min_samples_leaf=1, min_samples_split=2,\n",
              "            min_weight_fraction_leaf=0.0, presort=False, random_state=None,\n",
              "            splitter='best')"
            ]
          },
          "metadata": {
            "tags": []
          },
          "execution_count": 65
        }
      ]
    },
    {
      "cell_type": "code",
      "metadata": {
        "id": "fqFdLPocSBA6",
        "colab_type": "code",
        "outputId": "bf91a0a3-aec1-4aad-d8fc-0780a6db95c0",
        "colab": {
          "base_uri": "https://localhost:8080/",
          "height": 34
        }
      },
      "source": [
        "y_pred=dtree.predict(x_test)\n",
        "acc_score=metrics.accuracy_score(y_test,y_pred) #gives the accuracy of the model\n",
        "print(\"Accuracy of Test:\", acc_score)"
      ],
      "execution_count": 0,
      "outputs": [
        {
          "output_type": "stream",
          "text": [
            "Accuracy of Test: 0.9267015706806283\n"
          ],
          "name": "stdout"
        }
      ]
    },
    {
      "cell_type": "code",
      "metadata": {
        "id": "al33AXTQSB4Y",
        "colab_type": "code",
        "outputId": "ae5e536f-4f4f-49cb-efff-6ce244d3887c",
        "colab": {
          "base_uri": "https://localhost:8080/",
          "height": 34
        }
      },
      "source": [
        "y_pred=dtree.predict(x_train)\n",
        "acc_score = metrics.accuracy_score(y_train,y_pred)\n",
        "print(\"Accuracy of Train:\", acc_score)"
      ],
      "execution_count": 0,
      "outputs": [
        {
          "output_type": "stream",
          "text": [
            "Accuracy of Train: 1.0\n"
          ],
          "name": "stdout"
        }
      ]
    },
    {
      "cell_type": "markdown",
      "metadata": {
        "id": "YbnqTAtsYMb5",
        "colab_type": "text"
      },
      "source": [
        "**Logistic Regression**"
      ]
    },
    {
      "cell_type": "code",
      "metadata": {
        "id": "2JF_FVgBSDxt",
        "colab_type": "code",
        "outputId": "21095c5a-42d0-4054-c4a6-539b212dfae3",
        "colab": {
          "base_uri": "https://localhost:8080/",
          "height": 173
        }
      },
      "source": [
        "logreg = LogisticRegression()\n",
        "logreg.fit(x_train, y_train)"
      ],
      "execution_count": 0,
      "outputs": [
        {
          "output_type": "stream",
          "text": [
            "/usr/local/lib/python3.6/dist-packages/sklearn/linear_model/logistic.py:433: FutureWarning: Default solver will be changed to 'lbfgs' in 0.22. Specify a solver to silence this warning.\n",
            "  FutureWarning)\n",
            "/usr/local/lib/python3.6/dist-packages/sklearn/linear_model/logistic.py:460: FutureWarning: Default multi_class will be changed to 'auto' in 0.22. Specify the multi_class option to silence this warning.\n",
            "  \"this warning.\", FutureWarning)\n"
          ],
          "name": "stderr"
        },
        {
          "output_type": "execute_result",
          "data": {
            "text/plain": [
              "LogisticRegression(C=1.0, class_weight=None, dual=False, fit_intercept=True,\n",
              "          intercept_scaling=1, max_iter=100, multi_class='warn',\n",
              "          n_jobs=None, penalty='l2', random_state=None, solver='warn',\n",
              "          tol=0.0001, verbose=0, warm_start=False)"
            ]
          },
          "metadata": {
            "tags": []
          },
          "execution_count": 68
        }
      ]
    },
    {
      "cell_type": "code",
      "metadata": {
        "id": "fU9B8zR_SFwk",
        "colab_type": "code",
        "outputId": "b336e851-0781-4eb3-a3ad-0d0b4fb0eefa",
        "colab": {
          "base_uri": "https://localhost:8080/",
          "height": 34
        }
      },
      "source": [
        "y_pred=logreg.predict(x_test)\n",
        "acc_score=metrics.accuracy_score(y_test,y_pred) #gives the accuracy of the model\n",
        "print(\"Accuracy of Test:\", acc_score)"
      ],
      "execution_count": 0,
      "outputs": [
        {
          "output_type": "stream",
          "text": [
            "Accuracy of Test: 0.3036649214659686\n"
          ],
          "name": "stdout"
        }
      ]
    },
    {
      "cell_type": "code",
      "metadata": {
        "id": "jZg6dl1ISHzt",
        "colab_type": "code",
        "outputId": "3db33511-798f-4089-df9a-dee1ba2bf4fd",
        "colab": {
          "base_uri": "https://localhost:8080/",
          "height": 34
        }
      },
      "source": [
        "y_pred=logreg.predict(x_train)\n",
        "acc_score = metrics.accuracy_score(y_train,y_pred)\n",
        "print(\"Accuracy of Train:\", acc_score)"
      ],
      "execution_count": 0,
      "outputs": [
        {
          "output_type": "stream",
          "text": [
            "Accuracy of Train: 0.3415730337078652\n"
          ],
          "name": "stdout"
        }
      ]
    },
    {
      "cell_type": "markdown",
      "metadata": {
        "id": "eFJEfiN-YQIw",
        "colab_type": "text"
      },
      "source": [
        "**SVM**"
      ]
    },
    {
      "cell_type": "code",
      "metadata": {
        "id": "rexBA2G9SMoj",
        "colab_type": "code",
        "outputId": "c0bb094f-81e5-48bb-bb24-3fe4ada832df",
        "colab": {
          "base_uri": "https://localhost:8080/",
          "height": 34
        }
      },
      "source": [
        "svm=SVC(kernel='linear')  \n",
        "svm.fit(x_train,y_train)`\n",
        "y_pred=svm.predict(x_test)\n",
        "y_pred_train=svm.predict(x_train) #y_pred is prediction of test data\n",
        "acc_score=metrics.accuracy_score(y_test,y_pred) #gives the accuracy of the model\n",
        "print(\"Accuracy of Test:\", acc_score)"
      ],
      "execution_count": 0,
      "outputs": [
        {
          "output_type": "stream",
          "text": [
            "Accuracy of Test: 0.3089005235602094\n"
          ],
          "name": "stdout"
        }
      ]
    },
    {
      "cell_type": "code",
      "metadata": {
        "id": "WVZVwQUxSOuX",
        "colab_type": "code",
        "outputId": "44326023-ee1e-40b0-f25b-3d9a19beeae6",
        "colab": {
          "base_uri": "https://localhost:8080/",
          "height": 34
        }
      },
      "source": [
        "acc_score = metrics.accuracy_score(y_train,y_pred_train)\n",
        "print(\"Accuracy of Train:\", acc_score)"
      ],
      "execution_count": 0,
      "outputs": [
        {
          "output_type": "stream",
          "text": [
            "Accuracy of Train: 0.44269662921348313\n"
          ],
          "name": "stdout"
        }
      ]
    },
    {
      "cell_type": "code",
      "metadata": {
        "id": "QqUcR9nvx560",
        "colab_type": "code",
        "outputId": "8281dc8a-c3a6-44ae-a07f-5537e2a7d70f",
        "colab": {
          "base_uri": "https://localhost:8080/",
          "height": 117
        }
      },
      "source": [
        "x.head(52).tail(1)"
      ],
      "execution_count": 0,
      "outputs": [
        {
          "output_type": "execute_result",
          "data": {
            "text/html": [
              "<div>\n",
              "<style scoped>\n",
              "    .dataframe tbody tr th:only-of-type {\n",
              "        vertical-align: middle;\n",
              "    }\n",
              "\n",
              "    .dataframe tbody tr th {\n",
              "        vertical-align: top;\n",
              "    }\n",
              "\n",
              "    .dataframe thead th {\n",
              "        text-align: right;\n",
              "    }\n",
              "</style>\n",
              "<table border=\"1\" class=\"dataframe\">\n",
              "  <thead>\n",
              "    <tr style=\"text-align: right;\">\n",
              "      <th></th>\n",
              "      <th>id</th>\n",
              "      <th>season</th>\n",
              "      <th>city</th>\n",
              "      <th>date</th>\n",
              "      <th>team1</th>\n",
              "      <th>team2</th>\n",
              "      <th>toss_winner</th>\n",
              "      <th>toss_decision</th>\n",
              "      <th>result</th>\n",
              "      <th>dl_applied</th>\n",
              "      <th>winner</th>\n",
              "      <th>win_by_runs</th>\n",
              "      <th>win_by_wickets</th>\n",
              "      <th>player_of_match</th>\n",
              "      <th>venue</th>\n",
              "      <th>umpire1</th>\n",
              "      <th>umpire2</th>\n",
              "    </tr>\n",
              "  </thead>\n",
              "  <tbody>\n",
              "    <tr>\n",
              "      <th>51</th>\n",
              "      <td>52</td>\n",
              "      <td>2017</td>\n",
              "      <td>17</td>\n",
              "      <td>2017-05-13</td>\n",
              "      <td>8</td>\n",
              "      <td>10</td>\n",
              "      <td>10</td>\n",
              "      <td>1</td>\n",
              "      <td>normal</td>\n",
              "      <td>0</td>\n",
              "      <td>10</td>\n",
              "      <td>0</td>\n",
              "      <td>8</td>\n",
              "      <td>Mohammed Siraj</td>\n",
              "      <td>9</td>\n",
              "      <td>AK Chaudhary</td>\n",
              "      <td>Nitin Menon</td>\n",
              "    </tr>\n",
              "  </tbody>\n",
              "</table>\n",
              "</div>"
            ],
            "text/plain": [
              "    id  season  city  ... venue       umpire1      umpire2\n",
              "51  52    2017    17  ...     9  AK Chaudhary  Nitin Menon\n",
              "\n",
              "[1 rows x 17 columns]"
            ]
          },
          "metadata": {
            "tags": []
          },
          "execution_count": 76
        }
      ]
    },
    {
      "cell_type": "markdown",
      "metadata": {
        "id": "THOCsRxOztbG",
        "colab_type": "text"
      },
      "source": [
        "## **Winner Prediction**"
      ]
    },
    {
      "cell_type": "code",
      "metadata": {
        "id": "7uiIQ5LGT6di",
        "colab_type": "code",
        "outputId": "8997cec1-b750-4ddb-ff95-906380345dd6",
        "colab": {
          "base_uri": "https://localhost:8080/",
          "height": 34
        }
      },
      "source": [
        "dictVal = encode['winner']\n",
        "\n",
        "input=['8','10','10','1','0','10','0','8']\n",
        "input = np.array(input).reshape((1, -1))\n",
        "output=dtree.predict(input)\n",
        "print(list(dictVal.keys())[list(dictVal.values()).index(output)])"
      ],
      "execution_count": 0,
      "outputs": [
        {
          "output_type": "stream",
          "text": [
            "RPS\n"
          ],
          "name": "stdout"
        }
      ]
    },
    {
      "cell_type": "code",
      "metadata": {
        "id": "jffafRAAx-dX",
        "colab_type": "code",
        "colab": {}
      },
      "source": [
        ""
      ],
      "execution_count": 0,
      "outputs": []
    }
  ]
}